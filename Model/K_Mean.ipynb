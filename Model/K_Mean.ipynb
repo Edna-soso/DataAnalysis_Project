{
  "nbformat": 4,
  "nbformat_minor": 0,
  "metadata": {
    "colab": {
      "name": "K-mean.ipynb",
      "provenance": [],
      "authorship_tag": "ABX9TyMHkUSoen/WyRmc44ERRsVF",
      "include_colab_link": true
    },
    "kernelspec": {
      "name": "python3",
      "display_name": "Python 3"
    },
    "language_info": {
      "name": "python"
    }
  },
  "cells": [
    {
      "cell_type": "markdown",
      "metadata": {
        "id": "view-in-github",
        "colab_type": "text"
      },
      "source": [
        "<a href=\"https://colab.research.google.com/github/Edna-soso/DataAnalysis_Project/blob/main/Model/K_Mean.ipynb\" target=\"_parent\"><img src=\"https://colab.research.google.com/assets/colab-badge.svg\" alt=\"Open In Colab\"/></a>"
      ]
    },
    {
      "cell_type": "code",
      "metadata": {
        "colab": {
          "base_uri": "https://localhost:8080/"
        },
        "id": "z49i2cleGvuf",
        "outputId": "7a5bab84-2ca8-417e-82bd-b06e2330dc7c"
      },
      "source": [
        "from google.colab import drive\n",
        "drive.mount('/content/drive')"
      ],
      "execution_count": null,
      "outputs": [
        {
          "output_type": "stream",
          "text": [
            "Drive already mounted at /content/drive; to attempt to forcibly remount, call drive.mount(\"/content/drive\", force_remount=True).\n"
          ],
          "name": "stdout"
        }
      ]
    },
    {
      "cell_type": "code",
      "metadata": {
        "colab": {
          "base_uri": "https://localhost:8080/"
        },
        "id": "M4QDococsRHP",
        "outputId": "b6c76a74-7670-4e92-a38a-c4b856ca6106"
      },
      "source": [
        "!pip install pywedge"
      ],
      "execution_count": null,
      "outputs": [
        {
          "output_type": "stream",
          "text": [
            "Collecting pywedge\n",
            "  Downloading https://files.pythonhosted.org/packages/dc/f4/2d457a2fdb39b48ea78f7de6306a8d45d8c7650c8c8e2cad2dd935bad2d7/pywedge-0.5.1.8-py3-none-any.whl\n",
            "Requirement already satisfied: numpy in /usr/local/lib/python3.7/dist-packages (from pywedge) (1.19.5)\n",
            "Requirement already satisfied: plotly in /usr/local/lib/python3.7/dist-packages (from pywedge) (4.4.1)\n",
            "Requirement already satisfied: xgboost in /usr/local/lib/python3.7/dist-packages (from pywedge) (0.90)\n",
            "Requirement already satisfied: pandas in /usr/local/lib/python3.7/dist-packages (from pywedge) (1.1.5)\n",
            "Requirement already satisfied: tqdm in /usr/local/lib/python3.7/dist-packages (from pywedge) (4.41.1)\n",
            "Requirement already satisfied: scikit-learn in /usr/local/lib/python3.7/dist-packages (from pywedge) (0.22.2.post1)\n",
            "Collecting catboost>0.24\n",
            "\u001b[?25l  Downloading https://files.pythonhosted.org/packages/47/80/8e9c57ec32dfed6ba2922bc5c96462cbf8596ce1a6f5de532ad1e43e53fe/catboost-0.25.1-cp37-none-manylinux1_x86_64.whl (67.3MB)\n",
            "\u001b[K     |████████████████████████████████| 67.3MB 60kB/s \n",
            "\u001b[?25hRequirement already satisfied: imbalanced-learn in /usr/local/lib/python3.7/dist-packages (from pywedge) (0.4.3)\n",
            "Requirement already satisfied: ipywidgets in /usr/local/lib/python3.7/dist-packages (from pywedge) (7.6.3)\n",
            "Requirement already satisfied: retrying>=1.3.3 in /usr/local/lib/python3.7/dist-packages (from plotly->pywedge) (1.3.3)\n",
            "Requirement already satisfied: six in /usr/local/lib/python3.7/dist-packages (from plotly->pywedge) (1.15.0)\n",
            "Requirement already satisfied: scipy in /usr/local/lib/python3.7/dist-packages (from xgboost->pywedge) (1.4.1)\n",
            "Requirement already satisfied: pytz>=2017.2 in /usr/local/lib/python3.7/dist-packages (from pandas->pywedge) (2018.9)\n",
            "Requirement already satisfied: python-dateutil>=2.7.3 in /usr/local/lib/python3.7/dist-packages (from pandas->pywedge) (2.8.1)\n",
            "Requirement already satisfied: joblib>=0.11 in /usr/local/lib/python3.7/dist-packages (from scikit-learn->pywedge) (1.0.1)\n",
            "Requirement already satisfied: matplotlib in /usr/local/lib/python3.7/dist-packages (from catboost>0.24->pywedge) (3.2.2)\n",
            "Requirement already satisfied: graphviz in /usr/local/lib/python3.7/dist-packages (from catboost>0.24->pywedge) (0.10.1)\n",
            "Requirement already satisfied: widgetsnbextension~=3.5.0 in /usr/local/lib/python3.7/dist-packages (from ipywidgets->pywedge) (3.5.1)\n",
            "Requirement already satisfied: nbformat>=4.2.0 in /usr/local/lib/python3.7/dist-packages (from ipywidgets->pywedge) (5.1.3)\n",
            "Requirement already satisfied: ipython>=4.0.0; python_version >= \"3.3\" in /usr/local/lib/python3.7/dist-packages (from ipywidgets->pywedge) (5.5.0)\n",
            "Requirement already satisfied: traitlets>=4.3.1 in /usr/local/lib/python3.7/dist-packages (from ipywidgets->pywedge) (5.0.5)\n",
            "Requirement already satisfied: jupyterlab-widgets>=1.0.0; python_version >= \"3.6\" in /usr/local/lib/python3.7/dist-packages (from ipywidgets->pywedge) (1.0.0)\n",
            "Requirement already satisfied: ipykernel>=4.5.1 in /usr/local/lib/python3.7/dist-packages (from ipywidgets->pywedge) (4.10.1)\n",
            "Requirement already satisfied: cycler>=0.10 in /usr/local/lib/python3.7/dist-packages (from matplotlib->catboost>0.24->pywedge) (0.10.0)\n",
            "Requirement already satisfied: pyparsing!=2.0.4,!=2.1.2,!=2.1.6,>=2.0.1 in /usr/local/lib/python3.7/dist-packages (from matplotlib->catboost>0.24->pywedge) (2.4.7)\n",
            "Requirement already satisfied: kiwisolver>=1.0.1 in /usr/local/lib/python3.7/dist-packages (from matplotlib->catboost>0.24->pywedge) (1.3.1)\n",
            "Requirement already satisfied: notebook>=4.4.1 in /usr/local/lib/python3.7/dist-packages (from widgetsnbextension~=3.5.0->ipywidgets->pywedge) (5.3.1)\n",
            "Requirement already satisfied: jupyter-core in /usr/local/lib/python3.7/dist-packages (from nbformat>=4.2.0->ipywidgets->pywedge) (4.7.1)\n",
            "Requirement already satisfied: jsonschema!=2.5.0,>=2.4 in /usr/local/lib/python3.7/dist-packages (from nbformat>=4.2.0->ipywidgets->pywedge) (2.6.0)\n",
            "Requirement already satisfied: ipython-genutils in /usr/local/lib/python3.7/dist-packages (from nbformat>=4.2.0->ipywidgets->pywedge) (0.2.0)\n",
            "Requirement already satisfied: prompt-toolkit<2.0.0,>=1.0.4 in /usr/local/lib/python3.7/dist-packages (from ipython>=4.0.0; python_version >= \"3.3\"->ipywidgets->pywedge) (1.0.18)\n",
            "Requirement already satisfied: decorator in /usr/local/lib/python3.7/dist-packages (from ipython>=4.0.0; python_version >= \"3.3\"->ipywidgets->pywedge) (4.4.2)\n",
            "Requirement already satisfied: pygments in /usr/local/lib/python3.7/dist-packages (from ipython>=4.0.0; python_version >= \"3.3\"->ipywidgets->pywedge) (2.6.1)\n",
            "Requirement already satisfied: pickleshare in /usr/local/lib/python3.7/dist-packages (from ipython>=4.0.0; python_version >= \"3.3\"->ipywidgets->pywedge) (0.7.5)\n",
            "Requirement already satisfied: simplegeneric>0.8 in /usr/local/lib/python3.7/dist-packages (from ipython>=4.0.0; python_version >= \"3.3\"->ipywidgets->pywedge) (0.8.1)\n",
            "Requirement already satisfied: setuptools>=18.5 in /usr/local/lib/python3.7/dist-packages (from ipython>=4.0.0; python_version >= \"3.3\"->ipywidgets->pywedge) (56.1.0)\n",
            "Requirement already satisfied: pexpect; sys_platform != \"win32\" in /usr/local/lib/python3.7/dist-packages (from ipython>=4.0.0; python_version >= \"3.3\"->ipywidgets->pywedge) (4.8.0)\n",
            "Requirement already satisfied: jupyter-client in /usr/local/lib/python3.7/dist-packages (from ipykernel>=4.5.1->ipywidgets->pywedge) (5.3.5)\n",
            "Requirement already satisfied: tornado>=4.0 in /usr/local/lib/python3.7/dist-packages (from ipykernel>=4.5.1->ipywidgets->pywedge) (5.1.1)\n",
            "Requirement already satisfied: terminado>=0.8.1 in /usr/local/lib/python3.7/dist-packages (from notebook>=4.4.1->widgetsnbextension~=3.5.0->ipywidgets->pywedge) (0.10.0)\n",
            "Requirement already satisfied: Send2Trash in /usr/local/lib/python3.7/dist-packages (from notebook>=4.4.1->widgetsnbextension~=3.5.0->ipywidgets->pywedge) (1.5.0)\n",
            "Requirement already satisfied: nbconvert in /usr/local/lib/python3.7/dist-packages (from notebook>=4.4.1->widgetsnbextension~=3.5.0->ipywidgets->pywedge) (5.6.1)\n",
            "Requirement already satisfied: jinja2 in /usr/local/lib/python3.7/dist-packages (from notebook>=4.4.1->widgetsnbextension~=3.5.0->ipywidgets->pywedge) (2.11.3)\n",
            "Requirement already satisfied: wcwidth in /usr/local/lib/python3.7/dist-packages (from prompt-toolkit<2.0.0,>=1.0.4->ipython>=4.0.0; python_version >= \"3.3\"->ipywidgets->pywedge) (0.2.5)\n",
            "Requirement already satisfied: ptyprocess>=0.5 in /usr/local/lib/python3.7/dist-packages (from pexpect; sys_platform != \"win32\"->ipython>=4.0.0; python_version >= \"3.3\"->ipywidgets->pywedge) (0.7.0)\n",
            "Requirement already satisfied: pyzmq>=13 in /usr/local/lib/python3.7/dist-packages (from jupyter-client->ipykernel>=4.5.1->ipywidgets->pywedge) (22.0.3)\n",
            "Requirement already satisfied: defusedxml in /usr/local/lib/python3.7/dist-packages (from nbconvert->notebook>=4.4.1->widgetsnbextension~=3.5.0->ipywidgets->pywedge) (0.7.1)\n",
            "Requirement already satisfied: bleach in /usr/local/lib/python3.7/dist-packages (from nbconvert->notebook>=4.4.1->widgetsnbextension~=3.5.0->ipywidgets->pywedge) (3.3.0)\n",
            "Requirement already satisfied: entrypoints>=0.2.2 in /usr/local/lib/python3.7/dist-packages (from nbconvert->notebook>=4.4.1->widgetsnbextension~=3.5.0->ipywidgets->pywedge) (0.3)\n",
            "Requirement already satisfied: testpath in /usr/local/lib/python3.7/dist-packages (from nbconvert->notebook>=4.4.1->widgetsnbextension~=3.5.0->ipywidgets->pywedge) (0.5.0)\n",
            "Requirement already satisfied: pandocfilters>=1.4.1 in /usr/local/lib/python3.7/dist-packages (from nbconvert->notebook>=4.4.1->widgetsnbextension~=3.5.0->ipywidgets->pywedge) (1.4.3)\n",
            "Requirement already satisfied: mistune<2,>=0.8.1 in /usr/local/lib/python3.7/dist-packages (from nbconvert->notebook>=4.4.1->widgetsnbextension~=3.5.0->ipywidgets->pywedge) (0.8.4)\n",
            "Requirement already satisfied: MarkupSafe>=0.23 in /usr/local/lib/python3.7/dist-packages (from jinja2->notebook>=4.4.1->widgetsnbextension~=3.5.0->ipywidgets->pywedge) (2.0.1)\n",
            "Requirement already satisfied: webencodings in /usr/local/lib/python3.7/dist-packages (from bleach->nbconvert->notebook>=4.4.1->widgetsnbextension~=3.5.0->ipywidgets->pywedge) (0.5.1)\n",
            "Requirement already satisfied: packaging in /usr/local/lib/python3.7/dist-packages (from bleach->nbconvert->notebook>=4.4.1->widgetsnbextension~=3.5.0->ipywidgets->pywedge) (20.9)\n",
            "Installing collected packages: catboost, pywedge\n",
            "Successfully installed catboost-0.25.1 pywedge-0.5.1.8\n"
          ],
          "name": "stdout"
        }
      ]
    },
    {
      "cell_type": "code",
      "metadata": {
        "id": "ytoYLhGfHih2"
      },
      "source": [
        "from sklearn.preprocessing import StandardScaler\n",
        "from sklearn.cluster import KMeans\n",
        "import matplotlib.pyplot as plt\n",
        "from matplotlib.gridspec import GridSpec\n",
        "import plotly.express as px\n",
        "import seaborn as sns\n",
        "import numpy as np\n",
        "import pandas as pd\n",
        "from google.colab import files\n",
        "import seaborn as sns\n",
        "from sklearn.preprocessing import LabelEncoder"
      ],
      "execution_count": null,
      "outputs": []
    },
    {
      "cell_type": "code",
      "metadata": {
        "id": "JriKWvH20G5d"
      },
      "source": [
        "rfm_segmentation = pd.read_csv('/content/drive/MyDrive/python_OP/RFM_data.csv', encoding = 'unicode_escape')"
      ],
      "execution_count": null,
      "outputs": []
    },
    {
      "cell_type": "code",
      "metadata": {
        "id": "mWF1UryfOmQt"
      },
      "source": [
        "class K_means:\n",
        "  def __init__(self,rfm_segmentation):\n",
        "    self.rfm_segmentation=rfm_segmentation\n",
        "  def right_treat(self):\n",
        "    if var <= 0:\n",
        "        return 1\n",
        "    else:\n",
        "        return var\n",
        "  def Apply_Nor(self):\n",
        "    self.rfm_segmentation['Recency'] = self.rfm_segmentation['Recency'].apply(lambda x : right_treat(x))\n",
        "    self.rfm_segmentation['Monetary'] = self.rfm_segmentation['Monetary'].apply(lambda x : right_treat(x))\n",
        "  def Check_Skew(self):\n",
        "    print('Recency Skewness : ' + self.rfm_segmentation['Recency'].skew().astype(str))\n",
        "    print('Frequency Skewness : ' + self.rfm_segmentation['Frequency'].skew().astype(str))\n",
        "    print('Monetary Skewness : ' + self.rfm_segmentation['Monetary'].skew().astype(str))\n",
        "  def Pre_KMean(self):\n",
        "    log_RFM_data = self.rfm_segmentation[['Recency','Frequency','Monetary']].apply(np.log,axis = 1).round(4)\n",
        "    ss = StandardScaler()\n",
        "    Scaled_RFM_data = ss.fit_transform(log_RFM_data)\n",
        "    Scaled_RFM_data = pd.DataFrame(Scaled_RFM_data,columns=log_RFM_data.columns,index=log_RFM_data.index)\n",
        "  def Optimal(self):\n",
        "    \"\"\"Store it separately for clustering\"\"\"\n",
        "    SS_distance = {}\n",
        "    for k in range(1,20):\n",
        "      mod = KMeans(n_clusters= k, max_iter=1000,init = 'k-means++')\n",
        "      mod = mod.fit(Scaled_RFM_data)\n",
        "      SS_distance[k] = mod.inertia_\n",
        "\n",
        "    \"\"\" Plot ks vs inertias\"\"\"\n",
        "    plt.figure(figsize = (15,5))\n",
        "    sns.pointplot(x = list(SS_distance.keys()), y = list(SS_distance.values()))\n",
        "    plt.xlabel(\"Number of clusters\")\n",
        "    plt.ylabel(\"Sum of square Distances\")\n",
        "    plt.title(\"Elbow Techinque to find the optimal cluster size\")\n",
        "  def Perform_KMeans(self):\n",
        "    KM_clust = KMeans(n_clusters= 3, init = 'k-means++',max_iter = 1000)\n",
        "    KM_clust.fit(Scaled_RFM_data)\n",
        "    self.rfm_segmentation['Cluster'] = KM_clust.labels_\n",
        "    self.rfm_segmentation['Cluster'] = 'Cluster' + self.rfm_segmentation['Cluster'].astype(str)\n",
        "    return self.rfm_segmentation\n",
        "  def Data(self):\n",
        "    self.rfm_segmentation"
      ],
      "execution_count": null,
      "outputs": []
    },
    {
      "cell_type": "code",
      "metadata": {
        "colab": {
          "base_uri": "https://localhost:8080/",
          "height": 401
        },
        "id": "fOV8JPfSR2q9",
        "outputId": "7d9d29ff-d194-4b2e-c5b1-bc9f7f045b9b"
      },
      "source": [
        "df=K_means(RFM_data)\n",
        "df.Apply_Nor()\n",
        "df.Data()\n",
        "df.Check_Skew()\n",
        "df.Pre_KMean()\n",
        "df.Optimal()\n",
        "df.Pre_KMean()"
      ],
      "execution_count": null,
      "outputs": [
        {
          "output_type": "stream",
          "text": [
            "Recency Skewness : 1.2578896378884323\n",
            "Frequency Skewness : 17.977687113494753\n",
            "Monetary Skewness : 20.65739322066744\n"
          ],
          "name": "stdout"
        },
        {
          "output_type": "display_data",
          "data": {
            "image/png": "[encoded data removed]",
            "text/plain": [
              "<Figure size 1080x360 with 1 Axes>"
            ]
          },
          "metadata": {
            "tags": [],
            "needs_background": "light"
          }
        }
      ]
    },
    {
      "cell_type": "code",
      "metadata": {
        "colab": {
          "base_uri": "https://localhost:8080/",
          "height": 419
        },
        "id": "9nSpIK9_66vS",
        "outputId": "6ec03a06-dd65-4b7b-d4fc-53b57487e747"
      },
      "source": [
        "df.Perform_KMeans()"
      ],
      "execution_count": null,
      "outputs": [
        {
          "output_type": "execute_result",
          "data": {
            "text/html": [
              "<div>\n",
              "<style scoped>\n",
              "    .dataframe tbody tr th:only-of-type {\n",
              "        vertical-align: middle;\n",
              "    }\n",
              "\n",
              "    .dataframe tbody tr th {\n",
              "        vertical-align: top;\n",
              "    }\n",
              "\n",
              "    .dataframe thead th {\n",
              "        text-align: right;\n",
              "    }\n",
              "</style>\n",
              "<table border=\"1\" class=\"dataframe\">\n",
              "  <thead>\n",
              "    <tr style=\"text-align: right;\">\n",
              "      <th></th>\n",
              "      <th>Unnamed: 0</th>\n",
              "      <th>CustomerID</th>\n",
              "      <th>Recency</th>\n",
              "      <th>Frequency</th>\n",
              "      <th>Monetary</th>\n",
              "      <th>R_score</th>\n",
              "      <th>F_score</th>\n",
              "      <th>M_score</th>\n",
              "      <th>RFM_Group</th>\n",
              "      <th>RFM_Score</th>\n",
              "      <th>RFM_Loyality_level</th>\n",
              "      <th>Cluster</th>\n",
              "    </tr>\n",
              "  </thead>\n",
              "  <tbody>\n",
              "    <tr>\n",
              "      <th>0</th>\n",
              "      <td>0</td>\n",
              "      <td>12347.0</td>\n",
              "      <td>2</td>\n",
              "      <td>182</td>\n",
              "      <td>4310.00</td>\n",
              "      <td>1</td>\n",
              "      <td>1</td>\n",
              "      <td>1</td>\n",
              "      <td>111</td>\n",
              "      <td>3</td>\n",
              "      <td>True Lover</td>\n",
              "      <td>Cluster1</td>\n",
              "    </tr>\n",
              "    <tr>\n",
              "      <th>1</th>\n",
              "      <td>1</td>\n",
              "      <td>12348.0</td>\n",
              "      <td>75</td>\n",
              "      <td>31</td>\n",
              "      <td>1797.24</td>\n",
              "      <td>3</td>\n",
              "      <td>3</td>\n",
              "      <td>1</td>\n",
              "      <td>331</td>\n",
              "      <td>7</td>\n",
              "      <td>Flirting</td>\n",
              "      <td>Cluster2</td>\n",
              "    </tr>\n",
              "    <tr>\n",
              "      <th>2</th>\n",
              "      <td>2</td>\n",
              "      <td>12349.0</td>\n",
              "      <td>18</td>\n",
              "      <td>73</td>\n",
              "      <td>1757.55</td>\n",
              "      <td>2</td>\n",
              "      <td>2</td>\n",
              "      <td>1</td>\n",
              "      <td>221</td>\n",
              "      <td>5</td>\n",
              "      <td>True Lover</td>\n",
              "      <td>Cluster2</td>\n",
              "    </tr>\n",
              "    <tr>\n",
              "      <th>3</th>\n",
              "      <td>3</td>\n",
              "      <td>12350.0</td>\n",
              "      <td>310</td>\n",
              "      <td>17</td>\n",
              "      <td>334.40</td>\n",
              "      <td>4</td>\n",
              "      <td>4</td>\n",
              "      <td>3</td>\n",
              "      <td>443</td>\n",
              "      <td>11</td>\n",
              "      <td>Platonic Friend</td>\n",
              "      <td>Cluster0</td>\n",
              "    </tr>\n",
              "    <tr>\n",
              "      <th>4</th>\n",
              "      <td>4</td>\n",
              "      <td>12352.0</td>\n",
              "      <td>36</td>\n",
              "      <td>85</td>\n",
              "      <td>2506.04</td>\n",
              "      <td>2</td>\n",
              "      <td>2</td>\n",
              "      <td>1</td>\n",
              "      <td>221</td>\n",
              "      <td>5</td>\n",
              "      <td>True Lover</td>\n",
              "      <td>Cluster2</td>\n",
              "    </tr>\n",
              "    <tr>\n",
              "      <th>...</th>\n",
              "      <td>...</td>\n",
              "      <td>...</td>\n",
              "      <td>...</td>\n",
              "      <td>...</td>\n",
              "      <td>...</td>\n",
              "      <td>...</td>\n",
              "      <td>...</td>\n",
              "      <td>...</td>\n",
              "      <td>...</td>\n",
              "      <td>...</td>\n",
              "      <td>...</td>\n",
              "      <td>...</td>\n",
              "    </tr>\n",
              "    <tr>\n",
              "      <th>4234</th>\n",
              "      <td>4234</td>\n",
              "      <td>18280.0</td>\n",
              "      <td>277</td>\n",
              "      <td>10</td>\n",
              "      <td>180.60</td>\n",
              "      <td>4</td>\n",
              "      <td>4</td>\n",
              "      <td>4</td>\n",
              "      <td>444</td>\n",
              "      <td>12</td>\n",
              "      <td>Platonic Friend</td>\n",
              "      <td>Cluster0</td>\n",
              "    </tr>\n",
              "    <tr>\n",
              "      <th>4235</th>\n",
              "      <td>4235</td>\n",
              "      <td>18281.0</td>\n",
              "      <td>180</td>\n",
              "      <td>7</td>\n",
              "      <td>80.82</td>\n",
              "      <td>4</td>\n",
              "      <td>4</td>\n",
              "      <td>4</td>\n",
              "      <td>444</td>\n",
              "      <td>12</td>\n",
              "      <td>Platonic Friend</td>\n",
              "      <td>Cluster0</td>\n",
              "    </tr>\n",
              "    <tr>\n",
              "      <th>4236</th>\n",
              "      <td>4236</td>\n",
              "      <td>18282.0</td>\n",
              "      <td>7</td>\n",
              "      <td>12</td>\n",
              "      <td>178.05</td>\n",
              "      <td>1</td>\n",
              "      <td>4</td>\n",
              "      <td>4</td>\n",
              "      <td>144</td>\n",
              "      <td>9</td>\n",
              "      <td>Potential lover</td>\n",
              "      <td>Cluster0</td>\n",
              "    </tr>\n",
              "    <tr>\n",
              "      <th>4237</th>\n",
              "      <td>4237</td>\n",
              "      <td>18283.0</td>\n",
              "      <td>3</td>\n",
              "      <td>754</td>\n",
              "      <td>2090.43</td>\n",
              "      <td>1</td>\n",
              "      <td>1</td>\n",
              "      <td>1</td>\n",
              "      <td>111</td>\n",
              "      <td>3</td>\n",
              "      <td>True Lover</td>\n",
              "      <td>Cluster1</td>\n",
              "    </tr>\n",
              "    <tr>\n",
              "      <th>4238</th>\n",
              "      <td>4238</td>\n",
              "      <td>18287.0</td>\n",
              "      <td>42</td>\n",
              "      <td>70</td>\n",
              "      <td>1837.28</td>\n",
              "      <td>2</td>\n",
              "      <td>2</td>\n",
              "      <td>1</td>\n",
              "      <td>221</td>\n",
              "      <td>5</td>\n",
              "      <td>True Lover</td>\n",
              "      <td>Cluster2</td>\n",
              "    </tr>\n",
              "  </tbody>\n",
              "</table>\n",
              "<p>4239 rows × 12 columns</p>\n",
              "</div>"
            ],
            "text/plain": [
              "      Unnamed: 0  CustomerID  Recency  ...  RFM_Score  RFM_Loyality_level   Cluster\n",
              "0              0     12347.0        2  ...          3          True Lover  Cluster1\n",
              "1              1     12348.0       75  ...          7            Flirting  Cluster2\n",
              "2              2     12349.0       18  ...          5          True Lover  Cluster2\n",
              "3              3     12350.0      310  ...         11     Platonic Friend  Cluster0\n",
              "4              4     12352.0       36  ...          5          True Lover  Cluster2\n",
              "...          ...         ...      ...  ...        ...                 ...       ...\n",
              "4234        4234     18280.0      277  ...         12     Platonic Friend  Cluster0\n",
              "4235        4235     18281.0      180  ...         12     Platonic Friend  Cluster0\n",
              "4236        4236     18282.0        7  ...          9     Potential lover  Cluster0\n",
              "4237        4237     18283.0        3  ...          3          True Lover  Cluster1\n",
              "4238        4238     18287.0       42  ...          5          True Lover  Cluster2\n",
              "\n",
              "[4239 rows x 12 columns]"
            ]
          },
          "metadata": {
            "tags": []
          },
          "execution_count": 139
        }
      ]
    },
    {
      "cell_type": "code",
      "metadata": {
        "id": "7zCwGKp_H9m1"
      },
      "source": [
        "RFM_data.to_csv('K-Mean_data.csv') \n",
        "files.download('K-Mean_data.csv')"
      ],
      "execution_count": null,
      "outputs": []
    }
  ]
}