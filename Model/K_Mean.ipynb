{
  "nbformat": 4,
  "nbformat_minor": 0,
  "metadata": {
    "colab": {
      "name": "K-Mean.ipynb",
      "provenance": [],
      "include_colab_link": true
    },
    "kernelspec": {
      "name": "python3",
      "display_name": "Python 3"
    },
    "language_info": {
      "name": "python"
    }
  },
  "cells": [
    {
      "cell_type": "markdown",
      "metadata": {
        "id": "view-in-github",
        "colab_type": "text"
      },
      "source": [
        "<a href=\"https://colab.research.google.com/github/Edna-soso/DataAnalysis_Project/blob/main/Model/K_Mean.ipynb\" target=\"_parent\"><img src=\"https://colab.research.google.com/assets/colab-badge.svg\" alt=\"Open In Colab\"/></a>"
      ]
    },
    {
      "cell_type": "code",
      "metadata": {
        "colab": {
          "base_uri": "https://localhost:8080/"
        },
        "id": "i6KQKVj03XSC",
        "outputId": "64e9dde2-404d-422e-97a0-20abea920442"
      },
      "source": [
        "from google.colab import drive\n",
        "drive.mount('/content/drive')"
      ],
      "execution_count": 1,
      "outputs": [
        {
          "output_type": "stream",
          "text": [
            "Mounted at /content/drive\n"
          ],
          "name": "stdout"
        }
      ]
    },
    {
      "cell_type": "code",
      "metadata": {
        "id": "pXMmY6QXCeaY"
      },
      "source": [
        "from sklearn.preprocessing import StandardScaler\n",
        "from sklearn.cluster import KMeans\n",
        "import matplotlib.pyplot as plt\n",
        "from matplotlib.gridspec import GridSpec\n",
        "import plotly.express as px\n",
        "import seaborn as sns\n",
        "import numpy as np\n",
        "import pandas as pd\n",
        "from google.colab import files\n"
      ],
      "execution_count": 2,
      "outputs": []
    },
    {
      "cell_type": "code",
      "metadata": {
        "id": "Zu4-VEt33THj"
      },
      "source": [
        "RFM_data = pd.read_csv('/content/drive/MyDrive/python_OP/RFM_data.csv', encoding = 'unicode_escape')"
      ],
      "execution_count": 3,
      "outputs": []
    },
    {
      "cell_type": "code",
      "metadata": {
        "colab": {
          "base_uri": "https://localhost:8080/",
          "height": 286
        },
        "id": "EFbtkcpc_lIR",
        "outputId": "4ca7f9d8-1a8d-417d-fed6-4b2d7563c2fa"
      },
      "source": [
        "def right_treat(var):\n",
        "    if var <= 0:\n",
        "        return 1\n",
        "    else:\n",
        "        return var\n",
        "\n",
        "# Describing the data\n",
        "RFM_data.describe()"
      ],
      "execution_count": 4,
      "outputs": [
        {
          "output_type": "execute_result",
          "data": {
            "text/html": [
              "<div>\n",
              "<style scoped>\n",
              "    .dataframe tbody tr th:only-of-type {\n",
              "        vertical-align: middle;\n",
              "    }\n",
              "\n",
              "    .dataframe tbody tr th {\n",
              "        vertical-align: top;\n",
              "    }\n",
              "\n",
              "    .dataframe thead th {\n",
              "        text-align: right;\n",
              "    }\n",
              "</style>\n",
              "<table border=\"1\" class=\"dataframe\">\n",
              "  <thead>\n",
              "    <tr style=\"text-align: right;\">\n",
              "      <th></th>\n",
              "      <th>Unnamed: 0</th>\n",
              "      <th>CustomerID</th>\n",
              "      <th>Recency</th>\n",
              "      <th>Frequency</th>\n",
              "      <th>Monetary</th>\n",
              "      <th>R_score</th>\n",
              "      <th>F_score</th>\n",
              "      <th>M_score</th>\n",
              "      <th>RFM_Group</th>\n",
              "      <th>RFM_Score</th>\n",
              "    </tr>\n",
              "  </thead>\n",
              "  <tbody>\n",
              "    <tr>\n",
              "      <th>count</th>\n",
              "      <td>4239.000000</td>\n",
              "      <td>4239.000000</td>\n",
              "      <td>4239.000000</td>\n",
              "      <td>4239.000000</td>\n",
              "      <td>4239.000000</td>\n",
              "      <td>4239.000000</td>\n",
              "      <td>4239.000000</td>\n",
              "      <td>4239.000000</td>\n",
              "      <td>4239.000000</td>\n",
              "      <td>4239.000000</td>\n",
              "    </tr>\n",
              "    <tr>\n",
              "      <th>mean</th>\n",
              "      <td>2119.000000</td>\n",
              "      <td>15289.066761</td>\n",
              "      <td>91.692852</td>\n",
              "      <td>93.543760</td>\n",
              "      <td>1964.023094</td>\n",
              "      <td>2.495164</td>\n",
              "      <td>2.506487</td>\n",
              "      <td>2.500118</td>\n",
              "      <td>277.081387</td>\n",
              "      <td>7.501769</td>\n",
              "    </tr>\n",
              "    <tr>\n",
              "      <th>std</th>\n",
              "      <td>1223.838225</td>\n",
              "      <td>1718.757878</td>\n",
              "      <td>99.688631</td>\n",
              "      <td>230.625413</td>\n",
              "      <td>8335.006464</td>\n",
              "      <td>1.118050</td>\n",
              "      <td>1.117619</td>\n",
              "      <td>1.118271</td>\n",
              "      <td>118.018310</td>\n",
              "      <td>2.816126</td>\n",
              "    </tr>\n",
              "    <tr>\n",
              "      <th>min</th>\n",
              "      <td>0.000000</td>\n",
              "      <td>12347.000000</td>\n",
              "      <td>0.000000</td>\n",
              "      <td>2.000000</td>\n",
              "      <td>2.900000</td>\n",
              "      <td>1.000000</td>\n",
              "      <td>1.000000</td>\n",
              "      <td>1.000000</td>\n",
              "      <td>111.000000</td>\n",
              "      <td>3.000000</td>\n",
              "    </tr>\n",
              "    <tr>\n",
              "      <th>25%</th>\n",
              "      <td>1059.500000</td>\n",
              "      <td>13810.500000</td>\n",
              "      <td>17.000000</td>\n",
              "      <td>18.000000</td>\n",
              "      <td>308.840000</td>\n",
              "      <td>1.000000</td>\n",
              "      <td>2.000000</td>\n",
              "      <td>1.500000</td>\n",
              "      <td>144.000000</td>\n",
              "      <td>5.000000</td>\n",
              "    </tr>\n",
              "    <tr>\n",
              "      <th>50%</th>\n",
              "      <td>2119.000000</td>\n",
              "      <td>15279.000000</td>\n",
              "      <td>50.000000</td>\n",
              "      <td>42.000000</td>\n",
              "      <td>674.520000</td>\n",
              "      <td>2.000000</td>\n",
              "      <td>3.000000</td>\n",
              "      <td>3.000000</td>\n",
              "      <td>244.000000</td>\n",
              "      <td>8.000000</td>\n",
              "    </tr>\n",
              "    <tr>\n",
              "      <th>75%</th>\n",
              "      <td>3178.500000</td>\n",
              "      <td>16767.500000</td>\n",
              "      <td>141.000000</td>\n",
              "      <td>102.000000</td>\n",
              "      <td>1628.620000</td>\n",
              "      <td>3.000000</td>\n",
              "      <td>4.000000</td>\n",
              "      <td>3.500000</td>\n",
              "      <td>344.000000</td>\n",
              "      <td>10.000000</td>\n",
              "    </tr>\n",
              "    <tr>\n",
              "      <th>max</th>\n",
              "      <td>4238.000000</td>\n",
              "      <td>18287.000000</td>\n",
              "      <td>373.000000</td>\n",
              "      <td>7840.000000</td>\n",
              "      <td>270287.500000</td>\n",
              "      <td>4.000000</td>\n",
              "      <td>4.000000</td>\n",
              "      <td>4.000000</td>\n",
              "      <td>444.000000</td>\n",
              "      <td>12.000000</td>\n",
              "    </tr>\n",
              "  </tbody>\n",
              "</table>\n",
              "</div>"
            ],
            "text/plain": [
              "        Unnamed: 0    CustomerID  ...    RFM_Group    RFM_Score\n",
              "count  4239.000000   4239.000000  ...  4239.000000  4239.000000\n",
              "mean   2119.000000  15289.066761  ...   277.081387     7.501769\n",
              "std    1223.838225   1718.757878  ...   118.018310     2.816126\n",
              "min       0.000000  12347.000000  ...   111.000000     3.000000\n",
              "25%    1059.500000  13810.500000  ...   144.000000     5.000000\n",
              "50%    2119.000000  15279.000000  ...   244.000000     8.000000\n",
              "75%    3178.500000  16767.500000  ...   344.000000    10.000000\n",
              "max    4238.000000  18287.000000  ...   444.000000    12.000000\n",
              "\n",
              "[8 rows x 10 columns]"
            ]
          },
          "metadata": {
            "tags": []
          },
          "execution_count": 4
        }
      ]
    },
    {
      "cell_type": "code",
      "metadata": {
        "colab": {
          "base_uri": "https://localhost:8080/"
        },
        "id": "J5gSE_KZCiPF",
        "outputId": "5ba346af-5cc8-419d-d467-b5d21634e345"
      },
      "source": [
        "#Applying on the data.\n",
        "RFM_data['Recency'] = RFM_data['Recency'].apply(lambda x : right_treat(x))\n",
        "RFM_data['Monetary'] = RFM_data['Monetary'].apply(lambda x : right_treat(x))\n",
        "\n",
        "#Checking the Skewness of R, F and M\n",
        "print('Recency Skewness : ' + RFM_data['Recency'].skew().astype(str))\n",
        "print('Frequency Skewness : ' + RFM_data['Frequency'].skew().astype(str))\n",
        "print('Monetary Skewness : ' + RFM_data['Monetary'].skew().astype(str))"
      ],
      "execution_count": 5,
      "outputs": [
        {
          "output_type": "stream",
          "text": [
            "Recency Skewness : 1.2578896378884323\n",
            "Frequency Skewness : 17.977687113494753\n",
            "Monetary Skewness : 20.65739322066744\n"
          ],
          "name": "stdout"
        }
      ]
    },
    {
      "cell_type": "code",
      "metadata": {
        "id": "yilhdPygClVD"
      },
      "source": [
        "log_RFM_data = RFM_data[['Recency','Frequency','Monetary']].apply(np.log,axis = 1).round(4)"
      ],
      "execution_count": 6,
      "outputs": []
    },
    {
      "cell_type": "code",
      "metadata": {
        "colab": {
          "base_uri": "https://localhost:8080/",
          "height": 859
        },
        "id": "q4BCngyLCnEW",
        "outputId": "010a4101-aeaf-4d46-f6b5-9f584618e5da"
      },
      "source": [
        "#Plot after transformation for the distributions :\n",
        "i = 0\n",
        "fig = plt.figure(constrained_layout = True,figsize = (20,5))\n",
        "gs = GridSpec(1, 3, figure=fig)    \n",
        "\n",
        "col = ['red','blue','green']\n",
        "for var in list(log_RFM_data.columns[0:3]):\n",
        "    plt.subplot(gs[0,i])\n",
        "    sns.distplot(log_RFM_data[var],color= col[i])\n",
        "    plt.title('Skewness ' + ': ' + round(log_RFM_data[var].skew(),2).astype(str))\n",
        "    i= i+1\n",
        "log_RFM_data.describe()"
      ],
      "execution_count": 7,
      "outputs": [
        {
          "output_type": "stream",
          "text": [
            "/usr/local/lib/python3.7/dist-packages/seaborn/distributions.py:2557: FutureWarning:\n",
            "\n",
            "`distplot` is a deprecated function and will be removed in a future version. Please adapt your code to use either `displot` (a figure-level function with similar flexibility) or `histplot` (an axes-level function for histograms).\n",
            "\n",
            "/usr/local/lib/python3.7/dist-packages/seaborn/distributions.py:2557: FutureWarning:\n",
            "\n",
            "`distplot` is a deprecated function and will be removed in a future version. Please adapt your code to use either `displot` (a figure-level function with similar flexibility) or `histplot` (an axes-level function for histograms).\n",
            "\n",
            "/usr/local/lib/python3.7/dist-packages/seaborn/distributions.py:2557: FutureWarning:\n",
            "\n",
            "`distplot` is a deprecated function and will be removed in a future version. Please adapt your code to use either `displot` (a figure-level function with similar flexibility) or `histplot` (an axes-level function for histograms).\n",
            "\n"
          ],
          "name": "stderr"
        },
        {
          "output_type": "execute_result",
          "data": {
            "text/html": [
              "<div>\n",
              "<style scoped>\n",
              "    .dataframe tbody tr th:only-of-type {\n",
              "        vertical-align: middle;\n",
              "    }\n",
              "\n",
              "    .dataframe tbody tr th {\n",
              "        vertical-align: top;\n",
              "    }\n",
              "\n",
              "    .dataframe thead th {\n",
              "        text-align: right;\n",
              "    }\n",
              "</style>\n",
              "<table border=\"1\" class=\"dataframe\">\n",
              "  <thead>\n",
              "    <tr style=\"text-align: right;\">\n",
              "      <th></th>\n",
              "      <th>Recency</th>\n",
              "      <th>Frequency</th>\n",
              "      <th>Monetary</th>\n",
              "    </tr>\n",
              "  </thead>\n",
              "  <tbody>\n",
              "    <tr>\n",
              "      <th>count</th>\n",
              "      <td>4239.000000</td>\n",
              "      <td>4239.000000</td>\n",
              "      <td>4239.000000</td>\n",
              "    </tr>\n",
              "    <tr>\n",
              "      <th>mean</th>\n",
              "      <td>3.737734</td>\n",
              "      <td>3.750115</td>\n",
              "      <td>6.597104</td>\n",
              "    </tr>\n",
              "    <tr>\n",
              "      <th>std</th>\n",
              "      <td>1.468903</td>\n",
              "      <td>1.241810</td>\n",
              "      <td>1.232680</td>\n",
              "    </tr>\n",
              "    <tr>\n",
              "      <th>min</th>\n",
              "      <td>0.000000</td>\n",
              "      <td>0.693100</td>\n",
              "      <td>1.064700</td>\n",
              "    </tr>\n",
              "    <tr>\n",
              "      <th>25%</th>\n",
              "      <td>2.833200</td>\n",
              "      <td>2.890400</td>\n",
              "      <td>5.732800</td>\n",
              "    </tr>\n",
              "    <tr>\n",
              "      <th>50%</th>\n",
              "      <td>3.912000</td>\n",
              "      <td>3.737700</td>\n",
              "      <td>6.514000</td>\n",
              "    </tr>\n",
              "    <tr>\n",
              "      <th>75%</th>\n",
              "      <td>4.948800</td>\n",
              "      <td>4.625000</td>\n",
              "      <td>7.395500</td>\n",
              "    </tr>\n",
              "    <tr>\n",
              "      <th>max</th>\n",
              "      <td>5.921600</td>\n",
              "      <td>8.967000</td>\n",
              "      <td>12.507200</td>\n",
              "    </tr>\n",
              "  </tbody>\n",
              "</table>\n",
              "</div>"
            ],
            "text/plain": [
              "           Recency    Frequency     Monetary\n",
              "count  4239.000000  4239.000000  4239.000000\n",
              "mean      3.737734     3.750115     6.597104\n",
              "std       1.468903     1.241810     1.232680\n",
              "min       0.000000     0.693100     1.064700\n",
              "25%       2.833200     2.890400     5.732800\n",
              "50%       3.912000     3.737700     6.514000\n",
              "75%       4.948800     4.625000     7.395500\n",
              "max       5.921600     8.967000    12.507200"
            ]
          },
          "metadata": {
            "tags": []
          },
          "execution_count": 7
        },
        {
          "output_type": "display_data",
          "data": {
            "image/png": "[encoded data removed]",
            "text/plain": [
              "<Figure size 1440x360 with 3 Axes>"
            ]
          },
          "metadata": {
            "tags": [],
            "needs_background": "light"
          }
        }
      ]
    },
    {
      "cell_type": "code",
      "metadata": {
        "id": "yadqaURqCttO"
      },
      "source": [
        "#Scaling the data\n",
        "\n",
        "\n",
        "ss = StandardScaler()\n",
        "Scaled_RFM_data = ss.fit_transform(log_RFM_data)\n",
        "Scaled_RFM_data = pd.DataFrame(Scaled_RFM_data,columns=log_RFM_data.columns,index=log_RFM_data.index)"
      ],
      "execution_count": 8,
      "outputs": []
    },
    {
      "cell_type": "code",
      "metadata": {
        "id": "sGgHW96tCwti"
      },
      "source": [
        "# Will search the optimal number of cluster based on the Elbow Method as below:\n",
        "SS_distance = {}\n",
        "for k in range(1,20):\n",
        "    mod = KMeans(n_clusters= k, max_iter=1000,init = 'k-means++')\n",
        "    mod = mod.fit(Scaled_RFM_data)\n",
        "    SS_distance[k] = mod.inertia_"
      ],
      "execution_count": 9,
      "outputs": []
    },
    {
      "cell_type": "code",
      "metadata": {
        "colab": {
          "base_uri": "https://localhost:8080/",
          "height": 366
        },
        "id": "5F1n3A8BCyNm",
        "outputId": "1ce9fa16-6079-4e15-c5a2-dd28b3cde93c"
      },
      "source": [
        "#Plotting the sum of square distance values and numbers of clusters\n",
        "plt.figure(figsize = (15,5))\n",
        "sns.pointplot(x = list(SS_distance.keys()), y = list(SS_distance.values()))\n",
        "plt.xlabel(\"Number of clusters\")\n",
        "plt.ylabel(\"Sum of square Distances\")\n",
        "plt.title(\"Elbow Techinque to find the optimal cluster size\")"
      ],
      "execution_count": 10,
      "outputs": [
        {
          "output_type": "execute_result",
          "data": {
            "text/plain": [
              "Text(0.5, 1.0, 'Elbow Techinque to find the optimal cluster size')"
            ]
          },
          "metadata": {
            "tags": []
          },
          "execution_count": 10
        },
        {
          "output_type": "display_data",
          "data": {
            "image/png": "[encoded data removed]",
            "text/plain": [
              "<Figure size 1080x360 with 1 Axes>"
            ]
          },
          "metadata": {
            "tags": [],
            "needs_background": "light"
          }
        }
      ]
    },
    {
      "cell_type": "code",
      "metadata": {
        "colab": {
          "base_uri": "https://localhost:8080/",
          "height": 197
        },
        "id": "GQyi2Gyu6jBN",
        "outputId": "2121bc84-e4e5-46d0-c836-b417f7343fa2"
      },
      "source": [
        "KM_clust = KMeans(n_clusters= 3, init = 'k-means++',max_iter = 1000)\n",
        "KM_clust.fit(Scaled_RFM_data)\n",
        "\n",
        "RFM_data['Cluster'] = KM_clust.labels_\n",
        "RFM_data['Cluster'] = 'Cluster' + RFM_data['Cluster'].astype(str)\n",
        "RFM_data.head()"
      ],
      "execution_count": 11,
      "outputs": [
        {
          "output_type": "execute_result",
          "data": {
            "text/html": [
              "<div>\n",
              "<style scoped>\n",
              "    .dataframe tbody tr th:only-of-type {\n",
              "        vertical-align: middle;\n",
              "    }\n",
              "\n",
              "    .dataframe tbody tr th {\n",
              "        vertical-align: top;\n",
              "    }\n",
              "\n",
              "    .dataframe thead th {\n",
              "        text-align: right;\n",
              "    }\n",
              "</style>\n",
              "<table border=\"1\" class=\"dataframe\">\n",
              "  <thead>\n",
              "    <tr style=\"text-align: right;\">\n",
              "      <th></th>\n",
              "      <th>Unnamed: 0</th>\n",
              "      <th>CustomerID</th>\n",
              "      <th>Recency</th>\n",
              "      <th>Frequency</th>\n",
              "      <th>Monetary</th>\n",
              "      <th>R_score</th>\n",
              "      <th>F_score</th>\n",
              "      <th>M_score</th>\n",
              "      <th>RFM_Group</th>\n",
              "      <th>RFM_Score</th>\n",
              "      <th>RFM_Loyality_level</th>\n",
              "      <th>Cluster</th>\n",
              "    </tr>\n",
              "  </thead>\n",
              "  <tbody>\n",
              "    <tr>\n",
              "      <th>0</th>\n",
              "      <td>0</td>\n",
              "      <td>12347.0</td>\n",
              "      <td>2</td>\n",
              "      <td>182</td>\n",
              "      <td>4310.00</td>\n",
              "      <td>1</td>\n",
              "      <td>1</td>\n",
              "      <td>1</td>\n",
              "      <td>111</td>\n",
              "      <td>3</td>\n",
              "      <td>True Lover</td>\n",
              "      <td>Cluster2</td>\n",
              "    </tr>\n",
              "    <tr>\n",
              "      <th>1</th>\n",
              "      <td>1</td>\n",
              "      <td>12348.0</td>\n",
              "      <td>75</td>\n",
              "      <td>31</td>\n",
              "      <td>1797.24</td>\n",
              "      <td>3</td>\n",
              "      <td>3</td>\n",
              "      <td>1</td>\n",
              "      <td>331</td>\n",
              "      <td>7</td>\n",
              "      <td>Flirting</td>\n",
              "      <td>Cluster1</td>\n",
              "    </tr>\n",
              "    <tr>\n",
              "      <th>2</th>\n",
              "      <td>2</td>\n",
              "      <td>12349.0</td>\n",
              "      <td>18</td>\n",
              "      <td>73</td>\n",
              "      <td>1757.55</td>\n",
              "      <td>2</td>\n",
              "      <td>2</td>\n",
              "      <td>1</td>\n",
              "      <td>221</td>\n",
              "      <td>5</td>\n",
              "      <td>True Lover</td>\n",
              "      <td>Cluster1</td>\n",
              "    </tr>\n",
              "    <tr>\n",
              "      <th>3</th>\n",
              "      <td>3</td>\n",
              "      <td>12350.0</td>\n",
              "      <td>310</td>\n",
              "      <td>17</td>\n",
              "      <td>334.40</td>\n",
              "      <td>4</td>\n",
              "      <td>4</td>\n",
              "      <td>3</td>\n",
              "      <td>443</td>\n",
              "      <td>11</td>\n",
              "      <td>Platonic Friend</td>\n",
              "      <td>Cluster0</td>\n",
              "    </tr>\n",
              "    <tr>\n",
              "      <th>4</th>\n",
              "      <td>4</td>\n",
              "      <td>12352.0</td>\n",
              "      <td>36</td>\n",
              "      <td>85</td>\n",
              "      <td>2506.04</td>\n",
              "      <td>2</td>\n",
              "      <td>2</td>\n",
              "      <td>1</td>\n",
              "      <td>221</td>\n",
              "      <td>5</td>\n",
              "      <td>True Lover</td>\n",
              "      <td>Cluster1</td>\n",
              "    </tr>\n",
              "  </tbody>\n",
              "</table>\n",
              "</div>"
            ],
            "text/plain": [
              "   Unnamed: 0  CustomerID  Recency  ...  RFM_Score  RFM_Loyality_level   Cluster\n",
              "0           0     12347.0        2  ...          3          True Lover  Cluster2\n",
              "1           1     12348.0       75  ...          7            Flirting  Cluster1\n",
              "2           2     12349.0       18  ...          5          True Lover  Cluster1\n",
              "3           3     12350.0      310  ...         11     Platonic Friend  Cluster0\n",
              "4           4     12352.0       36  ...          5          True Lover  Cluster1\n",
              "\n",
              "[5 rows x 12 columns]"
            ]
          },
          "metadata": {
            "tags": []
          },
          "execution_count": 11
        }
      ]
    },
    {
      "cell_type": "code",
      "metadata": {
        "id": "USQ9m9bLB1Jw",
        "outputId": "a1949f78-b368-4675-d41f-85a156eb965f",
        "colab": {
          "base_uri": "https://localhost:8080/",
          "height": 17
        }
      },
      "source": [
        "RFM_data.to_csv('K-Mean_data.csv') \n",
        "files.download('K-Mean_data.csv')"
      ],
      "execution_count": 13,
      "outputs": [
        {
          "output_type": "display_data",
          "data": {
            "application/javascript": [
              "\n",
              "    async function download(id, filename, size) {\n",
              "      if (!google.colab.kernel.accessAllowed) {\n",
              "        return;\n",
              "      }\n",
              "      const div = document.createElement('div');\n",
              "      const label = document.createElement('label');\n",
              "      label.textContent = `Downloading \"${filename}\": `;\n",
              "      div.appendChild(label);\n",
              "      const progress = document.createElement('progress');\n",
              "      progress.max = size;\n",
              "      div.appendChild(progress);\n",
              "      document.body.appendChild(div);\n",
              "\n",
              "      const buffers = [];\n",
              "      let downloaded = 0;\n",
              "\n",
              "      const channel = await google.colab.kernel.comms.open(id);\n",
              "      // Send a message to notify the kernel that we're ready.\n",
              "      channel.send({})\n",
              "\n",
              "      for await (const message of channel.messages) {\n",
              "        // Send a message to notify the kernel that we're ready.\n",
              "        channel.send({})\n",
              "        if (message.buffers) {\n",
              "          for (const buffer of message.buffers) {\n",
              "            buffers.push(buffer);\n",
              "            downloaded += buffer.byteLength;\n",
              "            progress.value = downloaded;\n",
              "          }\n",
              "        }\n",
              "      }\n",
              "      const blob = new Blob(buffers, {type: 'application/binary'});\n",
              "      const a = document.createElement('a');\n",
              "      a.href = window.URL.createObjectURL(blob);\n",
              "      a.download = filename;\n",
              "      div.appendChild(a);\n",
              "      a.click();\n",
              "      div.remove();\n",
              "    }\n",
              "  "
            ],
            "text/plain": [
              "<IPython.core.display.Javascript object>"
            ]
          },
          "metadata": {
            "tags": []
          }
        },
        {
          "output_type": "display_data",
          "data": {
            "application/javascript": [
              "download(\"download_7e664198-a77c-4cf1-9b83-a1b9d79028b3\", \"K-Mean_data.csv\", 300184)"
            ],
            "text/plain": [
              "<IPython.core.display.Javascript object>"
            ]
          },
          "metadata": {
            "tags": []
          }
        }
      ]
    }
  ]
}