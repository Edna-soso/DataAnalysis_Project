{
  "nbformat": 4,
  "nbformat_minor": 0,
  "metadata": {
    "colab": {
      "name": "Model.ipynb",
      "provenance": []
    },
    "kernelspec": {
      "name": "python3",
      "display_name": "Python 3"
    },
    "language_info": {
      "name": "python"
    }
  },
  "cells": [
    {
      "cell_type": "markdown",
      "metadata": {
        "id": "hyIG0OmUGcls"
      },
      "source": [
        "#Tìm độ chêch lệch trên trục dữ liệu\n",
        "Thống kê trong 1 ngày, tần số (Frequency) và lần mua gần nhất số lượng bao nhiêu (Recency) và số tiền thu nhập (Monetary) theo khách hàng."
      ]
    },
    {
      "cell_type": "code",
      "metadata": {
        "colab": {
          "base_uri": "https://localhost:8080/"
        },
        "id": "ljMDuBDIlrNC",
        "outputId": "8753f46f-29d6-4d97-ca68-6b2590a285bb"
      },
      "source": [
        "import pandas as pd\n",
        "import datetime as dt\n",
        "from matplotlib.gridspec import GridSpec\n",
        "import seaborn as sns\n",
        "import plotly.express as px\n",
        "import matplotlib.pyplot as plt\n",
        "\n",
        "\n",
        "import plotly.graph_objs as go\n",
        "\n",
        "data = pd.read_csv('/content/drive/MyDrive/python_OP/dataset_model.csv', encoding = 'unicode_escape')\n",
        "\n",
        "print(data.shape)"
      ],
      "execution_count": 17,
      "outputs": [
        {
          "output_type": "stream",
          "text": [
            "(396532, 16)\n"
          ],
          "name": "stdout"
        }
      ]
    },
    {
      "cell_type": "code",
      "metadata": {
        "colab": {
          "base_uri": "https://localhost:8080/"
        },
        "id": "XluL_eeZKHdc",
        "outputId": "89d23342-2c39-4767-9c2c-a7beac841fc0"
      },
      "source": [
        "#tính lần mua gần nhất\n",
        "\n",
        "data['InvoiceDate']=pd.to_datetime(data['InvoiceDate'])\n",
        "data['InvoiceDate'].max()"
      ],
      "execution_count": 18,
      "outputs": [
        {
          "output_type": "execute_result",
          "data": {
            "text/plain": [
              "Timestamp('2011-12-09 12:50:00')"
            ]
          },
          "metadata": {
            "tags": []
          },
          "execution_count": 18
        }
      ]
    },
    {
      "cell_type": "code",
      "metadata": {
        "colab": {
          "base_uri": "https://localhost:8080/",
          "height": 392
        },
        "id": "EvLsQp3JMA54",
        "outputId": "1247bc19-0364-4500-82d5-7e1c47e8560b"
      },
      "source": [
        "#Tính toán các yếu tố trong mô hình RFM\n",
        "data['TotalAmount'] = data['UnitPrice']*data['Quantity']\n",
        "\n",
        "Latest_date = dt.datetime(2011,12,10)\n",
        "RFM_data = data.groupby('CustomerID').agg({'InvoiceDate' : lambda x :(Latest_date - x.max()).days,\n",
        "                                          'InvoiceNo' : 'count','TotalAmount' : 'sum'}).reset_index()\n",
        "\n",
        "RFM_data.rename(columns = {'InvoiceDate' : 'Recency',\n",
        "                          'InvoiceNo' : \"Frequency\",\n",
        "                          'TotalAmount' : \"Monetary\"},inplace = True)\n",
        "RFM_data"
      ],
      "execution_count": 19,
      "outputs": [
        {
          "output_type": "execute_result",
          "data": {
            "text/html": [
              "<div>\n",
              "<style scoped>\n",
              "    .dataframe tbody tr th:only-of-type {\n",
              "        vertical-align: middle;\n",
              "    }\n",
              "\n",
              "    .dataframe tbody tr th {\n",
              "        vertical-align: top;\n",
              "    }\n",
              "\n",
              "    .dataframe thead th {\n",
              "        text-align: right;\n",
              "    }\n",
              "</style>\n",
              "<table border=\"1\" class=\"dataframe\">\n",
              "  <thead>\n",
              "    <tr style=\"text-align: right;\">\n",
              "      <th></th>\n",
              "      <th>CustomerID</th>\n",
              "      <th>Recency</th>\n",
              "      <th>Frequency</th>\n",
              "      <th>Monetary</th>\n",
              "    </tr>\n",
              "  </thead>\n",
              "  <tbody>\n",
              "    <tr>\n",
              "      <th>0</th>\n",
              "      <td>12347.0</td>\n",
              "      <td>2</td>\n",
              "      <td>182</td>\n",
              "      <td>4310.00</td>\n",
              "    </tr>\n",
              "    <tr>\n",
              "      <th>1</th>\n",
              "      <td>12348.0</td>\n",
              "      <td>75</td>\n",
              "      <td>31</td>\n",
              "      <td>1797.24</td>\n",
              "    </tr>\n",
              "    <tr>\n",
              "      <th>2</th>\n",
              "      <td>12349.0</td>\n",
              "      <td>18</td>\n",
              "      <td>73</td>\n",
              "      <td>1757.55</td>\n",
              "    </tr>\n",
              "    <tr>\n",
              "      <th>3</th>\n",
              "      <td>12350.0</td>\n",
              "      <td>310</td>\n",
              "      <td>17</td>\n",
              "      <td>334.40</td>\n",
              "    </tr>\n",
              "    <tr>\n",
              "      <th>4</th>\n",
              "      <td>12352.0</td>\n",
              "      <td>36</td>\n",
              "      <td>85</td>\n",
              "      <td>2506.04</td>\n",
              "    </tr>\n",
              "    <tr>\n",
              "      <th>...</th>\n",
              "      <td>...</td>\n",
              "      <td>...</td>\n",
              "      <td>...</td>\n",
              "      <td>...</td>\n",
              "    </tr>\n",
              "    <tr>\n",
              "      <th>4234</th>\n",
              "      <td>18280.0</td>\n",
              "      <td>277</td>\n",
              "      <td>10</td>\n",
              "      <td>180.60</td>\n",
              "    </tr>\n",
              "    <tr>\n",
              "      <th>4235</th>\n",
              "      <td>18281.0</td>\n",
              "      <td>180</td>\n",
              "      <td>7</td>\n",
              "      <td>80.82</td>\n",
              "    </tr>\n",
              "    <tr>\n",
              "      <th>4236</th>\n",
              "      <td>18282.0</td>\n",
              "      <td>7</td>\n",
              "      <td>12</td>\n",
              "      <td>178.05</td>\n",
              "    </tr>\n",
              "    <tr>\n",
              "      <th>4237</th>\n",
              "      <td>18283.0</td>\n",
              "      <td>3</td>\n",
              "      <td>754</td>\n",
              "      <td>2090.43</td>\n",
              "    </tr>\n",
              "    <tr>\n",
              "      <th>4238</th>\n",
              "      <td>18287.0</td>\n",
              "      <td>42</td>\n",
              "      <td>70</td>\n",
              "      <td>1837.28</td>\n",
              "    </tr>\n",
              "  </tbody>\n",
              "</table>\n",
              "<p>4239 rows × 4 columns</p>\n",
              "</div>"
            ],
            "text/plain": [
              "      CustomerID  Recency  Frequency  Monetary\n",
              "0        12347.0        2        182   4310.00\n",
              "1        12348.0       75         31   1797.24\n",
              "2        12349.0       18         73   1757.55\n",
              "3        12350.0      310         17    334.40\n",
              "4        12352.0       36         85   2506.04\n",
              "...          ...      ...        ...       ...\n",
              "4234     18280.0      277         10    180.60\n",
              "4235     18281.0      180          7     80.82\n",
              "4236     18282.0        7         12    178.05\n",
              "4237     18283.0        3        754   2090.43\n",
              "4238     18287.0       42         70   1837.28\n",
              "\n",
              "[4239 rows x 4 columns]"
            ]
          },
          "metadata": {
            "tags": []
          },
          "execution_count": 19
        }
      ]
    },
    {
      "cell_type": "code",
      "metadata": {
        "colab": {
          "base_uri": "https://localhost:8080/",
          "height": 586
        },
        "id": "S6wp6JynNPxU",
        "outputId": "1687e487-8e48-460e-c2c1-b57b102e424f"
      },
      "source": [
        "#Trực quan phân phối Recency, Frequency and Monetary.\n",
        "i = 0\n",
        "fig = plt.figure(constrained_layout = True,figsize = (20,5))\n",
        "gs = GridSpec(1, 3, figure=fig)    \n",
        "\n",
        "col = ['red','blue','green']\n",
        "for var in list(RFM_data.columns[1:4]):\n",
        "    plt.subplot(gs[0,i])\n",
        "    sns.distplot(RFM_data[var],color= col[i])\n",
        "    plt.title('Skewness ' + ': ' + round(RFM_data[var].skew(),2).astype(str))\n",
        "    i= i+1"
      ],
      "execution_count": 20,
      "outputs": [
        {
          "output_type": "stream",
          "text": [
            "/usr/local/lib/python3.7/dist-packages/seaborn/distributions.py:2557: FutureWarning:\n",
            "\n",
            "`distplot` is a deprecated function and will be removed in a future version. Please adapt your code to use either `displot` (a figure-level function with similar flexibility) or `histplot` (an axes-level function for histograms).\n",
            "\n",
            "/usr/local/lib/python3.7/dist-packages/seaborn/distributions.py:2557: FutureWarning:\n",
            "\n",
            "`distplot` is a deprecated function and will be removed in a future version. Please adapt your code to use either `displot` (a figure-level function with similar flexibility) or `histplot` (an axes-level function for histograms).\n",
            "\n",
            "/usr/local/lib/python3.7/dist-packages/seaborn/distributions.py:2557: FutureWarning:\n",
            "\n",
            "`distplot` is a deprecated function and will be removed in a future version. Please adapt your code to use either `displot` (a figure-level function with similar flexibility) or `histplot` (an axes-level function for histograms).\n",
            "\n"
          ],
          "name": "stderr"
        },
        {
          "output_type": "display_data",
          "data": {
            "image/png": "[encoded data removed]",
            "text/plain": [
              "<Figure size 1440x360 with 3 Axes>"
            ]
          },
          "metadata": {
            "tags": [],
            "needs_background": "light"
          }
        }
      ]
    },
    {
      "cell_type": "code",
      "metadata": {
        "id": "jhJD467Dm0bZ"
      },
      "source": [
        ""
      ],
      "execution_count": 20,
      "outputs": []
    },
    {
      "cell_type": "code",
      "metadata": {
        "colab": {
          "base_uri": "https://localhost:8080/"
        },
        "id": "YMwKxE38fSc9",
        "outputId": "8a3eef5b-6ba6-4f2f-bb64-0a6eea64d7cf"
      },
      "source": [
        "quantiles = RFM_data.quantile(q = [0.25,0.5,0.75])\n",
        "quantiles.to_dict()"
      ],
      "execution_count": 21,
      "outputs": [
        {
          "output_type": "execute_result",
          "data": {
            "text/plain": [
              "{'CustomerID': {0.25: 13810.5, 0.5: 15279.0, 0.75: 16767.5},\n",
              " 'Frequency': {0.25: 18.0, 0.5: 42.0, 0.75: 102.0},\n",
              " 'Monetary': {0.25: 308.84000000000003,\n",
              "  0.5: 674.5199999999999,\n",
              "  0.75: 1628.6200000000008},\n",
              " 'Recency': {0.25: 17.0, 0.5: 50.0, 0.75: 141.0}}"
            ]
          },
          "metadata": {
            "tags": []
          },
          "execution_count": 21
        }
      ]
    },
    {
      "cell_type": "code",
      "metadata": {
        "id": "h_RkjoZfbiLJ"
      },
      "source": [
        "def R_score(var,p,d):\n",
        "    if var <= d[p][0.25]:\n",
        "        return 1\n",
        "    elif var <= d[p][0.50]:\n",
        "        return 2\n",
        "    elif var <= d[p][0.75]:\n",
        "        return 3\n",
        "    else:\n",
        "        return 4\n",
        "#[2] Frequency and Monetary (Positive Impact : Higher the value, better the customer)\n",
        "def FM_score(var,p,d):\n",
        "    if var <= d[p][0.25]:\n",
        "        return 4\n",
        "    elif var <= d[p][0.50]:\n",
        "        return 3\n",
        "    elif var <= d[p][0.75]:\n",
        "        return 2\n",
        "    else:\n",
        "        return 1"
      ],
      "execution_count": 22,
      "outputs": []
    },
    {
      "cell_type": "code",
      "metadata": {
        "id": "O0dBMwW0bWlV",
        "colab": {
          "base_uri": "https://localhost:8080/",
          "height": 190
        },
        "outputId": "1a5a035f-5784-4fcb-fb2a-fc76a0ac0ac3"
      },
      "source": [
        "RFM_data['R_score'] = RFM_data['Recency'].apply(R_score,args = ('Recency',quantiles,))\n",
        "RFM_data['F_score'] = RFM_data['Frequency'].apply(FM_score,args = ('Frequency',quantiles,))\n",
        "RFM_data['M_score'] = RFM_data['Monetary'].apply(FM_score,args = ('Monetary',quantiles,))\n",
        "RFM_data.head()"
      ],
      "execution_count": 23,
      "outputs": [
        {
          "output_type": "execute_result",
          "data": {
            "text/html": [
              "<div>\n",
              "<style scoped>\n",
              "    .dataframe tbody tr th:only-of-type {\n",
              "        vertical-align: middle;\n",
              "    }\n",
              "\n",
              "    .dataframe tbody tr th {\n",
              "        vertical-align: top;\n",
              "    }\n",
              "\n",
              "    .dataframe thead th {\n",
              "        text-align: right;\n",
              "    }\n",
              "</style>\n",
              "<table border=\"1\" class=\"dataframe\">\n",
              "  <thead>\n",
              "    <tr style=\"text-align: right;\">\n",
              "      <th></th>\n",
              "      <th>CustomerID</th>\n",
              "      <th>Recency</th>\n",
              "      <th>Frequency</th>\n",
              "      <th>Monetary</th>\n",
              "      <th>R_score</th>\n",
              "      <th>F_score</th>\n",
              "      <th>M_score</th>\n",
              "    </tr>\n",
              "  </thead>\n",
              "  <tbody>\n",
              "    <tr>\n",
              "      <th>0</th>\n",
              "      <td>12347.0</td>\n",
              "      <td>2</td>\n",
              "      <td>182</td>\n",
              "      <td>4310.00</td>\n",
              "      <td>1</td>\n",
              "      <td>1</td>\n",
              "      <td>1</td>\n",
              "    </tr>\n",
              "    <tr>\n",
              "      <th>1</th>\n",
              "      <td>12348.0</td>\n",
              "      <td>75</td>\n",
              "      <td>31</td>\n",
              "      <td>1797.24</td>\n",
              "      <td>3</td>\n",
              "      <td>3</td>\n",
              "      <td>1</td>\n",
              "    </tr>\n",
              "    <tr>\n",
              "      <th>2</th>\n",
              "      <td>12349.0</td>\n",
              "      <td>18</td>\n",
              "      <td>73</td>\n",
              "      <td>1757.55</td>\n",
              "      <td>2</td>\n",
              "      <td>2</td>\n",
              "      <td>1</td>\n",
              "    </tr>\n",
              "    <tr>\n",
              "      <th>3</th>\n",
              "      <td>12350.0</td>\n",
              "      <td>310</td>\n",
              "      <td>17</td>\n",
              "      <td>334.40</td>\n",
              "      <td>4</td>\n",
              "      <td>4</td>\n",
              "      <td>3</td>\n",
              "    </tr>\n",
              "    <tr>\n",
              "      <th>4</th>\n",
              "      <td>12352.0</td>\n",
              "      <td>36</td>\n",
              "      <td>85</td>\n",
              "      <td>2506.04</td>\n",
              "      <td>2</td>\n",
              "      <td>2</td>\n",
              "      <td>1</td>\n",
              "    </tr>\n",
              "  </tbody>\n",
              "</table>\n",
              "</div>"
            ],
            "text/plain": [
              "   CustomerID  Recency  Frequency  Monetary  R_score  F_score  M_score\n",
              "0     12347.0        2        182   4310.00        1        1        1\n",
              "1     12348.0       75         31   1797.24        3        3        1\n",
              "2     12349.0       18         73   1757.55        2        2        1\n",
              "3     12350.0      310         17    334.40        4        4        3\n",
              "4     12352.0       36         85   2506.04        2        2        1"
            ]
          },
          "metadata": {
            "tags": []
          },
          "execution_count": 23
        }
      ]
    }
  ]
}
