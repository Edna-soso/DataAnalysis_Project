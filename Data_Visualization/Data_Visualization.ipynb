{
  "nbformat": 4,
  "nbformat_minor": 0,
  "metadata": {
    "colab": {
      "name": "Data_Visualization.ipynb",
      "provenance": [],
      "collapsed_sections": [],
      "include_colab_link": true
    },
    "kernelspec": {
      "name": "python3",
      "display_name": "Python 3"
    },
    "language_info": {
      "name": "python"
    }
  },
  "cells": [
    {
      "cell_type": "markdown",
      "metadata": {
        "id": "view-in-github",
        "colab_type": "text"
      },
      "source": [
        "<a href=\"https://colab.research.google.com/github/Edna-soso/DataAnalysis_Project/blob/main/Data_Visualization/Data_Visualization.ipynb\" target=\"_parent\"><img src=\"https://colab.research.google.com/assets/colab-badge.svg\" alt=\"Open In Colab\"/></a>"
      ]
    },
    {
      "cell_type": "code",
      "metadata": {
        "colab": {
          "base_uri": "https://localhost:8080/"
        },
        "id": "zmi9fMv1FwgL",
        "outputId": "7779b8ab-ff3c-4680-d39b-2aa63d283b31"
      },
      "source": [
        "from google.colab import drive\n",
        "drive.mount('/content/drive')"
      ],
      "execution_count": 1,
      "outputs": [
        {
          "output_type": "stream",
          "text": [
            "Drive already mounted at /content/drive; to attempt to forcibly remount, call drive.mount(\"/content/drive\", force_remount=True).\n"
          ],
          "name": "stdout"
        }
      ]
    },
    {
      "cell_type": "code",
      "metadata": {
        "id": "Bowvx9twALRr"
      },
      "source": [
        "%matplotlib inline"
      ],
      "execution_count": 2,
      "outputs": []
    },
    {
      "cell_type": "code",
      "metadata": {
        "id": "0DWWTbsy0eFr",
        "colab": {
          "base_uri": "https://localhost:8080/"
        },
        "outputId": "85a2f7a7-3d39-4674-9cea-c451b382f125"
      },
      "source": [
        "!pip install pywedge"
      ],
      "execution_count": 3,
      "outputs": [
        {
          "output_type": "stream",
          "text": [
            "Requirement already satisfied: pywedge in /usr/local/lib/python3.7/dist-packages (0.5.1.8)\n",
            "Requirement already satisfied: xgboost in /usr/local/lib/python3.7/dist-packages (from pywedge) (0.90)\n",
            "Requirement already satisfied: scikit-learn in /usr/local/lib/python3.7/dist-packages (from pywedge) (0.22.2.post1)\n",
            "Requirement already satisfied: numpy in /usr/local/lib/python3.7/dist-packages (from pywedge) (1.19.5)\n",
            "Requirement already satisfied: tqdm in /usr/local/lib/python3.7/dist-packages (from pywedge) (4.41.1)\n",
            "Requirement already satisfied: pandas in /usr/local/lib/python3.7/dist-packages (from pywedge) (1.1.5)\n",
            "Requirement already satisfied: imbalanced-learn in /usr/local/lib/python3.7/dist-packages (from pywedge) (0.4.3)\n",
            "Requirement already satisfied: ipywidgets in /usr/local/lib/python3.7/dist-packages (from pywedge) (7.6.3)\n",
            "Requirement already satisfied: catboost>0.24 in /usr/local/lib/python3.7/dist-packages (from pywedge) (0.25.1)\n",
            "Requirement already satisfied: plotly in /usr/local/lib/python3.7/dist-packages (from pywedge) (4.4.1)\n",
            "Requirement already satisfied: scipy in /usr/local/lib/python3.7/dist-packages (from xgboost->pywedge) (1.4.1)\n",
            "Requirement already satisfied: joblib>=0.11 in /usr/local/lib/python3.7/dist-packages (from scikit-learn->pywedge) (1.0.1)\n",
            "Requirement already satisfied: pytz>=2017.2 in /usr/local/lib/python3.7/dist-packages (from pandas->pywedge) (2018.9)\n",
            "Requirement already satisfied: python-dateutil>=2.7.3 in /usr/local/lib/python3.7/dist-packages (from pandas->pywedge) (2.8.1)\n",
            "Requirement already satisfied: widgetsnbextension~=3.5.0 in /usr/local/lib/python3.7/dist-packages (from ipywidgets->pywedge) (3.5.1)\n",
            "Requirement already satisfied: ipykernel>=4.5.1 in /usr/local/lib/python3.7/dist-packages (from ipywidgets->pywedge) (4.10.1)\n",
            "Requirement already satisfied: ipython>=4.0.0; python_version >= \"3.3\" in /usr/local/lib/python3.7/dist-packages (from ipywidgets->pywedge) (5.5.0)\n",
            "Requirement already satisfied: nbformat>=4.2.0 in /usr/local/lib/python3.7/dist-packages (from ipywidgets->pywedge) (5.1.3)\n",
            "Requirement already satisfied: traitlets>=4.3.1 in /usr/local/lib/python3.7/dist-packages (from ipywidgets->pywedge) (5.0.5)\n",
            "Requirement already satisfied: jupyterlab-widgets>=1.0.0; python_version >= \"3.6\" in /usr/local/lib/python3.7/dist-packages (from ipywidgets->pywedge) (1.0.0)\n",
            "Requirement already satisfied: graphviz in /usr/local/lib/python3.7/dist-packages (from catboost>0.24->pywedge) (0.10.1)\n",
            "Requirement already satisfied: six in /usr/local/lib/python3.7/dist-packages (from catboost>0.24->pywedge) (1.15.0)\n",
            "Requirement already satisfied: matplotlib in /usr/local/lib/python3.7/dist-packages (from catboost>0.24->pywedge) (3.2.2)\n",
            "Requirement already satisfied: retrying>=1.3.3 in /usr/local/lib/python3.7/dist-packages (from plotly->pywedge) (1.3.3)\n",
            "Requirement already satisfied: notebook>=4.4.1 in /usr/local/lib/python3.7/dist-packages (from widgetsnbextension~=3.5.0->ipywidgets->pywedge) (5.3.1)\n",
            "Requirement already satisfied: jupyter-client in /usr/local/lib/python3.7/dist-packages (from ipykernel>=4.5.1->ipywidgets->pywedge) (5.3.5)\n",
            "Requirement already satisfied: tornado>=4.0 in /usr/local/lib/python3.7/dist-packages (from ipykernel>=4.5.1->ipywidgets->pywedge) (5.1.1)\n",
            "Requirement already satisfied: setuptools>=18.5 in /usr/local/lib/python3.7/dist-packages (from ipython>=4.0.0; python_version >= \"3.3\"->ipywidgets->pywedge) (56.1.0)\n",
            "Requirement already satisfied: pickleshare in /usr/local/lib/python3.7/dist-packages (from ipython>=4.0.0; python_version >= \"3.3\"->ipywidgets->pywedge) (0.7.5)\n",
            "Requirement already satisfied: simplegeneric>0.8 in /usr/local/lib/python3.7/dist-packages (from ipython>=4.0.0; python_version >= \"3.3\"->ipywidgets->pywedge) (0.8.1)\n",
            "Requirement already satisfied: prompt-toolkit<2.0.0,>=1.0.4 in /usr/local/lib/python3.7/dist-packages (from ipython>=4.0.0; python_version >= \"3.3\"->ipywidgets->pywedge) (1.0.18)\n",
            "Requirement already satisfied: pexpect; sys_platform != \"win32\" in /usr/local/lib/python3.7/dist-packages (from ipython>=4.0.0; python_version >= \"3.3\"->ipywidgets->pywedge) (4.8.0)\n",
            "Requirement already satisfied: pygments in /usr/local/lib/python3.7/dist-packages (from ipython>=4.0.0; python_version >= \"3.3\"->ipywidgets->pywedge) (2.6.1)\n",
            "Requirement already satisfied: decorator in /usr/local/lib/python3.7/dist-packages (from ipython>=4.0.0; python_version >= \"3.3\"->ipywidgets->pywedge) (4.4.2)\n",
            "Requirement already satisfied: ipython-genutils in /usr/local/lib/python3.7/dist-packages (from nbformat>=4.2.0->ipywidgets->pywedge) (0.2.0)\n",
            "Requirement already satisfied: jupyter-core in /usr/local/lib/python3.7/dist-packages (from nbformat>=4.2.0->ipywidgets->pywedge) (4.7.1)\n",
            "Requirement already satisfied: jsonschema!=2.5.0,>=2.4 in /usr/local/lib/python3.7/dist-packages (from nbformat>=4.2.0->ipywidgets->pywedge) (2.6.0)\n",
            "Requirement already satisfied: kiwisolver>=1.0.1 in /usr/local/lib/python3.7/dist-packages (from matplotlib->catboost>0.24->pywedge) (1.3.1)\n",
            "Requirement already satisfied: pyparsing!=2.0.4,!=2.1.2,!=2.1.6,>=2.0.1 in /usr/local/lib/python3.7/dist-packages (from matplotlib->catboost>0.24->pywedge) (2.4.7)\n",
            "Requirement already satisfied: cycler>=0.10 in /usr/local/lib/python3.7/dist-packages (from matplotlib->catboost>0.24->pywedge) (0.10.0)\n",
            "Requirement already satisfied: nbconvert in /usr/local/lib/python3.7/dist-packages (from notebook>=4.4.1->widgetsnbextension~=3.5.0->ipywidgets->pywedge) (5.6.1)\n",
            "Requirement already satisfied: jinja2 in /usr/local/lib/python3.7/dist-packages (from notebook>=4.4.1->widgetsnbextension~=3.5.0->ipywidgets->pywedge) (2.11.3)\n",
            "Requirement already satisfied: Send2Trash in /usr/local/lib/python3.7/dist-packages (from notebook>=4.4.1->widgetsnbextension~=3.5.0->ipywidgets->pywedge) (1.5.0)\n",
            "Requirement already satisfied: terminado>=0.8.1 in /usr/local/lib/python3.7/dist-packages (from notebook>=4.4.1->widgetsnbextension~=3.5.0->ipywidgets->pywedge) (0.10.0)\n",
            "Requirement already satisfied: pyzmq>=13 in /usr/local/lib/python3.7/dist-packages (from jupyter-client->ipykernel>=4.5.1->ipywidgets->pywedge) (22.0.3)\n",
            "Requirement already satisfied: wcwidth in /usr/local/lib/python3.7/dist-packages (from prompt-toolkit<2.0.0,>=1.0.4->ipython>=4.0.0; python_version >= \"3.3\"->ipywidgets->pywedge) (0.2.5)\n",
            "Requirement already satisfied: ptyprocess>=0.5 in /usr/local/lib/python3.7/dist-packages (from pexpect; sys_platform != \"win32\"->ipython>=4.0.0; python_version >= \"3.3\"->ipywidgets->pywedge) (0.7.0)\n",
            "Requirement already satisfied: bleach in /usr/local/lib/python3.7/dist-packages (from nbconvert->notebook>=4.4.1->widgetsnbextension~=3.5.0->ipywidgets->pywedge) (3.3.0)\n",
            "Requirement already satisfied: mistune<2,>=0.8.1 in /usr/local/lib/python3.7/dist-packages (from nbconvert->notebook>=4.4.1->widgetsnbextension~=3.5.0->ipywidgets->pywedge) (0.8.4)\n",
            "Requirement already satisfied: pandocfilters>=1.4.1 in /usr/local/lib/python3.7/dist-packages (from nbconvert->notebook>=4.4.1->widgetsnbextension~=3.5.0->ipywidgets->pywedge) (1.4.3)\n",
            "Requirement already satisfied: defusedxml in /usr/local/lib/python3.7/dist-packages (from nbconvert->notebook>=4.4.1->widgetsnbextension~=3.5.0->ipywidgets->pywedge) (0.7.1)\n",
            "Requirement already satisfied: testpath in /usr/local/lib/python3.7/dist-packages (from nbconvert->notebook>=4.4.1->widgetsnbextension~=3.5.0->ipywidgets->pywedge) (0.5.0)\n",
            "Requirement already satisfied: entrypoints>=0.2.2 in /usr/local/lib/python3.7/dist-packages (from nbconvert->notebook>=4.4.1->widgetsnbextension~=3.5.0->ipywidgets->pywedge) (0.3)\n",
            "Requirement already satisfied: MarkupSafe>=0.23 in /usr/local/lib/python3.7/dist-packages (from jinja2->notebook>=4.4.1->widgetsnbextension~=3.5.0->ipywidgets->pywedge) (2.0.1)\n",
            "Requirement already satisfied: packaging in /usr/local/lib/python3.7/dist-packages (from bleach->nbconvert->notebook>=4.4.1->widgetsnbextension~=3.5.0->ipywidgets->pywedge) (20.9)\n",
            "Requirement already satisfied: webencodings in /usr/local/lib/python3.7/dist-packages (from bleach->nbconvert->notebook>=4.4.1->widgetsnbextension~=3.5.0->ipywidgets->pywedge) (0.5.1)\n"
          ],
          "name": "stdout"
        }
      ]
    },
    {
      "cell_type": "code",
      "metadata": {
        "id": "vs5b0FmAE--U"
      },
      "source": [
        "import numpy as np\n",
        "import pandas as pd\n",
        "\n",
        "import matplotlib.pyplot as plt\n",
        "import datetime as dt\n",
        "from matplotlib.gridspec import GridSpec\n",
        "import seaborn as sns\n",
        "import plotly.express as px\n",
        "\n",
        "import plotly.graph_objs as go\n",
        "\n",
        "import pywedge as pw\n",
        "import pandas as pd"
      ],
      "execution_count": 4,
      "outputs": []
    },
    {
      "cell_type": "code",
      "metadata": {
        "id": "XSI4lX0rQRs3"
      },
      "source": [
        "data = pd.read_csv('/content/drive/MyDrive/python_OP/Clean_Dataset.csv')"
      ],
      "execution_count": 5,
      "outputs": []
    },
    {
      "cell_type": "code",
      "metadata": {
        "colab": {
          "base_uri": "https://localhost:8080/"
        },
        "id": "AZywBV6C_QWi",
        "outputId": "cd551a88-d1c2-4b50-a3e9-82853315adef"
      },
      "source": [
        "data.pop('Unnamed: 0')"
      ],
      "execution_count": 6,
      "outputs": [
        {
          "output_type": "execute_result",
          "data": {
            "text/plain": [
              "0              0\n",
              "1              1\n",
              "2              2\n",
              "3              3\n",
              "4              4\n",
              "           ...  \n",
              "397919    541904\n",
              "397920    541905\n",
              "397921    541906\n",
              "397922    541907\n",
              "397923    541908\n",
              "Name: Unnamed: 0, Length: 397924, dtype: int64"
            ]
          },
          "metadata": {
            "tags": []
          },
          "execution_count": 6
        }
      ]
    },
    {
      "cell_type": "code",
      "metadata": {
        "colab": {
          "base_uri": "https://localhost:8080/",
          "height": 190
        },
        "id": "nv7TLcMeDdJj",
        "outputId": "f87705f2-4dad-4987-a215-d44967e422da"
      },
      "source": [
        "data.head()"
      ],
      "execution_count": 7,
      "outputs": [
        {
          "output_type": "execute_result",
          "data": {
            "text/html": [
              "<div>\n",
              "<style scoped>\n",
              "    .dataframe tbody tr th:only-of-type {\n",
              "        vertical-align: middle;\n",
              "    }\n",
              "\n",
              "    .dataframe tbody tr th {\n",
              "        vertical-align: top;\n",
              "    }\n",
              "\n",
              "    .dataframe thead th {\n",
              "        text-align: right;\n",
              "    }\n",
              "</style>\n",
              "<table border=\"1\" class=\"dataframe\">\n",
              "  <thead>\n",
              "    <tr style=\"text-align: right;\">\n",
              "      <th></th>\n",
              "      <th>InvoiceNo</th>\n",
              "      <th>StockCode</th>\n",
              "      <th>Description</th>\n",
              "      <th>Quantity</th>\n",
              "      <th>InvoiceDate</th>\n",
              "      <th>UnitPrice</th>\n",
              "      <th>CustomerID</th>\n",
              "      <th>Country</th>\n",
              "      <th>Date</th>\n",
              "      <th>Time</th>\n",
              "      <th>Hour</th>\n",
              "      <th>Month</th>\n",
              "      <th>Year</th>\n",
              "      <th>TotalCost</th>\n",
              "    </tr>\n",
              "  </thead>\n",
              "  <tbody>\n",
              "    <tr>\n",
              "      <th>0</th>\n",
              "      <td>536365</td>\n",
              "      <td>85123A</td>\n",
              "      <td>WHITE HANGING HEART T-LIGHT HOLDER</td>\n",
              "      <td>6</td>\n",
              "      <td>12/1/2010 8:26</td>\n",
              "      <td>2.55</td>\n",
              "      <td>17850.0</td>\n",
              "      <td>United Kingdom</td>\n",
              "      <td>12/1/2010</td>\n",
              "      <td>8:26</td>\n",
              "      <td>8</td>\n",
              "      <td>12</td>\n",
              "      <td>2010</td>\n",
              "      <td>15.30</td>\n",
              "    </tr>\n",
              "    <tr>\n",
              "      <th>1</th>\n",
              "      <td>536365</td>\n",
              "      <td>71053</td>\n",
              "      <td>WHITE METAL LANTERN</td>\n",
              "      <td>6</td>\n",
              "      <td>12/1/2010 8:26</td>\n",
              "      <td>3.39</td>\n",
              "      <td>17850.0</td>\n",
              "      <td>United Kingdom</td>\n",
              "      <td>12/1/2010</td>\n",
              "      <td>8:26</td>\n",
              "      <td>8</td>\n",
              "      <td>12</td>\n",
              "      <td>2010</td>\n",
              "      <td>20.34</td>\n",
              "    </tr>\n",
              "    <tr>\n",
              "      <th>2</th>\n",
              "      <td>536365</td>\n",
              "      <td>84406B</td>\n",
              "      <td>CREAM CUPID HEARTS COAT HANGER</td>\n",
              "      <td>8</td>\n",
              "      <td>12/1/2010 8:26</td>\n",
              "      <td>2.75</td>\n",
              "      <td>17850.0</td>\n",
              "      <td>United Kingdom</td>\n",
              "      <td>12/1/2010</td>\n",
              "      <td>8:26</td>\n",
              "      <td>8</td>\n",
              "      <td>12</td>\n",
              "      <td>2010</td>\n",
              "      <td>22.00</td>\n",
              "    </tr>\n",
              "    <tr>\n",
              "      <th>3</th>\n",
              "      <td>536365</td>\n",
              "      <td>84029G</td>\n",
              "      <td>KNITTED UNION FLAG HOT WATER BOTTLE</td>\n",
              "      <td>6</td>\n",
              "      <td>12/1/2010 8:26</td>\n",
              "      <td>3.39</td>\n",
              "      <td>17850.0</td>\n",
              "      <td>United Kingdom</td>\n",
              "      <td>12/1/2010</td>\n",
              "      <td>8:26</td>\n",
              "      <td>8</td>\n",
              "      <td>12</td>\n",
              "      <td>2010</td>\n",
              "      <td>20.34</td>\n",
              "    </tr>\n",
              "    <tr>\n",
              "      <th>4</th>\n",
              "      <td>536365</td>\n",
              "      <td>84029E</td>\n",
              "      <td>RED WOOLLY HOTTIE WHITE HEART.</td>\n",
              "      <td>6</td>\n",
              "      <td>12/1/2010 8:26</td>\n",
              "      <td>3.39</td>\n",
              "      <td>17850.0</td>\n",
              "      <td>United Kingdom</td>\n",
              "      <td>12/1/2010</td>\n",
              "      <td>8:26</td>\n",
              "      <td>8</td>\n",
              "      <td>12</td>\n",
              "      <td>2010</td>\n",
              "      <td>20.34</td>\n",
              "    </tr>\n",
              "  </tbody>\n",
              "</table>\n",
              "</div>"
            ],
            "text/plain": [
              "   InvoiceNo StockCode  ...  Year  TotalCost\n",
              "0     536365    85123A  ...  2010      15.30\n",
              "1     536365     71053  ...  2010      20.34\n",
              "2     536365    84406B  ...  2010      22.00\n",
              "3     536365    84029G  ...  2010      20.34\n",
              "4     536365    84029E  ...  2010      20.34\n",
              "\n",
              "[5 rows x 14 columns]"
            ]
          },
          "metadata": {
            "tags": []
          },
          "execution_count": 7
        }
      ]
    },
    {
      "cell_type": "code",
      "metadata": {
        "id": "9W1S3tsLCQ3d"
      },
      "source": [
        "moving_column= data.pop(\"TotalCost\")\n",
        "data.insert(6,\"TotalCost\", moving_column)\n"
      ],
      "execution_count": 8,
      "outputs": []
    },
    {
      "cell_type": "code",
      "metadata": {
        "id": "D1kVwpRZED8W"
      },
      "source": [
        "moving_column= data.pop(\"InvoiceDate\")\n",
        "data.insert(7,\"InvoiceDate\", moving_column)"
      ],
      "execution_count": 9,
      "outputs": []
    },
    {
      "cell_type": "markdown",
      "metadata": {
        "id": "2MAS2yirBK9o"
      },
      "source": [
        "# **Khách hàng VIP**"
      ]
    },
    {
      "cell_type": "code",
      "metadata": {
        "id": "f1des9-GWD9H"
      },
      "source": [
        "def VIP_customer():\n",
        "  n= int(input(\"Nhập vào số lượng khách hàng VIP muốn xem: \"))\n",
        "  quan_stock = data.groupby(\"CustomerID\").count()[\"InvoiceNo\"]\n",
        "  quan_stock= quan_stock.sort_values()\n",
        "  quan_stock_top= quan_stock.nlargest(n)\n",
        "  quan_stock_top.plot.bar()\n",
        "  plt.show()\n"
      ],
      "execution_count": 65,
      "outputs": []
    },
    {
      "cell_type": "code",
      "metadata": {
        "id": "lcOq2Hxb0-dA",
        "colab": {
          "base_uri": "https://localhost:8080/",
          "height": 327
        },
        "outputId": "a95afd9a-39c0-4543-d3c1-5d7bd8f47009"
      },
      "source": [
        "VIP_customer()"
      ],
      "execution_count": 66,
      "outputs": [
        {
          "output_type": "stream",
          "text": [
            "Nhập vào số lượng khách hàng VIP muốn xem: 12\n"
          ],
          "name": "stdout"
        },
        {
          "output_type": "display_data",
          "data": {
            "image/png": "[encoded data removed]",
            "text/plain": [
              "<Figure size 432x288 with 1 Axes>"
            ]
          },
          "metadata": {
            "tags": [],
            "needs_background": "light"
          }
        }
      ]
    },
    {
      "cell_type": "markdown",
      "metadata": {
        "id": "Dow1yTMkBfEF"
      },
      "source": [
        "# **Tháng có doanh số cao nhất?**"
      ]
    },
    {
      "cell_type": "code",
      "metadata": {
        "id": "s0_PV-jgW0bq"
      },
      "source": [
        "def best_sales_month():\n",
        "  data['Year']=[item[2] for item in data['Date'].str.split('/')]\n",
        "  data[\"Year\"].value_counts()\n",
        "  data_2010= data[data[\"Year\"]=='2010']\n",
        "  data_2011= data[data[\"Year\"]=='2011']\n",
        "  months = range(1,13)\n",
        "\n",
        "  while (True):\n",
        "    choice = int(input(\"Nhập vào năm bạn muốn xem tháng có doanh số cao nhất:\\n1.2010\\n2.2011\\n3.Cả 2 năm\\n4.Thoát\\n\"))\n",
        "    if choice == 1:\n",
        "      gr_month= data_2010.groupby(\"Month\").sum()[\"TotalCost\"]\n",
        "      plt.bar(12, gr_month, align='center')\n",
        "      plt.xticks(months)\n",
        "      plt.xlabel(\"Months\")\n",
        "      plt.ylabel(\"TotalCost\")    \n",
        "      plt.pause(0.05)\n",
        "    elif choice == 2:\n",
        "      gr_month= data_2011.groupby(\"Month\").sum()[\"TotalCost\"]\n",
        "      plt.bar(months, gr_month, align='center')\n",
        "      plt.xticks(months)\n",
        "      plt.xlabel(\"Months\")\n",
        "      plt.ylabel(\"TotalCost\")    \n",
        "      plt.pause(0.05)\n",
        "    elif choice == 3:\n",
        "      gr_month = data.groupby(\"Month\").sum()[\"TotalCost\"]\n",
        "      plt.bar(months, gr_month, align='center')\n",
        "      plt.xticks(months)\n",
        "      plt.xlabel(\"Months\")\n",
        "      plt.ylabel(\"TotalCost\")    \n",
        "      plt.pause(0.05)\n",
        "    else:\n",
        "      break"
      ],
      "execution_count": 56,
      "outputs": []
    },
    {
      "cell_type": "code",
      "metadata": {
        "id": "TW8om8OFYfdH",
        "outputId": "d7dac72d-f695-4c6d-f66f-d0b26baeaa0a",
        "colab": {
          "base_uri": "https://localhost:8080/",
          "height": 1000
        }
      },
      "source": [
        "best_sales_month()"
      ],
      "execution_count": 57,
      "outputs": [
        {
          "output_type": "stream",
          "text": [
            "Nhập vào năm bạn muốn xem tháng có doanh số cao nhất:\n",
            "1.2010\n",
            "2.2011\n",
            "3.Cả 2 năm\n",
            "4.Thoát\n",
            "1\n"
          ],
          "name": "stdout"
        },
        {
          "output_type": "display_data",
          "data": {
            "image/png": "[encoded data removed]",
            "text/plain": [
              "<Figure size 432x288 with 1 Axes>"
            ]
          },
          "metadata": {
            "tags": [],
            "needs_background": "light"
          }
        },
        {
          "output_type": "stream",
          "text": [
            "Nhập vào năm bạn muốn xem tháng có doanh số cao nhất:\n",
            "1.2010\n",
            "2.2011\n",
            "3.Cả 2 năm\n",
            "4.Thoát\n",
            "2\n"
          ],
          "name": "stdout"
        },
        {
          "output_type": "display_data",
          "data": {
            "image/png": "[encoded data removed]",
            "text/plain": [
              "<Figure size 432x288 with 1 Axes>"
            ]
          },
          "metadata": {
            "tags": [],
            "needs_background": "light"
          }
        },
        {
          "output_type": "stream",
          "text": [
            "Nhập vào năm bạn muốn xem tháng có doanh số cao nhất:\n",
            "1.2010\n",
            "2.2011\n",
            "3.Cả 2 năm\n",
            "4.Thoát\n",
            "3\n"
          ],
          "name": "stdout"
        },
        {
          "output_type": "display_data",
          "data": {
            "image/png": "[encoded data removed]",
            "text/plain": [
              "<Figure size 432x288 with 1 Axes>"
            ]
          },
          "metadata": {
            "tags": [],
            "needs_background": "light"
          }
        },
        {
          "output_type": "stream",
          "text": [
            "Nhập vào năm bạn muốn xem tháng có doanh số cao nhất:\n",
            "1.2010\n",
            "2.2011\n",
            "3.Cả 2 năm\n",
            "4.Thoát\n",
            "4\n"
          ],
          "name": "stdout"
        }
      ]
    },
    {
      "cell_type": "markdown",
      "metadata": {
        "id": "TTBx27ObLLI8"
      },
      "source": [
        "#**Country nào có doanh số cao nhất** "
      ]
    },
    {
      "cell_type": "code",
      "metadata": {
        "id": "bnojBKaygyNq"
      },
      "source": [
        "def bestsales_country():\n",
        "  gr_country = data.groupby(\"Country\").sum()[\"TotalCost\"].sort_values(ascending= False)\n",
        "  country = [country for country, totalcost in gr_country.items()]\n",
        "  df= data\n",
        "  df = go.Bar(x = country, y = gr_country,marker={'color': gr_country,'colorscale': 'Viridis'})\n",
        "  layout = go.Layout(title = 'Country')\n",
        "  fig = go.Figure(data=df , layout = layout)\n",
        "  fig.show()"
      ],
      "execution_count": 63,
      "outputs": []
    },
    {
      "cell_type": "code",
      "metadata": {
        "id": "MaQEzi7NLgnC",
        "outputId": "35c6a65c-1e85-40c2-f568-cc8c54ba93f3",
        "colab": {
          "base_uri": "https://localhost:8080/",
          "height": 542
        }
      },
      "source": [
        "bestsales_country()"
      ],
      "execution_count": 64,
      "outputs": [
        {
          "output_type": "display_data",
          "data": {
            "text/html": [
              "<html>\n",
              "<head><meta charset=\"utf-8\" /></head>\n",
              "<body>\n",
              "    <div>\n",
              "            <script src=\"https://cdnjs.cloudflare.com/ajax/libs/mathjax/2.7.5/MathJax.js?config=TeX-AMS-MML_SVG\"></script><script type=\"text/javascript\">if (window.MathJax) {MathJax.Hub.Config({SVG: {font: \"STIX-Web\"}});}</script>\n",
              "                <script type=\"text/javascript\">window.PlotlyConfig = {MathJaxConfig: 'local'};</script>\n",
              "        <script src=\"https://cdn.plot.ly/plotly-latest.min.js\"></script>    \n",
              "            <div id=\"c43bb5b7-2e33-44f3-b8cc-986363d08b26\" class=\"plotly-graph-div\" style=\"height:525px; width:100%;\"></div>\n",
              "            <script type=\"text/javascript\">\n",
              "                \n",
              "                    window.PLOTLYENV=window.PLOTLYENV || {};\n",
              "                    \n",
              "                if (document.getElementById(\"c43bb5b7-2e33-44f3-b8cc-986363d08b26\")) {\n",
              "                    Plotly.newPlot(\n",
              "                        'c43bb5b7-2e33-44f3-b8cc-986363d08b26',\n",
              "                        [{\"marker\": {\"color\": [7308391.5540030645, 285446.34, 265545.8999999985, 228867.13999999844, 209024.0499999997, 138521.30999999956, 61577.10999999997, 56443.95000000004, 41196.33999999997, 38378.33000000003, 37416.37000000001, 36165.440000000046, 33439.890000000014, 22546.079999999973, 21279.289999999994, 20450.439999999962, 18955.339999999997, 17483.240000000005, 13590.379999999994, 10198.679999999997, 7334.649999999997, 7221.689999999999, 4760.5199999999995, 4309.999999999997, 3666.380000000001, 3580.3900000000012, 2725.59, 2667.0700000000006, 1902.2800000000007, 1693.8800000000006, 1661.06, 1300.2500000000002, 1143.6000000000001, 1002.3099999999998, 826.7400000000001, 548.4, 145.92000000000002], \"colorscale\": [[0.0, \"#440154\"], [0.1111111111111111, \"#482878\"], [0.2222222222222222, \"#3e4989\"], [0.3333333333333333, \"#31688e\"], [0.4444444444444444, \"#26828e\"], [0.5555555555555556, \"#1f9e89\"], [0.6666666666666666, \"#35b779\"], [0.7777777777777778, \"#6ece58\"], [0.8888888888888888, \"#b5de2b\"], [1.0, \"#fde725\"]]}, \"type\": \"bar\", \"x\": [\"United Kingdom\", \"Netherlands\", \"EIRE\", \"Germany\", \"France\", \"Australia\", \"Spain\", \"Switzerland\", \"Belgium\", \"Sweden\", \"Japan\", \"Norway\", \"Portugal\", \"Finland\", \"Singapore\", \"Channel Islands\", \"Denmark\", \"Italy\", \"Cyprus\", \"Austria\", \"Poland\", \"Israel\", \"Greece\", \"Iceland\", \"Canada\", \"USA\", \"Malta\", \"Unspecified\", \"United Arab Emirates\", \"Lebanon\", \"Lithuania\", \"European Community\", \"Brazil\", \"RSA\", \"Czech Republic\", \"Bahrain\", \"Saudi Arabia\"], \"y\": [7308391.5540030645, 285446.34, 265545.8999999985, 228867.13999999844, 209024.0499999997, 138521.30999999956, 61577.10999999997, 56443.95000000004, 41196.33999999997, 38378.33000000003, 37416.37000000001, 36165.440000000046, 33439.890000000014, 22546.079999999973, 21279.289999999994, 20450.439999999962, 18955.339999999997, 17483.240000000005, 13590.379999999994, 10198.679999999997, 7334.649999999997, 7221.689999999999, 4760.5199999999995, 4309.999999999997, 3666.380000000001, 3580.3900000000012, 2725.59, 2667.0700000000006, 1902.2800000000007, 1693.8800000000006, 1661.06, 1300.2500000000002, 1143.6000000000001, 1002.3099999999998, 826.7400000000001, 548.4, 145.92000000000002]}],\n",
              "                        {\"template\": {\"data\": {\"bar\": [{\"error_x\": {\"color\": \"#2a3f5f\"}, \"error_y\": {\"color\": \"#2a3f5f\"}, \"marker\": {\"line\": {\"color\": \"#E5ECF6\", \"width\": 0.5}}, \"type\": \"bar\"}], \"barpolar\": [{\"marker\": {\"line\": {\"color\": \"#E5ECF6\", \"width\": 0.5}}, \"type\": \"barpolar\"}], \"carpet\": [{\"aaxis\": {\"endlinecolor\": \"#2a3f5f\", \"gridcolor\": \"white\", \"linecolor\": \"white\", \"minorgridcolor\": \"white\", \"startlinecolor\": \"#2a3f5f\"}, \"baxis\": {\"endlinecolor\": \"#2a3f5f\", \"gridcolor\": \"white\", \"linecolor\": \"white\", \"minorgridcolor\": \"white\", \"startlinecolor\": \"#2a3f5f\"}, \"type\": \"carpet\"}], \"choropleth\": [{\"colorbar\": {\"outlinewidth\": 0, \"ticks\": \"\"}, \"type\": \"choropleth\"}], \"contour\": [{\"colorbar\": {\"outlinewidth\": 0, \"ticks\": \"\"}, \"colorscale\": [[0.0, \"#0d0887\"], [0.1111111111111111, \"#46039f\"], [0.2222222222222222, \"#7201a8\"], [0.3333333333333333, \"#9c179e\"], [0.4444444444444444, \"#bd3786\"], [0.5555555555555556, \"#d8576b\"], [0.6666666666666666, \"#ed7953\"], [0.7777777777777778, \"#fb9f3a\"], [0.8888888888888888, \"#fdca26\"], [1.0, \"#f0f921\"]], \"type\": \"contour\"}], \"contourcarpet\": [{\"colorbar\": {\"outlinewidth\": 0, \"ticks\": \"\"}, \"type\": \"contourcarpet\"}], \"heatmap\": [{\"colorbar\": {\"outlinewidth\": 0, \"ticks\": \"\"}, \"colorscale\": [[0.0, \"#0d0887\"], [0.1111111111111111, \"#46039f\"], [0.2222222222222222, \"#7201a8\"], [0.3333333333333333, \"#9c179e\"], [0.4444444444444444, \"#bd3786\"], [0.5555555555555556, \"#d8576b\"], [0.6666666666666666, \"#ed7953\"], [0.7777777777777778, \"#fb9f3a\"], [0.8888888888888888, \"#fdca26\"], [1.0, \"#f0f921\"]], \"type\": \"heatmap\"}], \"heatmapgl\": [{\"colorbar\": {\"outlinewidth\": 0, \"ticks\": \"\"}, \"colorscale\": [[0.0, \"#0d0887\"], [0.1111111111111111, \"#46039f\"], [0.2222222222222222, \"#7201a8\"], [0.3333333333333333, \"#9c179e\"], [0.4444444444444444, \"#bd3786\"], [0.5555555555555556, \"#d8576b\"], [0.6666666666666666, \"#ed7953\"], [0.7777777777777778, \"#fb9f3a\"], [0.8888888888888888, \"#fdca26\"], [1.0, \"#f0f921\"]], \"type\": \"heatmapgl\"}], \"histogram\": [{\"marker\": {\"colorbar\": {\"outlinewidth\": 0, \"ticks\": \"\"}}, \"type\": \"histogram\"}], \"histogram2d\": [{\"colorbar\": {\"outlinewidth\": 0, \"ticks\": \"\"}, \"colorscale\": [[0.0, \"#0d0887\"], [0.1111111111111111, \"#46039f\"], [0.2222222222222222, \"#7201a8\"], [0.3333333333333333, \"#9c179e\"], [0.4444444444444444, \"#bd3786\"], [0.5555555555555556, \"#d8576b\"], [0.6666666666666666, \"#ed7953\"], [0.7777777777777778, \"#fb9f3a\"], [0.8888888888888888, \"#fdca26\"], [1.0, \"#f0f921\"]], \"type\": \"histogram2d\"}], \"histogram2dcontour\": [{\"colorbar\": {\"outlinewidth\": 0, \"ticks\": \"\"}, \"colorscale\": [[0.0, \"#0d0887\"], [0.1111111111111111, \"#46039f\"], [0.2222222222222222, \"#7201a8\"], [0.3333333333333333, \"#9c179e\"], [0.4444444444444444, \"#bd3786\"], [0.5555555555555556, \"#d8576b\"], [0.6666666666666666, \"#ed7953\"], [0.7777777777777778, \"#fb9f3a\"], [0.8888888888888888, \"#fdca26\"], [1.0, \"#f0f921\"]], \"type\": \"histogram2dcontour\"}], \"mesh3d\": [{\"colorbar\": {\"outlinewidth\": 0, \"ticks\": \"\"}, \"type\": \"mesh3d\"}], \"parcoords\": [{\"line\": {\"colorbar\": {\"outlinewidth\": 0, \"ticks\": \"\"}}, \"type\": \"parcoords\"}], \"pie\": [{\"automargin\": true, \"type\": \"pie\"}], \"scatter\": [{\"marker\": {\"colorbar\": {\"outlinewidth\": 0, \"ticks\": \"\"}}, \"type\": \"scatter\"}], \"scatter3d\": [{\"line\": {\"colorbar\": {\"outlinewidth\": 0, \"ticks\": \"\"}}, \"marker\": {\"colorbar\": {\"outlinewidth\": 0, \"ticks\": \"\"}}, \"type\": \"scatter3d\"}], \"scattercarpet\": [{\"marker\": {\"colorbar\": {\"outlinewidth\": 0, \"ticks\": \"\"}}, \"type\": \"scattercarpet\"}], \"scattergeo\": [{\"marker\": {\"colorbar\": {\"outlinewidth\": 0, \"ticks\": \"\"}}, \"type\": \"scattergeo\"}], \"scattergl\": [{\"marker\": {\"colorbar\": {\"outlinewidth\": 0, \"ticks\": \"\"}}, \"type\": \"scattergl\"}], \"scattermapbox\": [{\"marker\": {\"colorbar\": {\"outlinewidth\": 0, \"ticks\": \"\"}}, \"type\": \"scattermapbox\"}], \"scatterpolar\": [{\"marker\": {\"colorbar\": {\"outlinewidth\": 0, \"ticks\": \"\"}}, \"type\": \"scatterpolar\"}], \"scatterpolargl\": [{\"marker\": {\"colorbar\": {\"outlinewidth\": 0, \"ticks\": \"\"}}, \"type\": \"scatterpolargl\"}], \"scatterternary\": [{\"marker\": {\"colorbar\": {\"outlinewidth\": 0, \"ticks\": \"\"}}, \"type\": \"scatterternary\"}], \"surface\": [{\"colorbar\": {\"outlinewidth\": 0, \"ticks\": \"\"}, \"colorscale\": [[0.0, \"#0d0887\"], [0.1111111111111111, \"#46039f\"], [0.2222222222222222, \"#7201a8\"], [0.3333333333333333, \"#9c179e\"], [0.4444444444444444, \"#bd3786\"], [0.5555555555555556, \"#d8576b\"], [0.6666666666666666, \"#ed7953\"], [0.7777777777777778, \"#fb9f3a\"], [0.8888888888888888, \"#fdca26\"], [1.0, \"#f0f921\"]], \"type\": \"surface\"}], \"table\": [{\"cells\": {\"fill\": {\"color\": \"#EBF0F8\"}, \"line\": {\"color\": \"white\"}}, \"header\": {\"fill\": {\"color\": \"#C8D4E3\"}, \"line\": {\"color\": \"white\"}}, \"type\": \"table\"}]}, \"layout\": {\"annotationdefaults\": {\"arrowcolor\": \"#2a3f5f\", \"arrowhead\": 0, \"arrowwidth\": 1}, \"coloraxis\": {\"colorbar\": {\"outlinewidth\": 0, \"ticks\": \"\"}}, \"colorscale\": {\"diverging\": [[0, \"#8e0152\"], [0.1, \"#c51b7d\"], [0.2, \"#de77ae\"], [0.3, \"#f1b6da\"], [0.4, \"#fde0ef\"], [0.5, \"#f7f7f7\"], [0.6, \"#e6f5d0\"], [0.7, \"#b8e186\"], [0.8, \"#7fbc41\"], [0.9, \"#4d9221\"], [1, \"#276419\"]], \"sequential\": [[0.0, \"#0d0887\"], [0.1111111111111111, \"#46039f\"], [0.2222222222222222, \"#7201a8\"], [0.3333333333333333, \"#9c179e\"], [0.4444444444444444, \"#bd3786\"], [0.5555555555555556, \"#d8576b\"], [0.6666666666666666, \"#ed7953\"], [0.7777777777777778, \"#fb9f3a\"], [0.8888888888888888, \"#fdca26\"], [1.0, \"#f0f921\"]], \"sequentialminus\": [[0.0, \"#0d0887\"], [0.1111111111111111, \"#46039f\"], [0.2222222222222222, \"#7201a8\"], [0.3333333333333333, \"#9c179e\"], [0.4444444444444444, \"#bd3786\"], [0.5555555555555556, \"#d8576b\"], [0.6666666666666666, \"#ed7953\"], [0.7777777777777778, \"#fb9f3a\"], [0.8888888888888888, \"#fdca26\"], [1.0, \"#f0f921\"]]}, \"colorway\": [\"#636efa\", \"#EF553B\", \"#00cc96\", \"#ab63fa\", \"#FFA15A\", \"#19d3f3\", \"#FF6692\", \"#B6E880\", \"#FF97FF\", \"#FECB52\"], \"font\": {\"color\": \"#2a3f5f\"}, \"geo\": {\"bgcolor\": \"white\", \"lakecolor\": \"white\", \"landcolor\": \"#E5ECF6\", \"showlakes\": true, \"showland\": true, \"subunitcolor\": \"white\"}, \"hoverlabel\": {\"align\": \"left\"}, \"hovermode\": \"closest\", \"mapbox\": {\"style\": \"light\"}, \"paper_bgcolor\": \"white\", \"plot_bgcolor\": \"#E5ECF6\", \"polar\": {\"angularaxis\": {\"gridcolor\": \"white\", \"linecolor\": \"white\", \"ticks\": \"\"}, \"bgcolor\": \"#E5ECF6\", \"radialaxis\": {\"gridcolor\": \"white\", \"linecolor\": \"white\", \"ticks\": \"\"}}, \"scene\": {\"xaxis\": {\"backgroundcolor\": \"#E5ECF6\", \"gridcolor\": \"white\", \"gridwidth\": 2, \"linecolor\": \"white\", \"showbackground\": true, \"ticks\": \"\", \"zerolinecolor\": \"white\"}, \"yaxis\": {\"backgroundcolor\": \"#E5ECF6\", \"gridcolor\": \"white\", \"gridwidth\": 2, \"linecolor\": \"white\", \"showbackground\": true, \"ticks\": \"\", \"zerolinecolor\": \"white\"}, \"zaxis\": {\"backgroundcolor\": \"#E5ECF6\", \"gridcolor\": \"white\", \"gridwidth\": 2, \"linecolor\": \"white\", \"showbackground\": true, \"ticks\": \"\", \"zerolinecolor\": \"white\"}}, \"shapedefaults\": {\"line\": {\"color\": \"#2a3f5f\"}}, \"ternary\": {\"aaxis\": {\"gridcolor\": \"white\", \"linecolor\": \"white\", \"ticks\": \"\"}, \"baxis\": {\"gridcolor\": \"white\", \"linecolor\": \"white\", \"ticks\": \"\"}, \"bgcolor\": \"#E5ECF6\", \"caxis\": {\"gridcolor\": \"white\", \"linecolor\": \"white\", \"ticks\": \"\"}}, \"title\": {\"x\": 0.05}, \"xaxis\": {\"automargin\": true, \"gridcolor\": \"white\", \"linecolor\": \"white\", \"ticks\": \"\", \"title\": {\"standoff\": 15}, \"zerolinecolor\": \"white\", \"zerolinewidth\": 2}, \"yaxis\": {\"automargin\": true, \"gridcolor\": \"white\", \"linecolor\": \"white\", \"ticks\": \"\", \"title\": {\"standoff\": 15}, \"zerolinecolor\": \"white\", \"zerolinewidth\": 2}}}, \"title\": {\"text\": \"Country\"}},\n",
              "                        {\"responsive\": true}\n",
              "                    ).then(function(){\n",
              "                            \n",
              "var gd = document.getElementById('c43bb5b7-2e33-44f3-b8cc-986363d08b26');\n",
              "var x = new MutationObserver(function (mutations, observer) {{\n",
              "        var display = window.getComputedStyle(gd).display;\n",
              "        if (!display || display === 'none') {{\n",
              "            console.log([gd, 'removed!']);\n",
              "            Plotly.purge(gd);\n",
              "            observer.disconnect();\n",
              "        }}\n",
              "}});\n",
              "\n",
              "// Listen for the removal of the full notebook cells\n",
              "var notebookContainer = gd.closest('#notebook-container');\n",
              "if (notebookContainer) {{\n",
              "    x.observe(notebookContainer, {childList: true});\n",
              "}}\n",
              "\n",
              "// Listen for the clearing of the current output cell\n",
              "var outputEl = gd.closest('.output');\n",
              "if (outputEl) {{\n",
              "    x.observe(outputEl, {childList: true});\n",
              "}}\n",
              "\n",
              "                        })\n",
              "                };\n",
              "                \n",
              "            </script>\n",
              "        </div>\n",
              "</body>\n",
              "</html>"
            ]
          },
          "metadata": {
            "tags": []
          }
        }
      ]
    },
    {
      "cell_type": "markdown",
      "metadata": {
        "id": "C8bOKAKDO_oK"
      },
      "source": [
        "# **Doanh nghiệp nên quảng cáo vào khung giờ nào để tăng doanh thu?**"
      ]
    },
    {
      "cell_type": "code",
      "metadata": {
        "id": "o0NrPz8kh7_a"
      },
      "source": [
        "def best_time():\n",
        "  gr_hour = data.groupby(\"Hour\").count()[\"TotalCost\"]\n",
        "  hour = [hour for hour, totalcost in gr_hour.items()]\n",
        "  plt.plot(hour, gr_hour)\n",
        "  plt.grid()\n",
        "  plt.xticks(hour, rotation = 90, size=8)\n",
        "  plt.xlabel(\"Time\")\n",
        "  plt.ylabel(\"TotalCost\")\n",
        "\n"
      ],
      "execution_count": 67,
      "outputs": []
    },
    {
      "cell_type": "code",
      "metadata": {
        "id": "4Mkjri_cVMeH",
        "outputId": "b3e512e9-9132-4dda-b5f0-2ff2b1de06ee",
        "colab": {
          "base_uri": "https://localhost:8080/",
          "height": 278
        }
      },
      "source": [
        "best_time()\n"
      ],
      "execution_count": 68,
      "outputs": [
        {
          "output_type": "display_data",
          "data": {
            "image/png": "[encoded data removed]",
            "text/plain": [
              "<Figure size 432x288 with 1 Axes>"
            ]
          },
          "metadata": {
            "tags": [],
            "needs_background": "light"
          }
        }
      ]
    },
    {
      "cell_type": "markdown",
      "metadata": {
        "id": "X4Fsq-CsrZ-X"
      },
      "source": [
        "# **Các sản phẩm nào thường được khách hàng mua kèm với nhau**"
      ]
    },
    {
      "cell_type": "code",
      "metadata": {
        "id": "gyVsElZPiJzN"
      },
      "source": [
        "def combo_product():\n",
        "  n = int(input(\"Nhập vào top combo muốn xem: \"))\n",
        "  data_dup = data[data[\"InvoiceNo\"].duplicated(keep= False)]\n",
        "  gr_product = lambda product: ','.join(product) \n",
        "  data_dup[\"All_Products\"]= data_dup.groupby(\"InvoiceNo\")[\"StockCode\"].transform(gr_product)\n",
        "  data_combo= data_dup[[\"InvoiceNo\",\"All_Products\"]].drop_duplicates()\n",
        "  data_combo[\"All_Products\"].value_counts()\n",
        "  plt.rcParams['figure.figsize'] = (12, 10)\n",
        "  a = data_combo[\"All_Products\"].value_counts().head(n)\n",
        "  sns.barplot(x = a.values, y = a.index, palette = 'inferno')\n",
        "  plt.title('Top 20 Combo Product', fontsize = 20)\n",
        "  plt.ylabel('Names of Combo Product',fontsize=18)\n",
        "  plt.xlabel\n",
        "  plt.show()\n"
      ],
      "execution_count": 71,
      "outputs": []
    },
    {
      "cell_type": "code",
      "metadata": {
        "id": "BEHS1Zw5rZPL",
        "colab": {
          "base_uri": "https://localhost:8080/",
          "height": 763
        },
        "outputId": "2d8c4262-b1c4-49e8-ad39-bce9cf84cd6d"
      },
      "source": [
        "combo_product()"
      ],
      "execution_count": 72,
      "outputs": [
        {
          "output_type": "stream",
          "text": [
            "Nhập vào top combo muốn xem: 5\n"
          ],
          "name": "stdout"
        },
        {
          "output_type": "stream",
          "text": [
            "/usr/local/lib/python3.7/dist-packages/ipykernel_launcher.py:5: SettingWithCopyWarning:\n",
            "\n",
            "\n",
            "A value is trying to be set on a copy of a slice from a DataFrame.\n",
            "Try using .loc[row_indexer,col_indexer] = value instead\n",
            "\n",
            "See the caveats in the documentation: https://pandas.pydata.org/pandas-docs/stable/user_guide/indexing.html#returning-a-view-versus-a-copy\n",
            "\n"
          ],
          "name": "stderr"
        },
        {
          "output_type": "display_data",
          "data": {
            "image/png": "[encoded data removed]",
            "text/plain": [
              "<Figure size 864x720 with 1 Axes>"
            ]
          },
          "metadata": {
            "tags": [],
            "needs_background": "light"
          }
        }
      ]
    },
    {
      "cell_type": "markdown",
      "metadata": {
        "id": "6w462q1iWgRz"
      },
      "source": [
        "# **Sản phẩm nào bán chạy nhất và tại sao?**"
      ]
    },
    {
      "cell_type": "code",
      "metadata": {
        "id": "RDn2vq1Lix6f"
      },
      "source": [
        "def bestsales_product():\n",
        "  all_products_pri =  data.groupby(\"StockCode\").mean()[\"UnitPrice\"]\n",
        "  all_products= data.groupby(\"StockCode\").sum()['Quantity']\n",
        "  product_ls = [StockCode for StockCode, Quantity in all_products.items()]\n",
        "  quan_ls = [int(Quantity) for StockCode, Quantity in all_products.items()]\n",
        "  price_ls = [UnitPrice for StockCode, UnitPrice in all_products_pri.items()]\n",
        "  arr_quan_pro=[]\n",
        "  arr_quan_pro.append(quan_ls)\n",
        "  arr_quan_pro.append(product_ls)\n",
        "  arr_quan_pro.append(price_ls)\n",
        "  ind = np.argpartition(arr_quan_pro[0], -10)[-10:]\n",
        "  print(ind[1])\n",
        "  print( \"Mã sản phẩm\", \" | \", \"Số lượng đã bán\", \" |   Giá\")\n",
        "  x=y1=y2=[]\n",
        "  for i in ind:\n",
        "    x.append(arr_quan_pro[1][i])\n",
        "    y1.append(int(arr_quan_pro[0][i]))\n",
        "    y2.append(arr_quan_pro[2][i])\n",
        "    print(arr_quan_pro[1][i], \" : \\t\", arr_quan_pro[0][i], \" :      \\t\",arr_quan_pro[2][i])\n",
        "  top_10_pro= all_products.sort_values()[3600:]\n",
        "  pro_ls =  [StockCode for StockCode, Quantity in top_10_pro.items()]\n",
        "  da = data.groupby(data[\"StockCode\"]).mean()[\"UnitPrice\"]\n",
        "  da= pd.DataFrame(da)\n",
        "  da= da.reset_index()\n",
        "  avg_price=[]\n",
        "  for i in pro_ls:\n",
        "    arr = da[da[\"StockCode\"] == str(i)]\n",
        "    arr= np.array(arr)\n",
        "    #avg_price.append(arr[1])\n",
        "    #print(arr[0])\n",
        "    avg_price.append(arr[0][1])\n",
        "  x= pro_ls\n",
        "  y1= top_10_pro\n",
        "  y2= avg_price\n",
        "  fig, ax1 = plt.subplots()\n",
        "  ax2= ax1.twinx()\n",
        "  ax1.bar(x, y1, color = \"g\")\n",
        "  ax2.plot(x, y2, 'b-')\n",
        "\n",
        "  ax1.set_xticklabels(pro_ls, rotation=90, size=8)\n",
        "  ax1.set_xlabel(\"Products\")\n",
        "  ax1.set_ylabel(\"Quatity\")\n",
        "  ax2.set_ylabel(\"Price Each\")\n",
        "  plt.show()\n",
        "    \n",
        "\n",
        "  \n",
        "\n"
      ],
      "execution_count": 74,
      "outputs": []
    },
    {
      "cell_type": "code",
      "metadata": {
        "colab": {
          "base_uri": "https://localhost:8080/",
          "height": 828
        },
        "id": "XjAW6slljoXv",
        "outputId": "35201241-fec7-46dc-bdd6-4c5c3beb0f62"
      },
      "source": [
        "bestsales_product()"
      ],
      "execution_count": 75,
      "outputs": [
        {
          "output_type": "stream",
          "text": [
            "1919\n",
            "Mã sản phẩm  |  Số lượng đã bán  |   Giá\n",
            "22492  : \t 26076  :      \t 0.6565230769230804\n",
            "23084  : \t 27202  :      \t 2.0139429928740933\n",
            "21212  : \t 33693  :      \t 0.5482116104868929\n",
            "84879  : \t 35362  :      \t 1.6807954545454948\n",
            "85123A  : \t 36782  :      \t 2.89310565110558\n",
            "84077  : \t 54415  :      \t 0.29260042283298265\n",
            "23843  : \t 80995  :      \t 2.08\n",
            "85099B  : \t 46181  :      \t 2.015877626699588\n",
            "22197  : \t 49183  :      \t 0.8392883895131239\n",
            "23166  : \t 77916  :      \t 1.22030303030303\n"
          ],
          "name": "stdout"
        },
        {
          "output_type": "display_data",
          "data": {
            "image/png": "[encoded data removed]",
            "text/plain": [
              "<Figure size 864x720 with 2 Axes>"
            ]
          },
          "metadata": {
            "tags": [],
            "needs_background": "light"
          }
        }
      ]
    },
    {
      "cell_type": "markdown",
      "metadata": {
        "id": "hyIG0OmUGcls"
      },
      "source": [
        "#Tìm độ chêch lệch trên trục dữ liệu\n",
        "Thống kê trong 1 ngày, tần số (Frequency) và lần mua gần nhất số lượng bao nhiêu (Recency) và số tiền thu nhập (Monetary) theo khách hàng."
      ]
    },
    {
      "cell_type": "code",
      "metadata": {
        "id": "WMr89eOfdEDs"
      },
      "source": [
        "RFM_data = pd.read_csv('/content/drive/MyDrive/python_OP/RFM_data.csv')\n",
        "RFM_data.pop('Unnamed: 0')\n",
        "RFM_data.head()\n"
      ],
      "execution_count": null,
      "outputs": []
    },
    {
      "cell_type": "code",
      "metadata": {
        "id": "bfpTKFturAib"
      },
      "source": [
        "fig = px.scatter(RFM_data,x = \"Recency\", y = \"Frequency\",color = \"RFM_Loyality_level\")\n",
        "fig.show()\n",
        "\n",
        "# Frequency V/s Monetary\n",
        "fig = px.scatter(RFM_data,x = \"Monetary\", y = \"Frequency\",color = \"RFM_Loyality_level\")\n",
        "fig.show()\n",
        "\n",
        "# Monetary V/s Recency\n",
        "fig = px.scatter(RFM_data,x = \"Monetary\", y = \"Recency\",color = \"RFM_Loyality_level\")\n",
        "fig.show()"
      ],
      "execution_count": null,
      "outputs": []
    },
    {
      "cell_type": "code",
      "metadata": {
        "id": "jCBACTECDYB5"
      },
      "source": [
        "RFM_data = pd.read_csv('/content/drive/MyDrive/python_OP/K-Mean_data.csv')\n",
        "RFM_data.pop('Unnamed: 0')\n",
        "RFM_data.head()\n"
      ],
      "execution_count": null,
      "outputs": []
    },
    {
      "cell_type": "code",
      "metadata": {
        "id": "mIUlMsQPeich"
      },
      "source": [
        "# Recency V/s Frequency\n",
        "fig = px.scatter(RFM_data,x = 'Recency',y = 'Frequency', color = 'Cluster')\n",
        "fig.show()\n",
        "\n",
        "# Frequency V/s Monetary\n",
        "fig = px.scatter(RFM_data,x = 'Monetary',y = 'Frequency', color = 'Cluster')\n",
        "fig.show()\n",
        "\n",
        "# Recency V/s Monetary\n",
        "fig = px.scatter(RFM_data,x = 'Monetary',y = 'Recency', color = 'Cluster')\n",
        "fig.show()"
      ],
      "execution_count": null,
      "outputs": []
    },
    {
      "cell_type": "code",
      "metadata": {
        "id": "HjzsS3Kc079U"
      },
      "source": [
        "mc=pw.Pywedge_Charts(RFM_data,c=None,y=\"RFM_Loyality_level\")"
      ],
      "execution_count": null,
      "outputs": []
    },
    {
      "cell_type": "code",
      "metadata": {
        "id": "MH4VgBlWlJWD"
      },
      "source": [
        "charts =mc.make_charts()"
      ],
      "execution_count": null,
      "outputs": []
    }
  ]
}