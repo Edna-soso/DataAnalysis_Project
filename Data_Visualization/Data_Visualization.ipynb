{
  "nbformat": 4,
  "nbformat_minor": 0,
  "metadata": {
    "colab": {
      "name": "Data_Visualization.ipynb",
      "provenance": [],
      "collapsed_sections": [],
      "include_colab_link": true
    },
    "kernelspec": {
      "name": "python3",
      "display_name": "Python 3"
    },
    "language_info": {
      "name": "python"
    }
  },
  "cells": [
    {
      "cell_type": "markdown",
      "metadata": {
        "id": "view-in-github",
        "colab_type": "text"
      },
      "source": [
        "<a href=\"https://colab.research.google.com/github/Edna-soso/DataAnalysis_Project/blob/main/Data_Visualization/Data_Visualization.ipynb\" target=\"_parent\"><img src=\"https://colab.research.google.com/assets/colab-badge.svg\" alt=\"Open In Colab\"/></a>"
      ]
    },
    {
      "cell_type": "code",
      "metadata": {
        "colab": {
          "base_uri": "https://localhost:8080/"
        },
        "id": "zmi9fMv1FwgL",
        "outputId": "810d0b92-91be-4627-cd5e-42abc2f532da"
      },
      "source": [
        "from google.colab import drive\n",
        "drive.mount('/content/drive')"
      ],
      "execution_count": 105,
      "outputs": [
        {
          "output_type": "stream",
          "text": [
            "Drive already mounted at /content/drive; to attempt to forcibly remount, call drive.mount(\"/content/drive\", force_remount=True).\n"
          ],
          "name": "stdout"
        }
      ]
    },
    {
      "cell_type": "code",
      "metadata": {
        "id": "Bowvx9twALRr"
      },
      "source": [
        "%matplotlib inline"
      ],
      "execution_count": 106,
      "outputs": []
    },
    {
      "cell_type": "code",
      "metadata": {
        "id": "vs5b0FmAE--U"
      },
      "source": [
        "import numpy as np\n",
        "import pandas as pd\n",
        "\n",
        "import matplotlib.pyplot as plt\n",
        "import datetime as dt\n",
        "from matplotlib.gridspec import GridSpec\n",
        "import seaborn as sns\n",
        "import plotly.express as px\n",
        "\n",
        "import plotly.graph_objs as go"
      ],
      "execution_count": 107,
      "outputs": []
    },
    {
      "cell_type": "code",
      "metadata": {
        "id": "XSI4lX0rQRs3"
      },
      "source": [
        "data = pd.read_csv('/content/drive/MyDrive/python_OP/Clean_Dataset.csv')"
      ],
      "execution_count": 108,
      "outputs": []
    },
    {
      "cell_type": "code",
      "metadata": {
        "colab": {
          "base_uri": "https://localhost:8080/"
        },
        "id": "AZywBV6C_QWi",
        "outputId": "1d315bd4-d081-4b45-9aac-b1032f4c2000"
      },
      "source": [
        "data.pop('Unnamed: 0')"
      ],
      "execution_count": 109,
      "outputs": [
        {
          "output_type": "execute_result",
          "data": {
            "text/plain": [
              "0              0\n",
              "1              1\n",
              "2              2\n",
              "3              3\n",
              "4              4\n",
              "           ...  \n",
              "397919    541904\n",
              "397920    541905\n",
              "397921    541906\n",
              "397922    541907\n",
              "397923    541908\n",
              "Name: Unnamed: 0, Length: 397924, dtype: int64"
            ]
          },
          "metadata": {
            "tags": []
          },
          "execution_count": 109
        }
      ]
    },
    {
      "cell_type": "code",
      "metadata": {
        "colab": {
          "base_uri": "https://localhost:8080/",
          "height": 190
        },
        "id": "nv7TLcMeDdJj",
        "outputId": "0f207227-c6dd-4c44-9090-0d2f40f0df96"
      },
      "source": [
        "data.head()"
      ],
      "execution_count": 110,
      "outputs": [
        {
          "output_type": "execute_result",
          "data": {
            "text/html": [
              "<div>\n",
              "<style scoped>\n",
              "    .dataframe tbody tr th:only-of-type {\n",
              "        vertical-align: middle;\n",
              "    }\n",
              "\n",
              "    .dataframe tbody tr th {\n",
              "        vertical-align: top;\n",
              "    }\n",
              "\n",
              "    .dataframe thead th {\n",
              "        text-align: right;\n",
              "    }\n",
              "</style>\n",
              "<table border=\"1\" class=\"dataframe\">\n",
              "  <thead>\n",
              "    <tr style=\"text-align: right;\">\n",
              "      <th></th>\n",
              "      <th>InvoiceNo</th>\n",
              "      <th>StockCode</th>\n",
              "      <th>Description</th>\n",
              "      <th>Quantity</th>\n",
              "      <th>InvoiceDate</th>\n",
              "      <th>UnitPrice</th>\n",
              "      <th>CustomerID</th>\n",
              "      <th>Country</th>\n",
              "      <th>Date</th>\n",
              "      <th>Time</th>\n",
              "      <th>Hour</th>\n",
              "      <th>Month</th>\n",
              "      <th>Year</th>\n",
              "      <th>TotalCost</th>\n",
              "    </tr>\n",
              "  </thead>\n",
              "  <tbody>\n",
              "    <tr>\n",
              "      <th>0</th>\n",
              "      <td>536365</td>\n",
              "      <td>85123A</td>\n",
              "      <td>WHITE HANGING HEART T-LIGHT HOLDER</td>\n",
              "      <td>6</td>\n",
              "      <td>12/1/2010 8:26</td>\n",
              "      <td>2.55</td>\n",
              "      <td>17850.0</td>\n",
              "      <td>United Kingdom</td>\n",
              "      <td>12/1/2010</td>\n",
              "      <td>8:26</td>\n",
              "      <td>8</td>\n",
              "      <td>12</td>\n",
              "      <td>2010</td>\n",
              "      <td>15.30</td>\n",
              "    </tr>\n",
              "    <tr>\n",
              "      <th>1</th>\n",
              "      <td>536365</td>\n",
              "      <td>71053</td>\n",
              "      <td>WHITE METAL LANTERN</td>\n",
              "      <td>6</td>\n",
              "      <td>12/1/2010 8:26</td>\n",
              "      <td>3.39</td>\n",
              "      <td>17850.0</td>\n",
              "      <td>United Kingdom</td>\n",
              "      <td>12/1/2010</td>\n",
              "      <td>8:26</td>\n",
              "      <td>8</td>\n",
              "      <td>12</td>\n",
              "      <td>2010</td>\n",
              "      <td>20.34</td>\n",
              "    </tr>\n",
              "    <tr>\n",
              "      <th>2</th>\n",
              "      <td>536365</td>\n",
              "      <td>84406B</td>\n",
              "      <td>CREAM CUPID HEARTS COAT HANGER</td>\n",
              "      <td>8</td>\n",
              "      <td>12/1/2010 8:26</td>\n",
              "      <td>2.75</td>\n",
              "      <td>17850.0</td>\n",
              "      <td>United Kingdom</td>\n",
              "      <td>12/1/2010</td>\n",
              "      <td>8:26</td>\n",
              "      <td>8</td>\n",
              "      <td>12</td>\n",
              "      <td>2010</td>\n",
              "      <td>22.00</td>\n",
              "    </tr>\n",
              "    <tr>\n",
              "      <th>3</th>\n",
              "      <td>536365</td>\n",
              "      <td>84029G</td>\n",
              "      <td>KNITTED UNION FLAG HOT WATER BOTTLE</td>\n",
              "      <td>6</td>\n",
              "      <td>12/1/2010 8:26</td>\n",
              "      <td>3.39</td>\n",
              "      <td>17850.0</td>\n",
              "      <td>United Kingdom</td>\n",
              "      <td>12/1/2010</td>\n",
              "      <td>8:26</td>\n",
              "      <td>8</td>\n",
              "      <td>12</td>\n",
              "      <td>2010</td>\n",
              "      <td>20.34</td>\n",
              "    </tr>\n",
              "    <tr>\n",
              "      <th>4</th>\n",
              "      <td>536365</td>\n",
              "      <td>84029E</td>\n",
              "      <td>RED WOOLLY HOTTIE WHITE HEART.</td>\n",
              "      <td>6</td>\n",
              "      <td>12/1/2010 8:26</td>\n",
              "      <td>3.39</td>\n",
              "      <td>17850.0</td>\n",
              "      <td>United Kingdom</td>\n",
              "      <td>12/1/2010</td>\n",
              "      <td>8:26</td>\n",
              "      <td>8</td>\n",
              "      <td>12</td>\n",
              "      <td>2010</td>\n",
              "      <td>20.34</td>\n",
              "    </tr>\n",
              "  </tbody>\n",
              "</table>\n",
              "</div>"
            ],
            "text/plain": [
              "   InvoiceNo StockCode  ...  Year  TotalCost\n",
              "0     536365    85123A  ...  2010      15.30\n",
              "1     536365     71053  ...  2010      20.34\n",
              "2     536365    84406B  ...  2010      22.00\n",
              "3     536365    84029G  ...  2010      20.34\n",
              "4     536365    84029E  ...  2010      20.34\n",
              "\n",
              "[5 rows x 14 columns]"
            ]
          },
          "metadata": {
            "tags": []
          },
          "execution_count": 110
        }
      ]
    },
    {
      "cell_type": "code",
      "metadata": {
        "id": "9W1S3tsLCQ3d"
      },
      "source": [
        "moving_column= data.pop(\"TotalCost\")\n",
        "data.insert(6,\"TotalCost\", moving_column)\n"
      ],
      "execution_count": 111,
      "outputs": []
    },
    {
      "cell_type": "code",
      "metadata": {
        "colab": {
          "base_uri": "https://localhost:8080/",
          "height": 190
        },
        "id": "jmUCkRrZD8oW",
        "outputId": "10f2d18e-a95b-4e30-8541-5e73226856ca"
      },
      "source": [
        "data.head()"
      ],
      "execution_count": 112,
      "outputs": [
        {
          "output_type": "execute_result",
          "data": {
            "text/html": [
              "<div>\n",
              "<style scoped>\n",
              "    .dataframe tbody tr th:only-of-type {\n",
              "        vertical-align: middle;\n",
              "    }\n",
              "\n",
              "    .dataframe tbody tr th {\n",
              "        vertical-align: top;\n",
              "    }\n",
              "\n",
              "    .dataframe thead th {\n",
              "        text-align: right;\n",
              "    }\n",
              "</style>\n",
              "<table border=\"1\" class=\"dataframe\">\n",
              "  <thead>\n",
              "    <tr style=\"text-align: right;\">\n",
              "      <th></th>\n",
              "      <th>InvoiceNo</th>\n",
              "      <th>StockCode</th>\n",
              "      <th>Description</th>\n",
              "      <th>Quantity</th>\n",
              "      <th>InvoiceDate</th>\n",
              "      <th>UnitPrice</th>\n",
              "      <th>TotalCost</th>\n",
              "      <th>CustomerID</th>\n",
              "      <th>Country</th>\n",
              "      <th>Date</th>\n",
              "      <th>Time</th>\n",
              "      <th>Hour</th>\n",
              "      <th>Month</th>\n",
              "      <th>Year</th>\n",
              "    </tr>\n",
              "  </thead>\n",
              "  <tbody>\n",
              "    <tr>\n",
              "      <th>0</th>\n",
              "      <td>536365</td>\n",
              "      <td>85123A</td>\n",
              "      <td>WHITE HANGING HEART T-LIGHT HOLDER</td>\n",
              "      <td>6</td>\n",
              "      <td>12/1/2010 8:26</td>\n",
              "      <td>2.55</td>\n",
              "      <td>15.30</td>\n",
              "      <td>17850.0</td>\n",
              "      <td>United Kingdom</td>\n",
              "      <td>12/1/2010</td>\n",
              "      <td>8:26</td>\n",
              "      <td>8</td>\n",
              "      <td>12</td>\n",
              "      <td>2010</td>\n",
              "    </tr>\n",
              "    <tr>\n",
              "      <th>1</th>\n",
              "      <td>536365</td>\n",
              "      <td>71053</td>\n",
              "      <td>WHITE METAL LANTERN</td>\n",
              "      <td>6</td>\n",
              "      <td>12/1/2010 8:26</td>\n",
              "      <td>3.39</td>\n",
              "      <td>20.34</td>\n",
              "      <td>17850.0</td>\n",
              "      <td>United Kingdom</td>\n",
              "      <td>12/1/2010</td>\n",
              "      <td>8:26</td>\n",
              "      <td>8</td>\n",
              "      <td>12</td>\n",
              "      <td>2010</td>\n",
              "    </tr>\n",
              "    <tr>\n",
              "      <th>2</th>\n",
              "      <td>536365</td>\n",
              "      <td>84406B</td>\n",
              "      <td>CREAM CUPID HEARTS COAT HANGER</td>\n",
              "      <td>8</td>\n",
              "      <td>12/1/2010 8:26</td>\n",
              "      <td>2.75</td>\n",
              "      <td>22.00</td>\n",
              "      <td>17850.0</td>\n",
              "      <td>United Kingdom</td>\n",
              "      <td>12/1/2010</td>\n",
              "      <td>8:26</td>\n",
              "      <td>8</td>\n",
              "      <td>12</td>\n",
              "      <td>2010</td>\n",
              "    </tr>\n",
              "    <tr>\n",
              "      <th>3</th>\n",
              "      <td>536365</td>\n",
              "      <td>84029G</td>\n",
              "      <td>KNITTED UNION FLAG HOT WATER BOTTLE</td>\n",
              "      <td>6</td>\n",
              "      <td>12/1/2010 8:26</td>\n",
              "      <td>3.39</td>\n",
              "      <td>20.34</td>\n",
              "      <td>17850.0</td>\n",
              "      <td>United Kingdom</td>\n",
              "      <td>12/1/2010</td>\n",
              "      <td>8:26</td>\n",
              "      <td>8</td>\n",
              "      <td>12</td>\n",
              "      <td>2010</td>\n",
              "    </tr>\n",
              "    <tr>\n",
              "      <th>4</th>\n",
              "      <td>536365</td>\n",
              "      <td>84029E</td>\n",
              "      <td>RED WOOLLY HOTTIE WHITE HEART.</td>\n",
              "      <td>6</td>\n",
              "      <td>12/1/2010 8:26</td>\n",
              "      <td>3.39</td>\n",
              "      <td>20.34</td>\n",
              "      <td>17850.0</td>\n",
              "      <td>United Kingdom</td>\n",
              "      <td>12/1/2010</td>\n",
              "      <td>8:26</td>\n",
              "      <td>8</td>\n",
              "      <td>12</td>\n",
              "      <td>2010</td>\n",
              "    </tr>\n",
              "  </tbody>\n",
              "</table>\n",
              "</div>"
            ],
            "text/plain": [
              "   InvoiceNo StockCode                          Description  ...  Hour Month  Year\n",
              "0     536365    85123A   WHITE HANGING HEART T-LIGHT HOLDER  ...     8    12  2010\n",
              "1     536365     71053                  WHITE METAL LANTERN  ...     8    12  2010\n",
              "2     536365    84406B       CREAM CUPID HEARTS COAT HANGER  ...     8    12  2010\n",
              "3     536365    84029G  KNITTED UNION FLAG HOT WATER BOTTLE  ...     8    12  2010\n",
              "4     536365    84029E       RED WOOLLY HOTTIE WHITE HEART.  ...     8    12  2010\n",
              "\n",
              "[5 rows x 14 columns]"
            ]
          },
          "metadata": {
            "tags": []
          },
          "execution_count": 112
        }
      ]
    },
    {
      "cell_type": "code",
      "metadata": {
        "id": "D1kVwpRZED8W"
      },
      "source": [
        "moving_column= data.pop(\"InvoiceDate\")\n",
        "data.insert(7,\"InvoiceDate\", moving_column)"
      ],
      "execution_count": 113,
      "outputs": []
    },
    {
      "cell_type": "code",
      "metadata": {
        "colab": {
          "base_uri": "https://localhost:8080/",
          "height": 190
        },
        "id": "5C-Ct9VyEOus",
        "outputId": "3e12911c-f0ea-4e3a-a611-1ee53ae504dd"
      },
      "source": [
        "data.head()"
      ],
      "execution_count": 114,
      "outputs": [
        {
          "output_type": "execute_result",
          "data": {
            "text/html": [
              "<div>\n",
              "<style scoped>\n",
              "    .dataframe tbody tr th:only-of-type {\n",
              "        vertical-align: middle;\n",
              "    }\n",
              "\n",
              "    .dataframe tbody tr th {\n",
              "        vertical-align: top;\n",
              "    }\n",
              "\n",
              "    .dataframe thead th {\n",
              "        text-align: right;\n",
              "    }\n",
              "</style>\n",
              "<table border=\"1\" class=\"dataframe\">\n",
              "  <thead>\n",
              "    <tr style=\"text-align: right;\">\n",
              "      <th></th>\n",
              "      <th>InvoiceNo</th>\n",
              "      <th>StockCode</th>\n",
              "      <th>Description</th>\n",
              "      <th>Quantity</th>\n",
              "      <th>UnitPrice</th>\n",
              "      <th>TotalCost</th>\n",
              "      <th>CustomerID</th>\n",
              "      <th>InvoiceDate</th>\n",
              "      <th>Country</th>\n",
              "      <th>Date</th>\n",
              "      <th>Time</th>\n",
              "      <th>Hour</th>\n",
              "      <th>Month</th>\n",
              "      <th>Year</th>\n",
              "    </tr>\n",
              "  </thead>\n",
              "  <tbody>\n",
              "    <tr>\n",
              "      <th>0</th>\n",
              "      <td>536365</td>\n",
              "      <td>85123A</td>\n",
              "      <td>WHITE HANGING HEART T-LIGHT HOLDER</td>\n",
              "      <td>6</td>\n",
              "      <td>2.55</td>\n",
              "      <td>15.30</td>\n",
              "      <td>17850.0</td>\n",
              "      <td>12/1/2010 8:26</td>\n",
              "      <td>United Kingdom</td>\n",
              "      <td>12/1/2010</td>\n",
              "      <td>8:26</td>\n",
              "      <td>8</td>\n",
              "      <td>12</td>\n",
              "      <td>2010</td>\n",
              "    </tr>\n",
              "    <tr>\n",
              "      <th>1</th>\n",
              "      <td>536365</td>\n",
              "      <td>71053</td>\n",
              "      <td>WHITE METAL LANTERN</td>\n",
              "      <td>6</td>\n",
              "      <td>3.39</td>\n",
              "      <td>20.34</td>\n",
              "      <td>17850.0</td>\n",
              "      <td>12/1/2010 8:26</td>\n",
              "      <td>United Kingdom</td>\n",
              "      <td>12/1/2010</td>\n",
              "      <td>8:26</td>\n",
              "      <td>8</td>\n",
              "      <td>12</td>\n",
              "      <td>2010</td>\n",
              "    </tr>\n",
              "    <tr>\n",
              "      <th>2</th>\n",
              "      <td>536365</td>\n",
              "      <td>84406B</td>\n",
              "      <td>CREAM CUPID HEARTS COAT HANGER</td>\n",
              "      <td>8</td>\n",
              "      <td>2.75</td>\n",
              "      <td>22.00</td>\n",
              "      <td>17850.0</td>\n",
              "      <td>12/1/2010 8:26</td>\n",
              "      <td>United Kingdom</td>\n",
              "      <td>12/1/2010</td>\n",
              "      <td>8:26</td>\n",
              "      <td>8</td>\n",
              "      <td>12</td>\n",
              "      <td>2010</td>\n",
              "    </tr>\n",
              "    <tr>\n",
              "      <th>3</th>\n",
              "      <td>536365</td>\n",
              "      <td>84029G</td>\n",
              "      <td>KNITTED UNION FLAG HOT WATER BOTTLE</td>\n",
              "      <td>6</td>\n",
              "      <td>3.39</td>\n",
              "      <td>20.34</td>\n",
              "      <td>17850.0</td>\n",
              "      <td>12/1/2010 8:26</td>\n",
              "      <td>United Kingdom</td>\n",
              "      <td>12/1/2010</td>\n",
              "      <td>8:26</td>\n",
              "      <td>8</td>\n",
              "      <td>12</td>\n",
              "      <td>2010</td>\n",
              "    </tr>\n",
              "    <tr>\n",
              "      <th>4</th>\n",
              "      <td>536365</td>\n",
              "      <td>84029E</td>\n",
              "      <td>RED WOOLLY HOTTIE WHITE HEART.</td>\n",
              "      <td>6</td>\n",
              "      <td>3.39</td>\n",
              "      <td>20.34</td>\n",
              "      <td>17850.0</td>\n",
              "      <td>12/1/2010 8:26</td>\n",
              "      <td>United Kingdom</td>\n",
              "      <td>12/1/2010</td>\n",
              "      <td>8:26</td>\n",
              "      <td>8</td>\n",
              "      <td>12</td>\n",
              "      <td>2010</td>\n",
              "    </tr>\n",
              "  </tbody>\n",
              "</table>\n",
              "</div>"
            ],
            "text/plain": [
              "   InvoiceNo StockCode                          Description  ...  Hour  Month  Year\n",
              "0     536365    85123A   WHITE HANGING HEART T-LIGHT HOLDER  ...     8     12  2010\n",
              "1     536365     71053                  WHITE METAL LANTERN  ...     8     12  2010\n",
              "2     536365    84406B       CREAM CUPID HEARTS COAT HANGER  ...     8     12  2010\n",
              "3     536365    84029G  KNITTED UNION FLAG HOT WATER BOTTLE  ...     8     12  2010\n",
              "4     536365    84029E       RED WOOLLY HOTTIE WHITE HEART.  ...     8     12  2010\n",
              "\n",
              "[5 rows x 14 columns]"
            ]
          },
          "metadata": {
            "tags": []
          },
          "execution_count": 114
        }
      ]
    },
    {
      "cell_type": "markdown",
      "metadata": {
        "id": "Dow1yTMkBfEF"
      },
      "source": [
        "# **Tháng có doanh số cao nhất?**"
      ]
    },
    {
      "cell_type": "code",
      "metadata": {
        "colab": {
          "base_uri": "https://localhost:8080/"
        },
        "id": "YPLM5U3SEUNp",
        "outputId": "dd964790-f60e-4b28-bb7c-656146454809"
      },
      "source": [
        "gr_month= data.groupby(\"Month\").sum()[\"TotalCost\"]\n",
        "gr_month"
      ],
      "execution_count": 115,
      "outputs": [
        {
          "output_type": "execute_result",
          "data": {
            "text/plain": [
              "Month\n",
              "1      569445.040\n",
              "2      447137.350\n",
              "3      595500.760\n",
              "4      469200.361\n",
              "5      678594.560\n",
              "6      661213.690\n",
              "7      600091.011\n",
              "8      645343.900\n",
              "9      952838.382\n",
              "10    1039318.790\n",
              "11    1161817.380\n",
              "12    1090906.680\n",
              "Name: TotalCost, dtype: float64"
            ]
          },
          "metadata": {
            "tags": []
          },
          "execution_count": 115
        }
      ]
    },
    {
      "cell_type": "code",
      "metadata": {
        "colab": {
          "base_uri": "https://localhost:8080/"
        },
        "id": "reLLG4p9Euef",
        "outputId": "0e52eabc-e74e-42cb-99ba-2b3a9bfeb5b1"
      },
      "source": [
        "gr_month.max()"
      ],
      "execution_count": 116,
      "outputs": [
        {
          "output_type": "execute_result",
          "data": {
            "text/plain": [
              "1161817.3799999433"
            ]
          },
          "metadata": {
            "tags": []
          },
          "execution_count": 116
        }
      ]
    },
    {
      "cell_type": "markdown",
      "metadata": {
        "id": "kFVq2WtNFTfr"
      },
      "source": [
        "Trực quan totalCost theo month"
      ]
    },
    {
      "cell_type": "code",
      "metadata": {
        "colab": {
          "base_uri": "https://localhost:8080/",
          "height": 307
        },
        "id": "6YUBh0MNFPSY",
        "outputId": "e01cdce6-9bf5-440d-ae5c-a9e71679dee3"
      },
      "source": [
        "months = range(1,13)\n",
        "plt.bar(months, gr_month, align='center')\n",
        "plt.xticks(months)\n",
        "plt.xlabel(\"Months\")\n",
        "plt.ylabel(\"TotalCost\")"
      ],
      "execution_count": 117,
      "outputs": [
        {
          "output_type": "execute_result",
          "data": {
            "text/plain": [
              "Text(0, 0.5, 'TotalCost')"
            ]
          },
          "metadata": {
            "tags": []
          },
          "execution_count": 117
        },
        {
          "output_type": "display_data",
          "data": {
            "image/png": "[encoded data removed]",
            "text/plain": [
              "<Figure size 432x288 with 1 Axes>"
            ]
          },
          "metadata": {
            "tags": [],
            "needs_background": "light"
          }
        }
      ]
    },
    {
      "cell_type": "markdown",
      "metadata": {
        "id": "TTBx27ObLLI8"
      },
      "source": [
        "#**Country nào có doanh số cao nhất** "
      ]
    },
    {
      "cell_type": "code",
      "metadata": {
        "id": "MaQEzi7NLgnC"
      },
      "source": [
        "gr_country = data.groupby(\"Country\").sum()[\"TotalCost\"]\n",
        "gr_country.max()\n",
        "country = [country for country, totalcost in gr_country.items()]"
      ],
      "execution_count": 118,
      "outputs": []
    },
    {
      "cell_type": "code",
      "metadata": {
        "colab": {
          "base_uri": "https://localhost:8080/",
          "height": 542
        },
        "id": "WZTbFQdyLzOe",
        "outputId": "948af83b-5df3-49fc-cf41-dcb2726558f6"
      },
      "source": [
        "df= data\n",
        "df = go.Bar(x = country, y = gr_country,marker={'color': gr_country,'colorscale': 'Viridis'})\n",
        "layout = go.Layout(title = 'Country')\n",
        "fig = go.Figure(data=df , layout = layout)\n",
        "fig.show()"
      ],
      "execution_count": 119,
      "outputs": [
        {
          "output_type": "display_data",
          "data": {
            "text/html": [
              "<html>\n",
              "<head><meta charset=\"utf-8\" /></head>\n",
              "<body>\n",
              "    <div>\n",
              "            <script src=\"https://cdnjs.cloudflare.com/ajax/libs/mathjax/2.7.5/MathJax.js?config=TeX-AMS-MML_SVG\"></script><script type=\"text/javascript\">if (window.MathJax) {MathJax.Hub.Config({SVG: {font: \"STIX-Web\"}});}</script>\n",
              "                <script type=\"text/javascript\">window.PlotlyConfig = {MathJaxConfig: 'local'};</script>\n",
              "        <script src=\"https://cdn.plot.ly/plotly-latest.min.js\"></script>    \n",
              "            <div id=\"5ab09e5a-1f6b-4806-9ad2-b51ce457e030\" class=\"plotly-graph-div\" style=\"height:525px; width:100%;\"></div>\n",
              "            <script type=\"text/javascript\">\n",
              "                \n",
              "                    window.PLOTLYENV=window.PLOTLYENV || {};\n",
              "                    \n",
              "                if (document.getElementById(\"5ab09e5a-1f6b-4806-9ad2-b51ce457e030\")) {\n",
              "                    Plotly.newPlot(\n",
              "                        '5ab09e5a-1f6b-4806-9ad2-b51ce457e030',\n",
              "                        [{\"marker\": {\"color\": [138521.30999999956, 10198.679999999997, 548.4, 41196.33999999997, 1143.6000000000001, 3666.380000000001, 20450.439999999962, 13590.379999999994, 826.7400000000001, 18955.339999999997, 265545.8999999985, 1300.2500000000002, 22546.079999999973, 209024.0499999997, 228867.13999999844, 4760.5199999999995, 4309.999999999997, 7221.689999999999, 17483.240000000005, 37416.37000000001, 1693.8800000000006, 1661.06, 2725.59, 285446.34, 36165.440000000046, 7334.649999999997, 33439.890000000014, 1002.3099999999998, 145.92000000000002, 21279.289999999994, 61577.10999999997, 38378.33000000003, 56443.95000000004, 3580.3900000000012, 1902.2800000000007, 7308391.5540030645, 2667.0700000000006], \"colorscale\": [[0.0, \"#440154\"], [0.1111111111111111, \"#482878\"], [0.2222222222222222, \"#3e4989\"], [0.3333333333333333, \"#31688e\"], [0.4444444444444444, \"#26828e\"], [0.5555555555555556, \"#1f9e89\"], [0.6666666666666666, \"#35b779\"], [0.7777777777777778, \"#6ece58\"], [0.8888888888888888, \"#b5de2b\"], [1.0, \"#fde725\"]]}, \"type\": \"bar\", \"x\": [\"Australia\", \"Austria\", \"Bahrain\", \"Belgium\", \"Brazil\", \"Canada\", \"Channel Islands\", \"Cyprus\", \"Czech Republic\", \"Denmark\", \"EIRE\", \"European Community\", \"Finland\", \"France\", \"Germany\", \"Greece\", \"Iceland\", \"Israel\", \"Italy\", \"Japan\", \"Lebanon\", \"Lithuania\", \"Malta\", \"Netherlands\", \"Norway\", \"Poland\", \"Portugal\", \"RSA\", \"Saudi Arabia\", \"Singapore\", \"Spain\", \"Sweden\", \"Switzerland\", \"USA\", \"United Arab Emirates\", \"United Kingdom\", \"Unspecified\"], \"y\": [138521.30999999956, 10198.679999999997, 548.4, 41196.33999999997, 1143.6000000000001, 3666.380000000001, 20450.439999999962, 13590.379999999994, 826.7400000000001, 18955.339999999997, 265545.8999999985, 1300.2500000000002, 22546.079999999973, 209024.0499999997, 228867.13999999844, 4760.5199999999995, 4309.999999999997, 7221.689999999999, 17483.240000000005, 37416.37000000001, 1693.8800000000006, 1661.06, 2725.59, 285446.34, 36165.440000000046, 7334.649999999997, 33439.890000000014, 1002.3099999999998, 145.92000000000002, 21279.289999999994, 61577.10999999997, 38378.33000000003, 56443.95000000004, 3580.3900000000012, 1902.2800000000007, 7308391.5540030645, 2667.0700000000006]}],\n",
              "                        {\"template\": {\"data\": {\"bar\": [{\"error_x\": {\"color\": \"#2a3f5f\"}, \"error_y\": {\"color\": \"#2a3f5f\"}, \"marker\": {\"line\": {\"color\": \"#E5ECF6\", \"width\": 0.5}}, \"type\": \"bar\"}], \"barpolar\": [{\"marker\": {\"line\": {\"color\": \"#E5ECF6\", \"width\": 0.5}}, \"type\": \"barpolar\"}], \"carpet\": [{\"aaxis\": {\"endlinecolor\": \"#2a3f5f\", \"gridcolor\": \"white\", \"linecolor\": \"white\", \"minorgridcolor\": \"white\", \"startlinecolor\": \"#2a3f5f\"}, \"baxis\": {\"endlinecolor\": \"#2a3f5f\", \"gridcolor\": \"white\", \"linecolor\": \"white\", \"minorgridcolor\": \"white\", \"startlinecolor\": \"#2a3f5f\"}, \"type\": \"carpet\"}], \"choropleth\": [{\"colorbar\": {\"outlinewidth\": 0, \"ticks\": \"\"}, \"type\": \"choropleth\"}], \"contour\": [{\"colorbar\": {\"outlinewidth\": 0, \"ticks\": \"\"}, \"colorscale\": [[0.0, \"#0d0887\"], [0.1111111111111111, \"#46039f\"], [0.2222222222222222, \"#7201a8\"], [0.3333333333333333, \"#9c179e\"], [0.4444444444444444, \"#bd3786\"], [0.5555555555555556, \"#d8576b\"], [0.6666666666666666, \"#ed7953\"], [0.7777777777777778, \"#fb9f3a\"], [0.8888888888888888, \"#fdca26\"], [1.0, \"#f0f921\"]], \"type\": \"contour\"}], \"contourcarpet\": [{\"colorbar\": {\"outlinewidth\": 0, \"ticks\": \"\"}, \"type\": \"contourcarpet\"}], \"heatmap\": [{\"colorbar\": {\"outlinewidth\": 0, \"ticks\": \"\"}, \"colorscale\": [[0.0, \"#0d0887\"], [0.1111111111111111, \"#46039f\"], [0.2222222222222222, \"#7201a8\"], [0.3333333333333333, \"#9c179e\"], [0.4444444444444444, \"#bd3786\"], [0.5555555555555556, \"#d8576b\"], [0.6666666666666666, \"#ed7953\"], [0.7777777777777778, \"#fb9f3a\"], [0.8888888888888888, \"#fdca26\"], [1.0, \"#f0f921\"]], \"type\": \"heatmap\"}], \"heatmapgl\": [{\"colorbar\": {\"outlinewidth\": 0, \"ticks\": \"\"}, \"colorscale\": [[0.0, \"#0d0887\"], [0.1111111111111111, \"#46039f\"], [0.2222222222222222, \"#7201a8\"], [0.3333333333333333, \"#9c179e\"], [0.4444444444444444, \"#bd3786\"], [0.5555555555555556, \"#d8576b\"], [0.6666666666666666, \"#ed7953\"], [0.7777777777777778, \"#fb9f3a\"], [0.8888888888888888, \"#fdca26\"], [1.0, \"#f0f921\"]], \"type\": \"heatmapgl\"}], \"histogram\": [{\"marker\": {\"colorbar\": {\"outlinewidth\": 0, \"ticks\": \"\"}}, \"type\": \"histogram\"}], \"histogram2d\": [{\"colorbar\": {\"outlinewidth\": 0, \"ticks\": \"\"}, \"colorscale\": [[0.0, \"#0d0887\"], [0.1111111111111111, \"#46039f\"], [0.2222222222222222, \"#7201a8\"], [0.3333333333333333, \"#9c179e\"], [0.4444444444444444, \"#bd3786\"], [0.5555555555555556, \"#d8576b\"], [0.6666666666666666, \"#ed7953\"], [0.7777777777777778, \"#fb9f3a\"], [0.8888888888888888, \"#fdca26\"], [1.0, \"#f0f921\"]], \"type\": \"histogram2d\"}], \"histogram2dcontour\": [{\"colorbar\": {\"outlinewidth\": 0, \"ticks\": \"\"}, \"colorscale\": [[0.0, \"#0d0887\"], [0.1111111111111111, \"#46039f\"], [0.2222222222222222, \"#7201a8\"], [0.3333333333333333, \"#9c179e\"], [0.4444444444444444, \"#bd3786\"], [0.5555555555555556, \"#d8576b\"], [0.6666666666666666, \"#ed7953\"], [0.7777777777777778, \"#fb9f3a\"], [0.8888888888888888, \"#fdca26\"], [1.0, \"#f0f921\"]], \"type\": \"histogram2dcontour\"}], \"mesh3d\": [{\"colorbar\": {\"outlinewidth\": 0, \"ticks\": \"\"}, \"type\": \"mesh3d\"}], \"parcoords\": [{\"line\": {\"colorbar\": {\"outlinewidth\": 0, \"ticks\": \"\"}}, \"type\": \"parcoords\"}], \"pie\": [{\"automargin\": true, \"type\": \"pie\"}], \"scatter\": [{\"marker\": {\"colorbar\": {\"outlinewidth\": 0, \"ticks\": \"\"}}, \"type\": \"scatter\"}], \"scatter3d\": [{\"line\": {\"colorbar\": {\"outlinewidth\": 0, \"ticks\": \"\"}}, \"marker\": {\"colorbar\": {\"outlinewidth\": 0, \"ticks\": \"\"}}, \"type\": \"scatter3d\"}], \"scattercarpet\": [{\"marker\": {\"colorbar\": {\"outlinewidth\": 0, \"ticks\": \"\"}}, \"type\": \"scattercarpet\"}], \"scattergeo\": [{\"marker\": {\"colorbar\": {\"outlinewidth\": 0, \"ticks\": \"\"}}, \"type\": \"scattergeo\"}], \"scattergl\": [{\"marker\": {\"colorbar\": {\"outlinewidth\": 0, \"ticks\": \"\"}}, \"type\": \"scattergl\"}], \"scattermapbox\": [{\"marker\": {\"colorbar\": {\"outlinewidth\": 0, \"ticks\": \"\"}}, \"type\": \"scattermapbox\"}], \"scatterpolar\": [{\"marker\": {\"colorbar\": {\"outlinewidth\": 0, \"ticks\": \"\"}}, \"type\": \"scatterpolar\"}], \"scatterpolargl\": [{\"marker\": {\"colorbar\": {\"outlinewidth\": 0, \"ticks\": \"\"}}, \"type\": \"scatterpolargl\"}], \"scatterternary\": [{\"marker\": {\"colorbar\": {\"outlinewidth\": 0, \"ticks\": \"\"}}, \"type\": \"scatterternary\"}], \"surface\": [{\"colorbar\": {\"outlinewidth\": 0, \"ticks\": \"\"}, \"colorscale\": [[0.0, \"#0d0887\"], [0.1111111111111111, \"#46039f\"], [0.2222222222222222, \"#7201a8\"], [0.3333333333333333, \"#9c179e\"], [0.4444444444444444, \"#bd3786\"], [0.5555555555555556, \"#d8576b\"], [0.6666666666666666, \"#ed7953\"], [0.7777777777777778, \"#fb9f3a\"], [0.8888888888888888, \"#fdca26\"], [1.0, \"#f0f921\"]], \"type\": \"surface\"}], \"table\": [{\"cells\": {\"fill\": {\"color\": \"#EBF0F8\"}, \"line\": {\"color\": \"white\"}}, \"header\": {\"fill\": {\"color\": \"#C8D4E3\"}, \"line\": {\"color\": \"white\"}}, \"type\": \"table\"}]}, \"layout\": {\"annotationdefaults\": {\"arrowcolor\": \"#2a3f5f\", \"arrowhead\": 0, \"arrowwidth\": 1}, \"coloraxis\": {\"colorbar\": {\"outlinewidth\": 0, \"ticks\": \"\"}}, \"colorscale\": {\"diverging\": [[0, \"#8e0152\"], [0.1, \"#c51b7d\"], [0.2, \"#de77ae\"], [0.3, \"#f1b6da\"], [0.4, \"#fde0ef\"], [0.5, \"#f7f7f7\"], [0.6, \"#e6f5d0\"], [0.7, \"#b8e186\"], [0.8, \"#7fbc41\"], [0.9, \"#4d9221\"], [1, \"#276419\"]], \"sequential\": [[0.0, \"#0d0887\"], [0.1111111111111111, \"#46039f\"], [0.2222222222222222, \"#7201a8\"], [0.3333333333333333, \"#9c179e\"], [0.4444444444444444, \"#bd3786\"], [0.5555555555555556, \"#d8576b\"], [0.6666666666666666, \"#ed7953\"], [0.7777777777777778, \"#fb9f3a\"], [0.8888888888888888, \"#fdca26\"], [1.0, \"#f0f921\"]], \"sequentialminus\": [[0.0, \"#0d0887\"], [0.1111111111111111, \"#46039f\"], [0.2222222222222222, \"#7201a8\"], [0.3333333333333333, \"#9c179e\"], [0.4444444444444444, \"#bd3786\"], [0.5555555555555556, \"#d8576b\"], [0.6666666666666666, \"#ed7953\"], [0.7777777777777778, \"#fb9f3a\"], [0.8888888888888888, \"#fdca26\"], [1.0, \"#f0f921\"]]}, \"colorway\": [\"#636efa\", \"#EF553B\", \"#00cc96\", \"#ab63fa\", \"#FFA15A\", \"#19d3f3\", \"#FF6692\", \"#B6E880\", \"#FF97FF\", \"#FECB52\"], \"font\": {\"color\": \"#2a3f5f\"}, \"geo\": {\"bgcolor\": \"white\", \"lakecolor\": \"white\", \"landcolor\": \"#E5ECF6\", \"showlakes\": true, \"showland\": true, \"subunitcolor\": \"white\"}, \"hoverlabel\": {\"align\": \"left\"}, \"hovermode\": \"closest\", \"mapbox\": {\"style\": \"light\"}, \"paper_bgcolor\": \"white\", \"plot_bgcolor\": \"#E5ECF6\", \"polar\": {\"angularaxis\": {\"gridcolor\": \"white\", \"linecolor\": \"white\", \"ticks\": \"\"}, \"bgcolor\": \"#E5ECF6\", \"radialaxis\": {\"gridcolor\": \"white\", \"linecolor\": \"white\", \"ticks\": \"\"}}, \"scene\": {\"xaxis\": {\"backgroundcolor\": \"#E5ECF6\", \"gridcolor\": \"white\", \"gridwidth\": 2, \"linecolor\": \"white\", \"showbackground\": true, \"ticks\": \"\", \"zerolinecolor\": \"white\"}, \"yaxis\": {\"backgroundcolor\": \"#E5ECF6\", \"gridcolor\": \"white\", \"gridwidth\": 2, \"linecolor\": \"white\", \"showbackground\": true, \"ticks\": \"\", \"zerolinecolor\": \"white\"}, \"zaxis\": {\"backgroundcolor\": \"#E5ECF6\", \"gridcolor\": \"white\", \"gridwidth\": 2, \"linecolor\": \"white\", \"showbackground\": true, \"ticks\": \"\", \"zerolinecolor\": \"white\"}}, \"shapedefaults\": {\"line\": {\"color\": \"#2a3f5f\"}}, \"ternary\": {\"aaxis\": {\"gridcolor\": \"white\", \"linecolor\": \"white\", \"ticks\": \"\"}, \"baxis\": {\"gridcolor\": \"white\", \"linecolor\": \"white\", \"ticks\": \"\"}, \"bgcolor\": \"#E5ECF6\", \"caxis\": {\"gridcolor\": \"white\", \"linecolor\": \"white\", \"ticks\": \"\"}}, \"title\": {\"x\": 0.05}, \"xaxis\": {\"automargin\": true, \"gridcolor\": \"white\", \"linecolor\": \"white\", \"ticks\": \"\", \"title\": {\"standoff\": 15}, \"zerolinecolor\": \"white\", \"zerolinewidth\": 2}, \"yaxis\": {\"automargin\": true, \"gridcolor\": \"white\", \"linecolor\": \"white\", \"ticks\": \"\", \"title\": {\"standoff\": 15}, \"zerolinecolor\": \"white\", \"zerolinewidth\": 2}}}, \"title\": {\"text\": \"Country\"}},\n",
              "                        {\"responsive\": true}\n",
              "                    ).then(function(){\n",
              "                            \n",
              "var gd = document.getElementById('5ab09e5a-1f6b-4806-9ad2-b51ce457e030');\n",
              "var x = new MutationObserver(function (mutations, observer) {{\n",
              "        var display = window.getComputedStyle(gd).display;\n",
              "        if (!display || display === 'none') {{\n",
              "            console.log([gd, 'removed!']);\n",
              "            Plotly.purge(gd);\n",
              "            observer.disconnect();\n",
              "        }}\n",
              "}});\n",
              "\n",
              "// Listen for the removal of the full notebook cells\n",
              "var notebookContainer = gd.closest('#notebook-container');\n",
              "if (notebookContainer) {{\n",
              "    x.observe(notebookContainer, {childList: true});\n",
              "}}\n",
              "\n",
              "// Listen for the clearing of the current output cell\n",
              "var outputEl = gd.closest('.output');\n",
              "if (outputEl) {{\n",
              "    x.observe(outputEl, {childList: true});\n",
              "}}\n",
              "\n",
              "                        })\n",
              "                };\n",
              "                \n",
              "            </script>\n",
              "        </div>\n",
              "</body>\n",
              "</html>"
            ]
          },
          "metadata": {
            "tags": []
          }
        }
      ]
    },
    {
      "cell_type": "markdown",
      "metadata": {
        "id": "C8bOKAKDO_oK"
      },
      "source": [
        "# **Doanh nghiệp nên quảng cáo vào khung giờ nào để tăng doanh thu?**"
      ]
    },
    {
      "cell_type": "code",
      "metadata": {
        "id": "4Mkjri_cVMeH"
      },
      "source": [
        "gr_hour = data.groupby(\"Hour\").count()[\"TotalCost\"]\n",
        "gr_hour.max()\n",
        "hour = [hour for hour, totalcost in gr_hour.items()]\n"
      ],
      "execution_count": 120,
      "outputs": []
    },
    {
      "cell_type": "code",
      "metadata": {
        "colab": {
          "base_uri": "https://localhost:8080/",
          "height": 295
        },
        "id": "ioqq-Vt9PsxM",
        "outputId": "a77f7660-cebf-4d8f-a7b9-4269a8350753"
      },
      "source": [
        "plt.plot(hour, gr_hour)\n",
        "plt.grid()\n",
        "plt.xticks(hour, rotation = 90, size=8)\n",
        "plt.xlabel(\"Time\")\n",
        "plt.ylabel(\"TotalCost\")\n"
      ],
      "execution_count": 121,
      "outputs": [
        {
          "output_type": "execute_result",
          "data": {
            "text/plain": [
              "Text(0, 0.5, 'TotalCost')"
            ]
          },
          "metadata": {
            "tags": []
          },
          "execution_count": 121
        },
        {
          "output_type": "display_data",
          "data": {
            "image/png": "[encoded data removed]",
            "text/plain": [
              "<Figure size 432x288 with 1 Axes>"
            ]
          },
          "metadata": {
            "tags": [],
            "needs_background": "light"
          }
        }
      ]
    },
    {
      "cell_type": "markdown",
      "metadata": {
        "id": "X4Fsq-CsrZ-X"
      },
      "source": [
        "# **Các sản phẩm nào thường được khách hàng mua kèm với nhau**"
      ]
    },
    {
      "cell_type": "code",
      "metadata": {
        "id": "BEHS1Zw5rZPL",
        "colab": {
          "base_uri": "https://localhost:8080/",
          "height": 190
        },
        "outputId": "62aed092-8763-4e1a-d9a8-f6ab3ccf6962"
      },
      "source": [
        "data_dup = data[data[\"InvoiceNo\"].duplicated(keep= False)]\n",
        "data_dup.head()"
      ],
      "execution_count": 122,
      "outputs": [
        {
          "output_type": "execute_result",
          "data": {
            "text/html": [
              "<div>\n",
              "<style scoped>\n",
              "    .dataframe tbody tr th:only-of-type {\n",
              "        vertical-align: middle;\n",
              "    }\n",
              "\n",
              "    .dataframe tbody tr th {\n",
              "        vertical-align: top;\n",
              "    }\n",
              "\n",
              "    .dataframe thead th {\n",
              "        text-align: right;\n",
              "    }\n",
              "</style>\n",
              "<table border=\"1\" class=\"dataframe\">\n",
              "  <thead>\n",
              "    <tr style=\"text-align: right;\">\n",
              "      <th></th>\n",
              "      <th>InvoiceNo</th>\n",
              "      <th>StockCode</th>\n",
              "      <th>Description</th>\n",
              "      <th>Quantity</th>\n",
              "      <th>UnitPrice</th>\n",
              "      <th>TotalCost</th>\n",
              "      <th>CustomerID</th>\n",
              "      <th>InvoiceDate</th>\n",
              "      <th>Country</th>\n",
              "      <th>Date</th>\n",
              "      <th>Time</th>\n",
              "      <th>Hour</th>\n",
              "      <th>Month</th>\n",
              "      <th>Year</th>\n",
              "    </tr>\n",
              "  </thead>\n",
              "  <tbody>\n",
              "    <tr>\n",
              "      <th>0</th>\n",
              "      <td>536365</td>\n",
              "      <td>85123A</td>\n",
              "      <td>WHITE HANGING HEART T-LIGHT HOLDER</td>\n",
              "      <td>6</td>\n",
              "      <td>2.55</td>\n",
              "      <td>15.30</td>\n",
              "      <td>17850.0</td>\n",
              "      <td>12/1/2010 8:26</td>\n",
              "      <td>United Kingdom</td>\n",
              "      <td>12/1/2010</td>\n",
              "      <td>8:26</td>\n",
              "      <td>8</td>\n",
              "      <td>12</td>\n",
              "      <td>2010</td>\n",
              "    </tr>\n",
              "    <tr>\n",
              "      <th>1</th>\n",
              "      <td>536365</td>\n",
              "      <td>71053</td>\n",
              "      <td>WHITE METAL LANTERN</td>\n",
              "      <td>6</td>\n",
              "      <td>3.39</td>\n",
              "      <td>20.34</td>\n",
              "      <td>17850.0</td>\n",
              "      <td>12/1/2010 8:26</td>\n",
              "      <td>United Kingdom</td>\n",
              "      <td>12/1/2010</td>\n",
              "      <td>8:26</td>\n",
              "      <td>8</td>\n",
              "      <td>12</td>\n",
              "      <td>2010</td>\n",
              "    </tr>\n",
              "    <tr>\n",
              "      <th>2</th>\n",
              "      <td>536365</td>\n",
              "      <td>84406B</td>\n",
              "      <td>CREAM CUPID HEARTS COAT HANGER</td>\n",
              "      <td>8</td>\n",
              "      <td>2.75</td>\n",
              "      <td>22.00</td>\n",
              "      <td>17850.0</td>\n",
              "      <td>12/1/2010 8:26</td>\n",
              "      <td>United Kingdom</td>\n",
              "      <td>12/1/2010</td>\n",
              "      <td>8:26</td>\n",
              "      <td>8</td>\n",
              "      <td>12</td>\n",
              "      <td>2010</td>\n",
              "    </tr>\n",
              "    <tr>\n",
              "      <th>3</th>\n",
              "      <td>536365</td>\n",
              "      <td>84029G</td>\n",
              "      <td>KNITTED UNION FLAG HOT WATER BOTTLE</td>\n",
              "      <td>6</td>\n",
              "      <td>3.39</td>\n",
              "      <td>20.34</td>\n",
              "      <td>17850.0</td>\n",
              "      <td>12/1/2010 8:26</td>\n",
              "      <td>United Kingdom</td>\n",
              "      <td>12/1/2010</td>\n",
              "      <td>8:26</td>\n",
              "      <td>8</td>\n",
              "      <td>12</td>\n",
              "      <td>2010</td>\n",
              "    </tr>\n",
              "    <tr>\n",
              "      <th>4</th>\n",
              "      <td>536365</td>\n",
              "      <td>84029E</td>\n",
              "      <td>RED WOOLLY HOTTIE WHITE HEART.</td>\n",
              "      <td>6</td>\n",
              "      <td>3.39</td>\n",
              "      <td>20.34</td>\n",
              "      <td>17850.0</td>\n",
              "      <td>12/1/2010 8:26</td>\n",
              "      <td>United Kingdom</td>\n",
              "      <td>12/1/2010</td>\n",
              "      <td>8:26</td>\n",
              "      <td>8</td>\n",
              "      <td>12</td>\n",
              "      <td>2010</td>\n",
              "    </tr>\n",
              "  </tbody>\n",
              "</table>\n",
              "</div>"
            ],
            "text/plain": [
              "   InvoiceNo StockCode                          Description  ...  Hour  Month  Year\n",
              "0     536365    85123A   WHITE HANGING HEART T-LIGHT HOLDER  ...     8     12  2010\n",
              "1     536365     71053                  WHITE METAL LANTERN  ...     8     12  2010\n",
              "2     536365    84406B       CREAM CUPID HEARTS COAT HANGER  ...     8     12  2010\n",
              "3     536365    84029G  KNITTED UNION FLAG HOT WATER BOTTLE  ...     8     12  2010\n",
              "4     536365    84029E       RED WOOLLY HOTTIE WHITE HEART.  ...     8     12  2010\n",
              "\n",
              "[5 rows x 14 columns]"
            ]
          },
          "metadata": {
            "tags": []
          },
          "execution_count": 122
        }
      ]
    },
    {
      "cell_type": "code",
      "metadata": {
        "id": "vWECPra3rhTq",
        "colab": {
          "base_uri": "https://localhost:8080/"
        },
        "outputId": "7cbad8f7-19f8-4c0b-f5bd-814ff59b4d09"
      },
      "source": [
        "gr_product = lambda product: ','.join(product) \n",
        "data_dup[\"All_Products\"]= data_dup.groupby(\"InvoiceNo\")[\"StockCode\"].transform(gr_product)"
      ],
      "execution_count": 123,
      "outputs": [
        {
          "output_type": "stream",
          "text": [
            "/usr/local/lib/python3.7/dist-packages/ipykernel_launcher.py:2: SettingWithCopyWarning:\n",
            "\n",
            "\n",
            "A value is trying to be set on a copy of a slice from a DataFrame.\n",
            "Try using .loc[row_indexer,col_indexer] = value instead\n",
            "\n",
            "See the caveats in the documentation: https://pandas.pydata.org/pandas-docs/stable/user_guide/indexing.html#returning-a-view-versus-a-copy\n",
            "\n"
          ],
          "name": "stderr"
        }
      ]
    },
    {
      "cell_type": "code",
      "metadata": {
        "id": "OkqibnVurkst",
        "colab": {
          "base_uri": "https://localhost:8080/"
        },
        "outputId": "e537451a-5f96-4d3a-93b6-f0dd2d06d8dd"
      },
      "source": [
        "data_combo= data_dup[[\"InvoiceNo\",\"All_Products\"]].drop_duplicates()\n",
        "data_combo.shape"
      ],
      "execution_count": 124,
      "outputs": [
        {
          "output_type": "execute_result",
          "data": {
            "text/plain": [
              "(17144, 2)"
            ]
          },
          "metadata": {
            "tags": []
          },
          "execution_count": 124
        }
      ]
    },
    {
      "cell_type": "code",
      "metadata": {
        "id": "gDRCO9dFrlXE",
        "colab": {
          "base_uri": "https://localhost:8080/"
        },
        "outputId": "d7b50833-54c1-40b2-ebc0-7562ff160a97"
      },
      "source": [
        "data_combo[\"All_Products\"].value_counts()"
      ],
      "execution_count": 125,
      "outputs": [
        {
          "output_type": "execute_result",
          "data": {
            "text/plain": [
              "22632,22633                                                                                                            15\n",
              "85123A,21733                                                                                                            5\n",
              "21137,22041                                                                                                             4\n",
              "22379,22385,21931,85099B                                                                                                4\n",
              "84946,22791                                                                                                             4\n",
              "                                                                                                                       ..\n",
              "62086A,84944,21792,21636,21793,20762,22909,22950                                                                        1\n",
              "21931,23199,22386,23200,23202,85099C,23203,85099B,20727,20728,22382,20726,22384,20718,23283,21524                       1\n",
              "23517,23516,23513,23519,23514,23515,23511,23518,23520,23512                                                             1\n",
              "22577,22578,21365,84755,75049L,21823,23434,22579,35933,35953,35954,23435,23058,21824,21306,35923,22608,22609,47503A     1\n",
              "23199,23201,85099C,23343                                                                                                1\n",
              "Name: All_Products, Length: 17025, dtype: int64"
            ]
          },
          "metadata": {
            "tags": []
          },
          "execution_count": 125
        }
      ]
    },
    {
      "cell_type": "code",
      "metadata": {
        "id": "4daBrHCbrrGC",
        "colab": {
          "base_uri": "https://localhost:8080/",
          "height": 535
        },
        "outputId": "84ab9cd9-4773-4149-c44b-e26c8c928323"
      },
      "source": [
        "plt.rcParams['figure.figsize'] = (12, 10)\n",
        "a = data_combo[\"All_Products\"].value_counts().head(20)\n",
        "sns.barplot(x = a.values, y = a.index, palette = 'inferno')\n",
        "plt.title('Top 20 Combo Product', fontsize = 20)\n",
        "plt.ylabel('Names of Combo Product')\n",
        "plt.xlabel('Count')\n",
        "plt.show()"
      ],
      "execution_count": 126,
      "outputs": [
        {
          "output_type": "display_data",
          "data": {
            "image/png": "[encoded data removed]",
            "text/plain": [
              "<Figure size 864x720 with 1 Axes>"
            ]
          },
          "metadata": {
            "tags": [],
            "needs_background": "light"
          }
        }
      ]
    },
    {
      "cell_type": "code",
      "metadata": {
        "id": "fFxrXbRsrrzW",
        "colab": {
          "base_uri": "https://localhost:8080/"
        },
        "outputId": "ecbe7e6e-160e-40dd-c759-55c974aa245b"
      },
      "source": [
        "data_arr= np.array(data_dup[[\"StockCode\",\"Description\"]])\n",
        "data_arr\n",
        "b=[]\n",
        "for i in data_arr:\n",
        "  if i[0] == \"22632\" or i[0]==\"22633\" :\n",
        "    if i[1] not in b:\n",
        "      b.append(i[1])\n",
        "for i in b:\n",
        "  print(i)"
      ],
      "execution_count": 127,
      "outputs": [
        {
          "output_type": "stream",
          "text": [
            "HAND WARMER UNION JACK\n",
            "HAND WARMER RED POLKA DOT\n",
            "HAND WARMER RED RETROSPOT\n"
          ],
          "name": "stdout"
        }
      ]
    },
    {
      "cell_type": "markdown",
      "metadata": {
        "id": "6w462q1iWgRz"
      },
      "source": [
        "# **Sản phẩm nào bán chạy nhất và tại sao?**"
      ]
    },
    {
      "cell_type": "code",
      "metadata": {
        "colab": {
          "base_uri": "https://localhost:8080/",
          "height": 496
        },
        "id": "fkQtl-sCW3iH",
        "outputId": "c98c5be6-aac7-4df5-ef9c-a862fdadc6ba"
      },
      "source": [
        "data.head()"
      ],
      "execution_count": 128,
      "outputs": [
        {
          "output_type": "execute_result",
          "data": {
            "text/html": [
              "<div>\n",
              "<style scoped>\n",
              "    .dataframe tbody tr th:only-of-type {\n",
              "        vertical-align: middle;\n",
              "    }\n",
              "\n",
              "    .dataframe tbody tr th {\n",
              "        vertical-align: top;\n",
              "    }\n",
              "\n",
              "    .dataframe thead th {\n",
              "        text-align: right;\n",
              "    }\n",
              "</style>\n",
              "<table border=\"1\" class=\"dataframe\">\n",
              "  <thead>\n",
              "    <tr style=\"text-align: right;\">\n",
              "      <th></th>\n",
              "      <th>InvoiceNo</th>\n",
              "      <th>StockCode</th>\n",
              "      <th>Description</th>\n",
              "      <th>Quantity</th>\n",
              "      <th>UnitPrice</th>\n",
              "      <th>TotalCost</th>\n",
              "      <th>CustomerID</th>\n",
              "      <th>InvoiceDate</th>\n",
              "      <th>Country</th>\n",
              "      <th>Date</th>\n",
              "      <th>Time</th>\n",
              "      <th>Hour</th>\n",
              "      <th>Month</th>\n",
              "      <th>Year</th>\n",
              "    </tr>\n",
              "  </thead>\n",
              "  <tbody>\n",
              "    <tr>\n",
              "      <th>0</th>\n",
              "      <td>536365</td>\n",
              "      <td>85123A</td>\n",
              "      <td>WHITE HANGING HEART T-LIGHT HOLDER</td>\n",
              "      <td>6</td>\n",
              "      <td>2.55</td>\n",
              "      <td>15.30</td>\n",
              "      <td>17850.0</td>\n",
              "      <td>12/1/2010 8:26</td>\n",
              "      <td>United Kingdom</td>\n",
              "      <td>12/1/2010</td>\n",
              "      <td>8:26</td>\n",
              "      <td>8</td>\n",
              "      <td>12</td>\n",
              "      <td>2010</td>\n",
              "    </tr>\n",
              "    <tr>\n",
              "      <th>1</th>\n",
              "      <td>536365</td>\n",
              "      <td>71053</td>\n",
              "      <td>WHITE METAL LANTERN</td>\n",
              "      <td>6</td>\n",
              "      <td>3.39</td>\n",
              "      <td>20.34</td>\n",
              "      <td>17850.0</td>\n",
              "      <td>12/1/2010 8:26</td>\n",
              "      <td>United Kingdom</td>\n",
              "      <td>12/1/2010</td>\n",
              "      <td>8:26</td>\n",
              "      <td>8</td>\n",
              "      <td>12</td>\n",
              "      <td>2010</td>\n",
              "    </tr>\n",
              "    <tr>\n",
              "      <th>2</th>\n",
              "      <td>536365</td>\n",
              "      <td>84406B</td>\n",
              "      <td>CREAM CUPID HEARTS COAT HANGER</td>\n",
              "      <td>8</td>\n",
              "      <td>2.75</td>\n",
              "      <td>22.00</td>\n",
              "      <td>17850.0</td>\n",
              "      <td>12/1/2010 8:26</td>\n",
              "      <td>United Kingdom</td>\n",
              "      <td>12/1/2010</td>\n",
              "      <td>8:26</td>\n",
              "      <td>8</td>\n",
              "      <td>12</td>\n",
              "      <td>2010</td>\n",
              "    </tr>\n",
              "    <tr>\n",
              "      <th>3</th>\n",
              "      <td>536365</td>\n",
              "      <td>84029G</td>\n",
              "      <td>KNITTED UNION FLAG HOT WATER BOTTLE</td>\n",
              "      <td>6</td>\n",
              "      <td>3.39</td>\n",
              "      <td>20.34</td>\n",
              "      <td>17850.0</td>\n",
              "      <td>12/1/2010 8:26</td>\n",
              "      <td>United Kingdom</td>\n",
              "      <td>12/1/2010</td>\n",
              "      <td>8:26</td>\n",
              "      <td>8</td>\n",
              "      <td>12</td>\n",
              "      <td>2010</td>\n",
              "    </tr>\n",
              "    <tr>\n",
              "      <th>4</th>\n",
              "      <td>536365</td>\n",
              "      <td>84029E</td>\n",
              "      <td>RED WOOLLY HOTTIE WHITE HEART.</td>\n",
              "      <td>6</td>\n",
              "      <td>3.39</td>\n",
              "      <td>20.34</td>\n",
              "      <td>17850.0</td>\n",
              "      <td>12/1/2010 8:26</td>\n",
              "      <td>United Kingdom</td>\n",
              "      <td>12/1/2010</td>\n",
              "      <td>8:26</td>\n",
              "      <td>8</td>\n",
              "      <td>12</td>\n",
              "      <td>2010</td>\n",
              "    </tr>\n",
              "  </tbody>\n",
              "</table>\n",
              "</div>"
            ],
            "text/plain": [
              "   InvoiceNo StockCode                          Description  ...  Hour  Month  Year\n",
              "0     536365    85123A   WHITE HANGING HEART T-LIGHT HOLDER  ...     8     12  2010\n",
              "1     536365     71053                  WHITE METAL LANTERN  ...     8     12  2010\n",
              "2     536365    84406B       CREAM CUPID HEARTS COAT HANGER  ...     8     12  2010\n",
              "3     536365    84029G  KNITTED UNION FLAG HOT WATER BOTTLE  ...     8     12  2010\n",
              "4     536365    84029E       RED WOOLLY HOTTIE WHITE HEART.  ...     8     12  2010\n",
              "\n",
              "[5 rows x 14 columns]"
            ]
          },
          "metadata": {
            "tags": []
          },
          "execution_count": 128
        }
      ]
    },
    {
      "cell_type": "code",
      "metadata": {
        "colab": {
          "base_uri": "https://localhost:8080/"
        },
        "id": "XjAW6slljoXv",
        "outputId": "4e4dd8a7-0462-4053-b89f-26cdfbfcb7d1"
      },
      "source": [
        "all_products_pri =  data.groupby(\"StockCode\").mean()[\"UnitPrice\"]\n",
        "all_products_pri.shape"
      ],
      "execution_count": 129,
      "outputs": [
        {
          "output_type": "execute_result",
          "data": {
            "text/plain": [
              "(3665,)"
            ]
          },
          "metadata": {
            "tags": []
          },
          "execution_count": 129
        }
      ]
    },
    {
      "cell_type": "code",
      "metadata": {
        "colab": {
          "base_uri": "https://localhost:8080/"
        },
        "id": "7q75XGaoWfXY",
        "outputId": "bc7b1c0a-ef3d-47cd-8773-f34377cef1f0"
      },
      "source": [
        "all_products= data.groupby(\"StockCode\").sum()['Quantity']\n",
        "all_products\n",
        "\n"
      ],
      "execution_count": 130,
      "outputs": [
        {
          "output_type": "execute_result",
          "data": {
            "text/plain": [
              "StockCode\n",
              "10002      823\n",
              "10080      291\n",
              "10120      193\n",
              "10123C       5\n",
              "10124A      16\n",
              "          ... \n",
              "C2         134\n",
              "DOT         16\n",
              "M         7179\n",
              "PADS         4\n",
              "POST      3120\n",
              "Name: Quantity, Length: 3665, dtype: int64"
            ]
          },
          "metadata": {
            "tags": []
          },
          "execution_count": 130
        }
      ]
    },
    {
      "cell_type": "code",
      "metadata": {
        "colab": {
          "base_uri": "https://localhost:8080/"
        },
        "id": "GqeAxETRkn3g",
        "outputId": "39802c07-b622-46f7-dfd6-7840b6e82430"
      },
      "source": [
        "product_ls = [StockCode for StockCode, Quantity in all_products.items()]\n",
        "quan_ls = [int(Quantity) for StockCode, Quantity in all_products.items()]\n",
        "price_ls = [UnitPrice for StockCode, UnitPrice in all_products_pri.items()]\n",
        "\n",
        "arr_quan_pro=[]\n",
        "arr_quan_pro.append(quan_ls)\n",
        "arr_quan_pro.append(product_ls)\n",
        "arr_quan_pro.append(price_ls)\n",
        "all_products.shape"
      ],
      "execution_count": 131,
      "outputs": [
        {
          "output_type": "execute_result",
          "data": {
            "text/plain": [
              "(3665,)"
            ]
          },
          "metadata": {
            "tags": []
          },
          "execution_count": 131
        }
      ]
    },
    {
      "cell_type": "code",
      "metadata": {
        "colab": {
          "base_uri": "https://localhost:8080/"
        },
        "id": "a9HNif6lXfO5",
        "outputId": "538cc338-6afc-4a0e-9d57-26f305ad4664"
      },
      "source": [
        "ind = np.argpartition(arr_quan_pro[0], -10)[-10:]\n",
        "print(ind[1])\n",
        "print( \"MÃ sản phẩm\", \" | \", \"Số lượng đã bán\", \" |   Giá\")\n",
        "x=y1=y2=[]\n",
        "for i in ind:\n",
        "  x.append(arr_quan_pro[1][i])\n",
        "  y1.append(int(arr_quan_pro[0][i]))\n",
        "  y2.append(arr_quan_pro[2][i])\n",
        "  print(arr_quan_pro[1][i], \" : \\t\", arr_quan_pro[0][i], \" :      \\t\",arr_quan_pro[2][i])"
      ],
      "execution_count": 132,
      "outputs": [
        {
          "output_type": "stream",
          "text": [
            "1919\n",
            "MÃ sản phẩm  |  Số lượng đã bán  |   Giá\n",
            "22492  : \t 26076  :      \t 0.6565230769230804\n",
            "23084  : \t 27202  :      \t 2.0139429928740933\n",
            "21212  : \t 33693  :      \t 0.5482116104868929\n",
            "84879  : \t 35362  :      \t 1.6807954545454948\n",
            "85123A  : \t 36782  :      \t 2.89310565110558\n",
            "84077  : \t 54415  :      \t 0.29260042283298265\n",
            "23843  : \t 80995  :      \t 2.08\n",
            "85099B  : \t 46181  :      \t 2.015877626699588\n",
            "22197  : \t 49183  :      \t 0.8392883895131239\n",
            "23166  : \t 77916  :      \t 1.22030303030303\n"
          ],
          "name": "stdout"
        }
      ]
    },
    {
      "cell_type": "code",
      "metadata": {
        "id": "4P2vnk3Ou2TW",
        "outputId": "cfaa1c44-930b-47fc-8321-6c092ab376f1",
        "colab": {
          "base_uri": "https://localhost:8080/"
        }
      },
      "source": [
        "top_10_pro= all_products.sort_values()[3600:]\n",
        "top_10_pro[-1]"
      ],
      "execution_count": 162,
      "outputs": [
        {
          "output_type": "execute_result",
          "data": {
            "text/plain": [
              "80995"
            ]
          },
          "metadata": {
            "tags": []
          },
          "execution_count": 162
        }
      ]
    },
    {
      "cell_type": "code",
      "metadata": {
        "id": "KXPtSKgkvQDd"
      },
      "source": [
        "pro_ls =  [StockCode for StockCode, Quantity in top_10_pro.items()]\n"
      ],
      "execution_count": 163,
      "outputs": []
    },
    {
      "cell_type": "code",
      "metadata": {
        "id": "W9HxFy-749TV",
        "outputId": "fe65aa33-7e14-4b69-cd94-fc079b4ea93c",
        "colab": {
          "base_uri": "https://localhost:8080/"
        }
      },
      "source": [
        "all_products_pri =  data.groupby(\"StockCode\").mean()[\"UnitPrice\"]\n",
        "all_products_pri.shape\n",
        "price_ls = [UnitPrice for StockCode, UnitPrice in all_products_pri.items()]\n"
      ],
      "execution_count": 167,
      "outputs": [
        {
          "output_type": "execute_result",
          "data": {
            "text/plain": [
              "(3665,)"
            ]
          },
          "metadata": {
            "tags": []
          },
          "execution_count": 167
        }
      ]
    },
    {
      "cell_type": "code",
      "metadata": {
        "id": "pL13X-jw55iv",
        "outputId": "9864cf33-8551-4b62-daba-8a0855d5c024",
        "colab": {
          "base_uri": "https://localhost:8080/"
        }
      },
      "source": [
        "all_products_pri"
      ],
      "execution_count": 168,
      "outputs": [
        {
          "output_type": "execute_result",
          "data": {
            "text/plain": [
              "StockCode\n",
              "10002       0.850000\n",
              "10080       0.411905\n",
              "10120       0.210000\n",
              "10123C      0.650000\n",
              "10124A      0.420000\n",
              "             ...    \n",
              "C2         50.135338\n",
              "DOT       744.147500\n",
              "M         171.664862\n",
              "PADS        0.000750\n",
              "POST       31.570482\n",
              "Name: UnitPrice, Length: 3665, dtype: float64"
            ]
          },
          "metadata": {
            "tags": []
          },
          "execution_count": 168
        }
      ]
    },
    {
      "cell_type": "code",
      "metadata": {
        "id": "7AbSjmiavZSv",
        "outputId": "bfd466e2-288f-4733-dc26-26d74344e081",
        "colab": {
          "base_uri": "https://localhost:8080/",
          "height": 613
        }
      },
      "source": [
        "x= pro_ls\n",
        "y1= top_10_pro\n",
        "\n",
        "fig, ax1 = plt.subplots()\n",
        "ax2= ax2.twinx()\n",
        "ax1.bar(x, y1, color = \"g\")\n",
        "ax1.set_xticklabels(pro_ls, rotation=90, size=8)\n",
        "plt.show()"
      ],
      "execution_count": 164,
      "outputs": [
        {
          "output_type": "display_data",
          "data": {
            "image/png": "[encoded data removed]",
            "text/plain": [
              "<Figure size 864x720 with 1 Axes>"
            ]
          },
          "metadata": {
            "tags": [],
            "needs_background": "light"
          }
        }
      ]
    },
    {
      "cell_type": "code",
      "metadata": {
        "id": "duKdgSfIxinw",
        "outputId": "50165d1e-a747-417d-dc71-52f5f612562f",
        "colab": {
          "base_uri": "https://localhost:8080/",
          "height": 162
        }
      },
      "source": [
        "hihi"
      ],
      "execution_count": 136,
      "outputs": [
        {
          "output_type": "error",
          "ename": "NameError",
          "evalue": "ignored",
          "traceback": [
            "\u001b[0;31m---------------------------------------------------------------------------\u001b[0m",
            "\u001b[0;31mNameError\u001b[0m                                 Traceback (most recent call last)",
            "\u001b[0;32m<ipython-input-136-67dde13e6b14>\u001b[0m in \u001b[0;36m<module>\u001b[0;34m()\u001b[0m\n\u001b[0;32m----> 1\u001b[0;31m \u001b[0mhihi\u001b[0m\u001b[0;34m\u001b[0m\u001b[0;34m\u001b[0m\u001b[0m\n\u001b[0m",
            "\u001b[0;31mNameError\u001b[0m: name 'hihi' is not defined"
          ]
        }
      ]
    },
    {
      "cell_type": "code",
      "metadata": {
        "id": "OSFpFBjPgpuJ"
      },
      "source": [
        "for i in range(len(data[\"StockCode\"])):\n",
        "  if data[\"StockCode\"][i] == '23843' :\n",
        "    print(data[\"Description\"][i])\n",
        "\n"
      ],
      "execution_count": null,
      "outputs": []
    },
    {
      "cell_type": "markdown",
      "metadata": {
        "id": "U5YOGgSCfna-"
      },
      "source": [
        "\n",
        "-----------------------------------------------------------------\n",
        "\n",
        "---\n",
        "\n",
        "\n",
        "\n",
        "---\n",
        "\n",
        "\n",
        "\n",
        "---\n",
        "\n",
        "\n",
        "\n",
        "---\n",
        "\n"
      ]
    },
    {
      "cell_type": "code",
      "metadata": {
        "id": "h5vUZCgffnCe"
      },
      "source": [
        ""
      ],
      "execution_count": null,
      "outputs": []
    },
    {
      "cell_type": "code",
      "metadata": {
        "id": "rf_ftbaD6EMy"
      },
      "source": [
        "plt.rcParams['figure.figsize'] = (15, 5)\n",
        "data.plot(x = 'InvoiceDate', y = 'TotalCost')\n",
        "plt.title(\"Time Series Analysis of Sales\", fontsize = 20)\n",
        "plt.xlabel('Date of Purchase')\n",
        "plt.ylabel('TotalCost')\n",
        "plt.show()"
      ],
      "execution_count": null,
      "outputs": []
    },
    {
      "cell_type": "markdown",
      "metadata": {
        "id": "Iqg7ssOMDXE6"
      },
      "source": [
        "Thời gian mua hàng "
      ]
    },
    {
      "cell_type": "code",
      "metadata": {
        "id": "SZ0Zpcze7nqI"
      },
      "source": [
        "# time-series plot for Australia\n",
        "\n",
        "dataset = data[data['Country'] == 'Australia']\n",
        "dataset.plot(x = 'InvoiceDate', y = 'TotalCost')\n",
        "plt.title('Time-Series for Australia', fontsize = 20)\n",
        "plt.xlabel('Date of Purchase')\n",
        "plt.ylabel('TotalCost Amount')\n",
        "plt.show()"
      ],
      "execution_count": null,
      "outputs": []
    },
    {
      "cell_type": "code",
      "metadata": {
        "id": "rNGDb5IZXxhl"
      },
      "source": [
        "from wordcloud import WordCloud\n",
        "from wordcloud import STOPWORDS\n",
        "\n",
        "stopwords = set(STOPWORDS)\n",
        "wordcloud = WordCloud(background_color = 'white', width = 900, height = 900).generate(str(data['Description']))\n",
        "\n",
        "print(wordcloud)\n",
        "plt.rcParams['figure.figsize'] = (12, 12)\n",
        "plt.axis('off')\n",
        "plt.imshow(wordcloud)\n",
        "plt.title('Most Occuring word in the Description list', fontsize = 20)\n",
        "plt.show()"
      ],
      "execution_count": null,
      "outputs": []
    },
    {
      "cell_type": "code",
      "metadata": {
        "id": "JGUteW4sawFR"
      },
      "source": [
        "data = [go.Bar(x = data['Country'].unique(), y = data['Country'].value_counts(),marker={'color': data['Country'].value_counts(),'colorscale': 'Viridis'})]\n",
        "layout = go.Layout(title = 'Country')\n",
        "fig = go.Figure(data = data, layout = layout)\n",
        "fig.show()"
      ],
      "execution_count": null,
      "outputs": []
    },
    {
      "cell_type": "markdown",
      "metadata": {
        "id": "hyIG0OmUGcls"
      },
      "source": [
        "#Tìm độ chêch lệch trên trục dữ liệu\n",
        "Thống kê trong 1 ngày, tần số (Frequency) và lần mua gần nhất số lượng bao nhiêu (Recency) và số tiền thu nhập (Monetary) theo khách hàng."
      ]
    },
    {
      "cell_type": "code",
      "metadata": {
        "id": "XluL_eeZKHdc"
      },
      "source": [
        "#tính lần mua gần nhất\n",
        "data['InvoiceDate']=pd.to_datetime(data['InvoiceDate'])\n",
        "data['InvoiceDate'].max()"
      ],
      "execution_count": null,
      "outputs": []
    },
    {
      "cell_type": "code",
      "metadata": {
        "id": "EvLsQp3JMA54"
      },
      "source": [
        "#Tính toán các yếu tố trong mô hình RFM\n",
        "data['TotalAmount'] = data['UnitPrice']*data['Quantity']\n",
        "\n",
        "Latest_date = dt.datetime(2011,12,10)\n",
        "RFM_data = data.groupby('CustomerID').agg({'InvoiceDate' : lambda x :(Latest_date - x.max()).days,\n",
        "                                          'InvoiceNo' : 'count','TotalAmount' : 'sum'}).reset_index()\n",
        "\n",
        "RFM_data.rename(columns = {'InvoiceDate' : 'Recency',\n",
        "                          'InvoiceNo' : \"Frequency\",\n",
        "                          'TotalAmount' : \"Monetary\"},inplace = True)\n",
        "RFM_data"
      ],
      "execution_count": null,
      "outputs": []
    },
    {
      "cell_type": "code",
      "metadata": {
        "id": "S6wp6JynNPxU"
      },
      "source": [
        "#Trực quan phân phối Recency, Frequency and Monetary.\n",
        "i = 0\n",
        "fig = plt.figure(constrained_layout = True,figsize = (20,5))\n",
        "gs = GridSpec(1, 3, figure=fig)    \n",
        "\n",
        "col = ['red','blue','green']\n",
        "for var in list(RFM_data.columns[1:4]):\n",
        "    plt.subplot(gs[0,i])\n",
        "    sns.distplot(RFM_data[var],color= col[i])\n",
        "    plt.title('Skewness ' + ': ' + round(RFM_data[var].skew(),2).astype(str))\n",
        "    i= i+1"
      ],
      "execution_count": null,
      "outputs": []
    },
    {
      "cell_type": "code",
      "metadata": {
        "id": "QpfY0HuGqzC7"
      },
      "source": [
        "quantiles = RFM_data.quantile(q = [0.25,0.5,0.75])\n",
        "quantiles.to_dict()"
      ],
      "execution_count": null,
      "outputs": []
    },
    {
      "cell_type": "code",
      "metadata": {
        "id": "97C_AIJsq33V"
      },
      "source": [
        "def R_score(var,p,d):\n",
        "    if var <= d[p][0.25]:\n",
        "        return 1\n",
        "    elif var <= d[p][0.50]:\n",
        "        return 2\n",
        "    elif var <= d[p][0.75]:\n",
        "        return 3\n",
        "    else:\n",
        "        return 4\n",
        "\n",
        "def FM_score(var,p,d):\n",
        "    if var <= d[p][0.25]:\n",
        "        return 4\n",
        "    elif var <= d[p][0.50]:\n",
        "        return 3\n",
        "    elif var <= d[p][0.75]:\n",
        "        return 2\n",
        "    else:\n",
        "        return 1"
      ],
      "execution_count": null,
      "outputs": []
    },
    {
      "cell_type": "code",
      "metadata": {
        "id": "0pILPk2drAEr"
      },
      "source": [
        "RFM_data['R_score'] = RFM_data['Recency'].apply(R_score,args = ('Recency',quantiles,))\n",
        "RFM_data['F_score'] = RFM_data['Frequency'].apply(FM_score,args = ('Frequency',quantiles,))\n",
        "RFM_data['M_score'] = RFM_data['Monetary'].apply(FM_score,args = ('Monetary',quantiles,))\n",
        "RFM_data.head()"
      ],
      "execution_count": null,
      "outputs": []
    },
    {
      "cell_type": "code",
      "metadata": {
        "id": "bfpTKFturAib"
      },
      "source": [
        ""
      ],
      "execution_count": null,
      "outputs": []
    }
  ]
}