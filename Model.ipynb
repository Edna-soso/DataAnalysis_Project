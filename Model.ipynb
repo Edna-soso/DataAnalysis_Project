{
  "nbformat": 4,
  "nbformat_minor": 0,
  "metadata": {
    "colab": {
      "name": "Model.ipynb",
      "provenance": [],
      "authorship_tag": "ABX9TyMK+vH291S/pivab/F3UqYZ",
      "include_colab_link": true
    },
    "kernelspec": {
      "name": "python3",
      "display_name": "Python 3"
    },
    "language_info": {
      "name": "python"
    }
  },
  "cells": [
    {
      "cell_type": "markdown",
      "metadata": {
        "id": "view-in-github",
        "colab_type": "text"
      },
      "source": [
        "<a href=\"https://colab.research.google.com/github/Edna-soso/DataAnalysis_Project/blob/main/Model.ipynb\" target=\"_parent\"><img src=\"https://colab.research.google.com/assets/colab-badge.svg\" alt=\"Open In Colab\"/></a>"
      ]
    },
    {
      "cell_type": "code",
      "metadata": {
        "id": "sKiZOCBHj999"
      },
      "source": [
        ""
      ],
      "execution_count": null,
      "outputs": []
    },
    {
      "cell_type": "markdown",
      "metadata": {
        "id": "hyIG0OmUGcls"
      },
      "source": [
        "#Tìm độ chêch lệch trên trục dữ liệu\n",
        "Thống kê trong 1 ngày, tần số (Frequency) và lần mua gần nhất số lượng bao nhiêu (Recency) và số tiền thu nhập (Monetary) theo khách hàng."
      ]
    },
    {
      "cell_type": "code",
      "metadata": {
        "colab": {
          "base_uri": "https://localhost:8080/",
          "height": 212
        },
        "id": "XluL_eeZKHdc",
        "outputId": "590cedb4-1eb9-4ed4-90b3-e1725290c195"
      },
      "source": [
        "#tính lần mua gần nhất\n",
        "data = data_dup\n",
        "data['InvoiceDate']=pd.to_datetime(data['InvoiceDate'])\n",
        "data['InvoiceDate'].max()"
      ],
      "execution_count": 1,
      "outputs": [
        {
          "output_type": "error",
          "ename": "NameError",
          "evalue": "ignored",
          "traceback": [
            "\u001b[0;31m---------------------------------------------------------------------------\u001b[0m",
            "\u001b[0;31mNameError\u001b[0m                                 Traceback (most recent call last)",
            "\u001b[0;32m<ipython-input-1-c3761fc255cf>\u001b[0m in \u001b[0;36m<module>\u001b[0;34m()\u001b[0m\n\u001b[1;32m      1\u001b[0m \u001b[0;31m#tính lần mua gần nhất\u001b[0m\u001b[0;34m\u001b[0m\u001b[0;34m\u001b[0m\u001b[0;34m\u001b[0m\u001b[0m\n\u001b[0;32m----> 2\u001b[0;31m \u001b[0mdata\u001b[0m \u001b[0;34m=\u001b[0m \u001b[0mdata_dup\u001b[0m\u001b[0;34m\u001b[0m\u001b[0;34m\u001b[0m\u001b[0m\n\u001b[0m\u001b[1;32m      3\u001b[0m \u001b[0mdata\u001b[0m\u001b[0;34m[\u001b[0m\u001b[0;34m'InvoiceDate'\u001b[0m\u001b[0;34m]\u001b[0m\u001b[0;34m=\u001b[0m\u001b[0mpd\u001b[0m\u001b[0;34m.\u001b[0m\u001b[0mto_datetime\u001b[0m\u001b[0;34m(\u001b[0m\u001b[0mdata\u001b[0m\u001b[0;34m[\u001b[0m\u001b[0;34m'InvoiceDate'\u001b[0m\u001b[0;34m]\u001b[0m\u001b[0;34m)\u001b[0m\u001b[0;34m\u001b[0m\u001b[0;34m\u001b[0m\u001b[0m\n\u001b[1;32m      4\u001b[0m \u001b[0mdata\u001b[0m\u001b[0;34m[\u001b[0m\u001b[0;34m'InvoiceDate'\u001b[0m\u001b[0;34m]\u001b[0m\u001b[0;34m.\u001b[0m\u001b[0mmax\u001b[0m\u001b[0;34m(\u001b[0m\u001b[0;34m)\u001b[0m\u001b[0;34m\u001b[0m\u001b[0;34m\u001b[0m\u001b[0m\n",
            "\u001b[0;31mNameError\u001b[0m: name 'data_dup' is not defined"
          ]
        }
      ]
    },
    {
      "cell_type": "code",
      "metadata": {
        "id": "EvLsQp3JMA54"
      },
      "source": [
        "#Tính toán các yếu tố trong mô hình RFM\n",
        "data['TotalAmount'] = data['UnitPrice']*data['Quantity']\n",
        "\n",
        "Latest_date = dt.datetime(2011,12,10)\n",
        "RFM_data = data.groupby('CustomerID').agg({'InvoiceDate' : lambda x :(Latest_date - x.max()).days,\n",
        "                                          'InvoiceNo' : 'count','TotalAmount' : 'sum'}).reset_index()\n",
        "\n",
        "RFM_data.rename(columns = {'InvoiceDate' : 'Recency',\n",
        "                          'InvoiceNo' : \"Frequency\",\n",
        "                          'TotalAmount' : \"Monetary\"},inplace = True)\n",
        "RFM_data"
      ],
      "execution_count": null,
      "outputs": []
    },
    {
      "cell_type": "code",
      "metadata": {
        "id": "S6wp6JynNPxU"
      },
      "source": [
        "#Trực quan phân phối Recency, Frequency and Monetary.\n",
        "i = 0\n",
        "fig = plt.figure(constrained_layout = True,figsize = (20,5))\n",
        "gs = GridSpec(1, 3, figure=fig)    \n",
        "\n",
        "col = ['red','blue','green']\n",
        "for var in list(RFM_data.columns[1:4]):\n",
        "    plt.subplot(gs[0,i])\n",
        "    sns.distplot(RFM_data[var],color= col[i])\n",
        "    plt.title('Skewness ' + ': ' + round(RFM_data[var].skew(),2).astype(str))\n",
        "    i= i+1"
      ],
      "execution_count": null,
      "outputs": []
    },
    {
      "cell_type": "code",
      "metadata": {
        "id": "YMwKxE38fSc9"
      },
      "source": [
        "quantiles = RFM_data.quantile(q = [0.25,0.5,0.75])\n",
        "quantiles.to_dict()"
      ],
      "execution_count": null,
      "outputs": []
    },
    {
      "cell_type": "code",
      "metadata": {
        "id": "h_RkjoZfbiLJ"
      },
      "source": [
        "def R_score(var,p,d):\n",
        "    if var <= d[p][0.25]:\n",
        "        return 1\n",
        "    elif var <= d[p][0.50]:\n",
        "        return 2\n",
        "    elif var <= d[p][0.75]:\n",
        "        return 3\n",
        "    else:\n",
        "        return 4\n",
        "#[2] Frequency and Monetary (Positive Impact : Higher the value, better the customer)\n",
        "def FM_score(var,p,d):\n",
        "    if var <= d[p][0.25]:\n",
        "        return 4\n",
        "    elif var <= d[p][0.50]:\n",
        "        return 3\n",
        "    elif var <= d[p][0.75]:\n",
        "        return 2\n",
        "    else:\n",
        "        return 1"
      ],
      "execution_count": null,
      "outputs": []
    },
    {
      "cell_type": "code",
      "metadata": {
        "id": "O0dBMwW0bWlV"
      },
      "source": [
        "RFM_data['R_score'] = RFM_data['Recency'].apply(R_score,args = ('Recency',quantiles,))\n",
        "RFM_data['F_score'] = RFM_data['Frequency'].apply(FM_score,args = ('Frequency',quantiles,))\n",
        "RFM_data['M_score'] = RFM_data['Monetary'].apply(FM_score,args = ('Monetary',quantiles,))\n",
        "RFM_data.head()"
      ],
      "execution_count": null,
      "outputs": []
    }
  ]
}