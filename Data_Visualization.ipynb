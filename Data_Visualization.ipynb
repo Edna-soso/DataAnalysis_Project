{
  "nbformat": 4,
  "nbformat_minor": 0,
  "metadata": {
    "colab": {
      "name": "Data_Visualization.ipynb",
      "provenance": [],
      "collapsed_sections": [],
      "include_colab_link": true
    },
    "kernelspec": {
      "name": "python3",
      "display_name": "Python 3"
    },
    "language_info": {
      "name": "python"
    }
  },
  "cells": [
    {
      "cell_type": "markdown",
      "metadata": {
        "id": "view-in-github",
        "colab_type": "text"
      },
      "source": [
        "<a href=\"https://colab.research.google.com/github/Edna-soso/DataAnalysis_Project/blob/main/Data_Visualization.ipynb\" target=\"_parent\"><img src=\"https://colab.research.google.com/assets/colab-badge.svg\" alt=\"Open In Colab\"/></a>"
      ]
    },
    {
      "cell_type": "code",
      "metadata": {
        "colab": {
          "base_uri": "https://localhost:8080/"
        },
        "id": "zmi9fMv1FwgL",
        "outputId": "cb0e2673-03ee-4fa9-f7e7-47a2f4a1702d"
      },
      "source": [
        "from google.colab import drive\n",
        "drive.mount('/content/drive')"
      ],
      "execution_count": 268,
      "outputs": [
        {
          "output_type": "stream",
          "text": [
            "Drive already mounted at /content/drive; to attempt to forcibly remount, call drive.mount(\"/content/drive\", force_remount=True).\n"
          ],
          "name": "stdout"
        }
      ]
    },
    {
      "cell_type": "code",
      "metadata": {
        "id": "Bowvx9twALRr"
      },
      "source": [
        "%matplotlib inline"
      ],
      "execution_count": 269,
      "outputs": []
    },
    {
      "cell_type": "code",
      "metadata": {
        "id": "vs5b0FmAE--U"
      },
      "source": [
        "import numpy as np\n",
        "import pandas as pd\n",
        "\n",
        "import matplotlib.pyplot as plt\n",
        "import datetime as dt\n",
        "from matplotlib.gridspec import GridSpec\n",
        "import seaborn as sns\n",
        "import plotly.express as px\n",
        "\n",
        "import plotly.graph_objs as go"
      ],
      "execution_count": 270,
      "outputs": []
    },
    {
      "cell_type": "code",
      "metadata": {
        "id": "XSI4lX0rQRs3"
      },
      "source": [
        "data = pd.read_csv('/content/drive/MyDrive/python_OP/Clean_Dataset.csv')"
      ],
      "execution_count": 271,
      "outputs": []
    },
    {
      "cell_type": "code",
      "metadata": {
        "colab": {
          "base_uri": "https://localhost:8080/"
        },
        "id": "AZywBV6C_QWi",
        "outputId": "d91cd6f3-714d-4368-dd77-4230d52a8e35"
      },
      "source": [
        "data.pop('Unnamed: 0')"
      ],
      "execution_count": 272,
      "outputs": [
        {
          "output_type": "execute_result",
          "data": {
            "text/plain": [
              "0              0\n",
              "1              1\n",
              "2              2\n",
              "3              3\n",
              "4              4\n",
              "           ...  \n",
              "397919    541904\n",
              "397920    541905\n",
              "397921    541906\n",
              "397922    541907\n",
              "397923    541908\n",
              "Name: Unnamed: 0, Length: 397924, dtype: int64"
            ]
          },
          "metadata": {
            "tags": []
          },
          "execution_count": 272
        }
      ]
    },
    {
      "cell_type": "code",
      "metadata": {
        "colab": {
          "base_uri": "https://localhost:8080/",
          "height": 190
        },
        "id": "nv7TLcMeDdJj",
        "outputId": "09c7b44e-50d0-474e-959f-c82d3f5c3884"
      },
      "source": [
        "data.head()"
      ],
      "execution_count": 273,
      "outputs": [
        {
          "output_type": "execute_result",
          "data": {
            "text/html": [
              "<div>\n",
              "<style scoped>\n",
              "    .dataframe tbody tr th:only-of-type {\n",
              "        vertical-align: middle;\n",
              "    }\n",
              "\n",
              "    .dataframe tbody tr th {\n",
              "        vertical-align: top;\n",
              "    }\n",
              "\n",
              "    .dataframe thead th {\n",
              "        text-align: right;\n",
              "    }\n",
              "</style>\n",
              "<table border=\"1\" class=\"dataframe\">\n",
              "  <thead>\n",
              "    <tr style=\"text-align: right;\">\n",
              "      <th></th>\n",
              "      <th>InvoiceNo</th>\n",
              "      <th>StockCode</th>\n",
              "      <th>Description</th>\n",
              "      <th>Quantity</th>\n",
              "      <th>InvoiceDate</th>\n",
              "      <th>UnitPrice</th>\n",
              "      <th>CustomerID</th>\n",
              "      <th>Country</th>\n",
              "      <th>Date</th>\n",
              "      <th>Time</th>\n",
              "      <th>Hour</th>\n",
              "      <th>Month</th>\n",
              "      <th>Year</th>\n",
              "      <th>TotalCost</th>\n",
              "    </tr>\n",
              "  </thead>\n",
              "  <tbody>\n",
              "    <tr>\n",
              "      <th>0</th>\n",
              "      <td>536365</td>\n",
              "      <td>85123A</td>\n",
              "      <td>WHITE HANGING HEART T-LIGHT HOLDER</td>\n",
              "      <td>6</td>\n",
              "      <td>12/1/2010 8:26</td>\n",
              "      <td>2.55</td>\n",
              "      <td>17850.0</td>\n",
              "      <td>United Kingdom</td>\n",
              "      <td>12/1/2010</td>\n",
              "      <td>8:26</td>\n",
              "      <td>8</td>\n",
              "      <td>12</td>\n",
              "      <td>2010</td>\n",
              "      <td>15.30</td>\n",
              "    </tr>\n",
              "    <tr>\n",
              "      <th>1</th>\n",
              "      <td>536365</td>\n",
              "      <td>71053</td>\n",
              "      <td>WHITE METAL LANTERN</td>\n",
              "      <td>6</td>\n",
              "      <td>12/1/2010 8:26</td>\n",
              "      <td>3.39</td>\n",
              "      <td>17850.0</td>\n",
              "      <td>United Kingdom</td>\n",
              "      <td>12/1/2010</td>\n",
              "      <td>8:26</td>\n",
              "      <td>8</td>\n",
              "      <td>12</td>\n",
              "      <td>2010</td>\n",
              "      <td>20.34</td>\n",
              "    </tr>\n",
              "    <tr>\n",
              "      <th>2</th>\n",
              "      <td>536365</td>\n",
              "      <td>84406B</td>\n",
              "      <td>CREAM CUPID HEARTS COAT HANGER</td>\n",
              "      <td>8</td>\n",
              "      <td>12/1/2010 8:26</td>\n",
              "      <td>2.75</td>\n",
              "      <td>17850.0</td>\n",
              "      <td>United Kingdom</td>\n",
              "      <td>12/1/2010</td>\n",
              "      <td>8:26</td>\n",
              "      <td>8</td>\n",
              "      <td>12</td>\n",
              "      <td>2010</td>\n",
              "      <td>22.00</td>\n",
              "    </tr>\n",
              "    <tr>\n",
              "      <th>3</th>\n",
              "      <td>536365</td>\n",
              "      <td>84029G</td>\n",
              "      <td>KNITTED UNION FLAG HOT WATER BOTTLE</td>\n",
              "      <td>6</td>\n",
              "      <td>12/1/2010 8:26</td>\n",
              "      <td>3.39</td>\n",
              "      <td>17850.0</td>\n",
              "      <td>United Kingdom</td>\n",
              "      <td>12/1/2010</td>\n",
              "      <td>8:26</td>\n",
              "      <td>8</td>\n",
              "      <td>12</td>\n",
              "      <td>2010</td>\n",
              "      <td>20.34</td>\n",
              "    </tr>\n",
              "    <tr>\n",
              "      <th>4</th>\n",
              "      <td>536365</td>\n",
              "      <td>84029E</td>\n",
              "      <td>RED WOOLLY HOTTIE WHITE HEART.</td>\n",
              "      <td>6</td>\n",
              "      <td>12/1/2010 8:26</td>\n",
              "      <td>3.39</td>\n",
              "      <td>17850.0</td>\n",
              "      <td>United Kingdom</td>\n",
              "      <td>12/1/2010</td>\n",
              "      <td>8:26</td>\n",
              "      <td>8</td>\n",
              "      <td>12</td>\n",
              "      <td>2010</td>\n",
              "      <td>20.34</td>\n",
              "    </tr>\n",
              "  </tbody>\n",
              "</table>\n",
              "</div>"
            ],
            "text/plain": [
              "   InvoiceNo StockCode  ...  Year  TotalCost\n",
              "0     536365    85123A  ...  2010      15.30\n",
              "1     536365     71053  ...  2010      20.34\n",
              "2     536365    84406B  ...  2010      22.00\n",
              "3     536365    84029G  ...  2010      20.34\n",
              "4     536365    84029E  ...  2010      20.34\n",
              "\n",
              "[5 rows x 14 columns]"
            ]
          },
          "metadata": {
            "tags": []
          },
          "execution_count": 273
        }
      ]
    },
    {
      "cell_type": "code",
      "metadata": {
        "id": "9W1S3tsLCQ3d"
      },
      "source": [
        "moving_column= data.pop(\"TotalCost\")\n",
        "data.insert(6,\"TotalCost\", moving_column)\n"
      ],
      "execution_count": 274,
      "outputs": []
    },
    {
      "cell_type": "code",
      "metadata": {
        "colab": {
          "base_uri": "https://localhost:8080/",
          "height": 190
        },
        "id": "jmUCkRrZD8oW",
        "outputId": "5a522a4e-4d6d-42d4-ca13-f3bad62bc6a8"
      },
      "source": [
        "data.head()"
      ],
      "execution_count": 275,
      "outputs": [
        {
          "output_type": "execute_result",
          "data": {
            "text/html": [
              "<div>\n",
              "<style scoped>\n",
              "    .dataframe tbody tr th:only-of-type {\n",
              "        vertical-align: middle;\n",
              "    }\n",
              "\n",
              "    .dataframe tbody tr th {\n",
              "        vertical-align: top;\n",
              "    }\n",
              "\n",
              "    .dataframe thead th {\n",
              "        text-align: right;\n",
              "    }\n",
              "</style>\n",
              "<table border=\"1\" class=\"dataframe\">\n",
              "  <thead>\n",
              "    <tr style=\"text-align: right;\">\n",
              "      <th></th>\n",
              "      <th>InvoiceNo</th>\n",
              "      <th>StockCode</th>\n",
              "      <th>Description</th>\n",
              "      <th>Quantity</th>\n",
              "      <th>InvoiceDate</th>\n",
              "      <th>UnitPrice</th>\n",
              "      <th>TotalCost</th>\n",
              "      <th>CustomerID</th>\n",
              "      <th>Country</th>\n",
              "      <th>Date</th>\n",
              "      <th>Time</th>\n",
              "      <th>Hour</th>\n",
              "      <th>Month</th>\n",
              "      <th>Year</th>\n",
              "    </tr>\n",
              "  </thead>\n",
              "  <tbody>\n",
              "    <tr>\n",
              "      <th>0</th>\n",
              "      <td>536365</td>\n",
              "      <td>85123A</td>\n",
              "      <td>WHITE HANGING HEART T-LIGHT HOLDER</td>\n",
              "      <td>6</td>\n",
              "      <td>12/1/2010 8:26</td>\n",
              "      <td>2.55</td>\n",
              "      <td>15.30</td>\n",
              "      <td>17850.0</td>\n",
              "      <td>United Kingdom</td>\n",
              "      <td>12/1/2010</td>\n",
              "      <td>8:26</td>\n",
              "      <td>8</td>\n",
              "      <td>12</td>\n",
              "      <td>2010</td>\n",
              "    </tr>\n",
              "    <tr>\n",
              "      <th>1</th>\n",
              "      <td>536365</td>\n",
              "      <td>71053</td>\n",
              "      <td>WHITE METAL LANTERN</td>\n",
              "      <td>6</td>\n",
              "      <td>12/1/2010 8:26</td>\n",
              "      <td>3.39</td>\n",
              "      <td>20.34</td>\n",
              "      <td>17850.0</td>\n",
              "      <td>United Kingdom</td>\n",
              "      <td>12/1/2010</td>\n",
              "      <td>8:26</td>\n",
              "      <td>8</td>\n",
              "      <td>12</td>\n",
              "      <td>2010</td>\n",
              "    </tr>\n",
              "    <tr>\n",
              "      <th>2</th>\n",
              "      <td>536365</td>\n",
              "      <td>84406B</td>\n",
              "      <td>CREAM CUPID HEARTS COAT HANGER</td>\n",
              "      <td>8</td>\n",
              "      <td>12/1/2010 8:26</td>\n",
              "      <td>2.75</td>\n",
              "      <td>22.00</td>\n",
              "      <td>17850.0</td>\n",
              "      <td>United Kingdom</td>\n",
              "      <td>12/1/2010</td>\n",
              "      <td>8:26</td>\n",
              "      <td>8</td>\n",
              "      <td>12</td>\n",
              "      <td>2010</td>\n",
              "    </tr>\n",
              "    <tr>\n",
              "      <th>3</th>\n",
              "      <td>536365</td>\n",
              "      <td>84029G</td>\n",
              "      <td>KNITTED UNION FLAG HOT WATER BOTTLE</td>\n",
              "      <td>6</td>\n",
              "      <td>12/1/2010 8:26</td>\n",
              "      <td>3.39</td>\n",
              "      <td>20.34</td>\n",
              "      <td>17850.0</td>\n",
              "      <td>United Kingdom</td>\n",
              "      <td>12/1/2010</td>\n",
              "      <td>8:26</td>\n",
              "      <td>8</td>\n",
              "      <td>12</td>\n",
              "      <td>2010</td>\n",
              "    </tr>\n",
              "    <tr>\n",
              "      <th>4</th>\n",
              "      <td>536365</td>\n",
              "      <td>84029E</td>\n",
              "      <td>RED WOOLLY HOTTIE WHITE HEART.</td>\n",
              "      <td>6</td>\n",
              "      <td>12/1/2010 8:26</td>\n",
              "      <td>3.39</td>\n",
              "      <td>20.34</td>\n",
              "      <td>17850.0</td>\n",
              "      <td>United Kingdom</td>\n",
              "      <td>12/1/2010</td>\n",
              "      <td>8:26</td>\n",
              "      <td>8</td>\n",
              "      <td>12</td>\n",
              "      <td>2010</td>\n",
              "    </tr>\n",
              "  </tbody>\n",
              "</table>\n",
              "</div>"
            ],
            "text/plain": [
              "   InvoiceNo StockCode                          Description  ...  Hour Month  Year\n",
              "0     536365    85123A   WHITE HANGING HEART T-LIGHT HOLDER  ...     8    12  2010\n",
              "1     536365     71053                  WHITE METAL LANTERN  ...     8    12  2010\n",
              "2     536365    84406B       CREAM CUPID HEARTS COAT HANGER  ...     8    12  2010\n",
              "3     536365    84029G  KNITTED UNION FLAG HOT WATER BOTTLE  ...     8    12  2010\n",
              "4     536365    84029E       RED WOOLLY HOTTIE WHITE HEART.  ...     8    12  2010\n",
              "\n",
              "[5 rows x 14 columns]"
            ]
          },
          "metadata": {
            "tags": []
          },
          "execution_count": 275
        }
      ]
    },
    {
      "cell_type": "code",
      "metadata": {
        "id": "D1kVwpRZED8W"
      },
      "source": [
        "moving_column= data.pop(\"InvoiceDate\")\n",
        "data.insert(7,\"InvoiceDate\", moving_column)"
      ],
      "execution_count": 276,
      "outputs": []
    },
    {
      "cell_type": "code",
      "metadata": {
        "colab": {
          "base_uri": "https://localhost:8080/",
          "height": 190
        },
        "id": "5C-Ct9VyEOus",
        "outputId": "6f7f442d-feb4-4f0a-a858-f2a48945ad9e"
      },
      "source": [
        "data.head()"
      ],
      "execution_count": 277,
      "outputs": [
        {
          "output_type": "execute_result",
          "data": {
            "text/html": [
              "<div>\n",
              "<style scoped>\n",
              "    .dataframe tbody tr th:only-of-type {\n",
              "        vertical-align: middle;\n",
              "    }\n",
              "\n",
              "    .dataframe tbody tr th {\n",
              "        vertical-align: top;\n",
              "    }\n",
              "\n",
              "    .dataframe thead th {\n",
              "        text-align: right;\n",
              "    }\n",
              "</style>\n",
              "<table border=\"1\" class=\"dataframe\">\n",
              "  <thead>\n",
              "    <tr style=\"text-align: right;\">\n",
              "      <th></th>\n",
              "      <th>InvoiceNo</th>\n",
              "      <th>StockCode</th>\n",
              "      <th>Description</th>\n",
              "      <th>Quantity</th>\n",
              "      <th>UnitPrice</th>\n",
              "      <th>TotalCost</th>\n",
              "      <th>CustomerID</th>\n",
              "      <th>InvoiceDate</th>\n",
              "      <th>Country</th>\n",
              "      <th>Date</th>\n",
              "      <th>Time</th>\n",
              "      <th>Hour</th>\n",
              "      <th>Month</th>\n",
              "      <th>Year</th>\n",
              "    </tr>\n",
              "  </thead>\n",
              "  <tbody>\n",
              "    <tr>\n",
              "      <th>0</th>\n",
              "      <td>536365</td>\n",
              "      <td>85123A</td>\n",
              "      <td>WHITE HANGING HEART T-LIGHT HOLDER</td>\n",
              "      <td>6</td>\n",
              "      <td>2.55</td>\n",
              "      <td>15.30</td>\n",
              "      <td>17850.0</td>\n",
              "      <td>12/1/2010 8:26</td>\n",
              "      <td>United Kingdom</td>\n",
              "      <td>12/1/2010</td>\n",
              "      <td>8:26</td>\n",
              "      <td>8</td>\n",
              "      <td>12</td>\n",
              "      <td>2010</td>\n",
              "    </tr>\n",
              "    <tr>\n",
              "      <th>1</th>\n",
              "      <td>536365</td>\n",
              "      <td>71053</td>\n",
              "      <td>WHITE METAL LANTERN</td>\n",
              "      <td>6</td>\n",
              "      <td>3.39</td>\n",
              "      <td>20.34</td>\n",
              "      <td>17850.0</td>\n",
              "      <td>12/1/2010 8:26</td>\n",
              "      <td>United Kingdom</td>\n",
              "      <td>12/1/2010</td>\n",
              "      <td>8:26</td>\n",
              "      <td>8</td>\n",
              "      <td>12</td>\n",
              "      <td>2010</td>\n",
              "    </tr>\n",
              "    <tr>\n",
              "      <th>2</th>\n",
              "      <td>536365</td>\n",
              "      <td>84406B</td>\n",
              "      <td>CREAM CUPID HEARTS COAT HANGER</td>\n",
              "      <td>8</td>\n",
              "      <td>2.75</td>\n",
              "      <td>22.00</td>\n",
              "      <td>17850.0</td>\n",
              "      <td>12/1/2010 8:26</td>\n",
              "      <td>United Kingdom</td>\n",
              "      <td>12/1/2010</td>\n",
              "      <td>8:26</td>\n",
              "      <td>8</td>\n",
              "      <td>12</td>\n",
              "      <td>2010</td>\n",
              "    </tr>\n",
              "    <tr>\n",
              "      <th>3</th>\n",
              "      <td>536365</td>\n",
              "      <td>84029G</td>\n",
              "      <td>KNITTED UNION FLAG HOT WATER BOTTLE</td>\n",
              "      <td>6</td>\n",
              "      <td>3.39</td>\n",
              "      <td>20.34</td>\n",
              "      <td>17850.0</td>\n",
              "      <td>12/1/2010 8:26</td>\n",
              "      <td>United Kingdom</td>\n",
              "      <td>12/1/2010</td>\n",
              "      <td>8:26</td>\n",
              "      <td>8</td>\n",
              "      <td>12</td>\n",
              "      <td>2010</td>\n",
              "    </tr>\n",
              "    <tr>\n",
              "      <th>4</th>\n",
              "      <td>536365</td>\n",
              "      <td>84029E</td>\n",
              "      <td>RED WOOLLY HOTTIE WHITE HEART.</td>\n",
              "      <td>6</td>\n",
              "      <td>3.39</td>\n",
              "      <td>20.34</td>\n",
              "      <td>17850.0</td>\n",
              "      <td>12/1/2010 8:26</td>\n",
              "      <td>United Kingdom</td>\n",
              "      <td>12/1/2010</td>\n",
              "      <td>8:26</td>\n",
              "      <td>8</td>\n",
              "      <td>12</td>\n",
              "      <td>2010</td>\n",
              "    </tr>\n",
              "  </tbody>\n",
              "</table>\n",
              "</div>"
            ],
            "text/plain": [
              "   InvoiceNo StockCode                          Description  ...  Hour  Month  Year\n",
              "0     536365    85123A   WHITE HANGING HEART T-LIGHT HOLDER  ...     8     12  2010\n",
              "1     536365     71053                  WHITE METAL LANTERN  ...     8     12  2010\n",
              "2     536365    84406B       CREAM CUPID HEARTS COAT HANGER  ...     8     12  2010\n",
              "3     536365    84029G  KNITTED UNION FLAG HOT WATER BOTTLE  ...     8     12  2010\n",
              "4     536365    84029E       RED WOOLLY HOTTIE WHITE HEART.  ...     8     12  2010\n",
              "\n",
              "[5 rows x 14 columns]"
            ]
          },
          "metadata": {
            "tags": []
          },
          "execution_count": 277
        }
      ]
    },
    {
      "cell_type": "markdown",
      "metadata": {
        "id": "Dow1yTMkBfEF"
      },
      "source": [
        "# **Tháng có doanh số cao nhất?**"
      ]
    },
    {
      "cell_type": "code",
      "metadata": {
        "colab": {
          "base_uri": "https://localhost:8080/"
        },
        "id": "YPLM5U3SEUNp",
        "outputId": "48fa306a-8f4c-4b91-9e96-1c8d02e7c235"
      },
      "source": [
        "gr_month= data.groupby(\"Month\").sum()[\"TotalCost\"]\n",
        "gr_month"
      ],
      "execution_count": 278,
      "outputs": [
        {
          "output_type": "execute_result",
          "data": {
            "text/plain": [
              "Month\n",
              "1      569445.040\n",
              "2      447137.350\n",
              "3      595500.760\n",
              "4      469200.361\n",
              "5      678594.560\n",
              "6      661213.690\n",
              "7      600091.011\n",
              "8      645343.900\n",
              "9      952838.382\n",
              "10    1039318.790\n",
              "11    1161817.380\n",
              "12    1090906.680\n",
              "Name: TotalCost, dtype: float64"
            ]
          },
          "metadata": {
            "tags": []
          },
          "execution_count": 278
        }
      ]
    },
    {
      "cell_type": "code",
      "metadata": {
        "colab": {
          "base_uri": "https://localhost:8080/"
        },
        "id": "reLLG4p9Euef",
        "outputId": "30178242-e953-49ca-be69-411bfa00f877"
      },
      "source": [
        "gr_month.max()"
      ],
      "execution_count": 279,
      "outputs": [
        {
          "output_type": "execute_result",
          "data": {
            "text/plain": [
              "1161817.3799999433"
            ]
          },
          "metadata": {
            "tags": []
          },
          "execution_count": 279
        }
      ]
    },
    {
      "cell_type": "markdown",
      "metadata": {
        "id": "kFVq2WtNFTfr"
      },
      "source": [
        "Trực quan totalCost theo month"
      ]
    },
    {
      "cell_type": "code",
      "metadata": {
        "colab": {
          "base_uri": "https://localhost:8080/",
          "height": 307
        },
        "id": "6YUBh0MNFPSY",
        "outputId": "8b89de89-6d4d-4765-de24-15599d4999bb"
      },
      "source": [
        "months = range(1,13)\n",
        "plt.bar(months, gr_month, align='center')\n",
        "plt.xticks(months)\n",
        "plt.xlabel(\"Months\")\n",
        "plt.ylabel(\"TotalCost\")"
      ],
      "execution_count": 280,
      "outputs": [
        {
          "output_type": "execute_result",
          "data": {
            "text/plain": [
              "Text(0, 0.5, 'TotalCost')"
            ]
          },
          "metadata": {
            "tags": []
          },
          "execution_count": 280
        },
        {
          "output_type": "display_data",
          "data": {
            "image/png": "[encoded data removed]",
            "text/plain": [
              "<Figure size 432x288 with 1 Axes>"
            ]
          },
          "metadata": {
            "tags": [],
            "needs_background": "light"
          }
        }
      ]
    },
    {
      "cell_type": "markdown",
      "metadata": {
        "id": "TTBx27ObLLI8"
      },
      "source": [
        "#**Country nào có doanh số cao nhất** "
      ]
    },
    {
      "cell_type": "code",
      "metadata": {
        "id": "MaQEzi7NLgnC"
      },
      "source": [
        "gr_country = data.groupby(\"Country\").sum()[\"TotalCost\"]\n",
        "gr_country.max()\n",
        "country = [country for country, totalcost in gr_country.items()]"
      ],
      "execution_count": 281,
      "outputs": []
    },
    {
      "cell_type": "code",
      "metadata": {
        "colab": {
          "base_uri": "https://localhost:8080/",
          "height": 542
        },
        "id": "WZTbFQdyLzOe",
        "outputId": "d5f3cb10-6840-4012-c7fe-021a35c90bc3"
      },
      "source": [
        "df= data\n",
        "df = go.Bar(x = country, y = gr_country,marker={'color': gr_country,'colorscale': 'Viridis'})\n",
        "layout = go.Layout(title = 'Country')\n",
        "fig = go.Figure(data=df , layout = layout)\n",
        "fig.show()"
      ],
      "execution_count": 282,
      "outputs": [
        {
          "output_type": "display_data",
          "data": {
            "text/html": [
              "<html>\n",
              "<head><meta charset=\"utf-8\" /></head>\n",
              "<body>\n",
              "    <div>\n",
              "            <script src=\"https://cdnjs.cloudflare.com/ajax/libs/mathjax/2.7.5/MathJax.js?config=TeX-AMS-MML_SVG\"></script><script type=\"text/javascript\">if (window.MathJax) {MathJax.Hub.Config({SVG: {font: \"STIX-Web\"}});}</script>\n",
              "                <script type=\"text/javascript\">window.PlotlyConfig = {MathJaxConfig: 'local'};</script>\n",
              "        <script src=\"https://cdn.plot.ly/plotly-latest.min.js\"></script>    \n",
              "            <div id=\"5b9def1d-26e3-4d8c-b8b0-6d3786c6594c\" class=\"plotly-graph-div\" style=\"height:525px; width:100%;\"></div>\n",
              "            <script type=\"text/javascript\">\n",
              "                \n",
              "                    window.PLOTLYENV=window.PLOTLYENV || {};\n",
              "                    \n",
              "                if (document.getElementById(\"5b9def1d-26e3-4d8c-b8b0-6d3786c6594c\")) {\n",
              "                    Plotly.newPlot(\n",
              "                        '5b9def1d-26e3-4d8c-b8b0-6d3786c6594c',\n",
              "                        [{\"marker\": {\"color\": [138521.30999999956, 10198.679999999997, 548.4, 41196.33999999997, 1143.6000000000001, 3666.380000000001, 20450.439999999962, 13590.379999999994, 826.7400000000001, 18955.339999999997, 265545.8999999985, 1300.2500000000002, 22546.079999999973, 209024.0499999997, 228867.13999999844, 4760.5199999999995, 4309.999999999997, 7221.689999999999, 17483.240000000005, 37416.37000000001, 1693.8800000000006, 1661.06, 2725.59, 285446.34, 36165.440000000046, 7334.649999999997, 33439.890000000014, 1002.3099999999998, 145.92000000000002, 21279.289999999994, 61577.10999999997, 38378.33000000003, 56443.95000000004, 3580.3900000000012, 1902.2800000000007, 7308391.5540030645, 2667.0700000000006], \"colorscale\": [[0.0, \"#440154\"], [0.1111111111111111, \"#482878\"], [0.2222222222222222, \"#3e4989\"], [0.3333333333333333, \"#31688e\"], [0.4444444444444444, \"#26828e\"], [0.5555555555555556, \"#1f9e89\"], [0.6666666666666666, \"#35b779\"], [0.7777777777777778, \"#6ece58\"], [0.8888888888888888, \"#b5de2b\"], [1.0, \"#fde725\"]]}, \"type\": \"bar\", \"x\": [\"Australia\", \"Austria\", \"Bahrain\", \"Belgium\", \"Brazil\", \"Canada\", \"Channel Islands\", \"Cyprus\", \"Czech Republic\", \"Denmark\", \"EIRE\", \"European Community\", \"Finland\", \"France\", \"Germany\", \"Greece\", \"Iceland\", \"Israel\", \"Italy\", \"Japan\", \"Lebanon\", \"Lithuania\", \"Malta\", \"Netherlands\", \"Norway\", \"Poland\", \"Portugal\", \"RSA\", \"Saudi Arabia\", \"Singapore\", \"Spain\", \"Sweden\", \"Switzerland\", \"USA\", \"United Arab Emirates\", \"United Kingdom\", \"Unspecified\"], \"y\": [138521.30999999956, 10198.679999999997, 548.4, 41196.33999999997, 1143.6000000000001, 3666.380000000001, 20450.439999999962, 13590.379999999994, 826.7400000000001, 18955.339999999997, 265545.8999999985, 1300.2500000000002, 22546.079999999973, 209024.0499999997, 228867.13999999844, 4760.5199999999995, 4309.999999999997, 7221.689999999999, 17483.240000000005, 37416.37000000001, 1693.8800000000006, 1661.06, 2725.59, 285446.34, 36165.440000000046, 7334.649999999997, 33439.890000000014, 1002.3099999999998, 145.92000000000002, 21279.289999999994, 61577.10999999997, 38378.33000000003, 56443.95000000004, 3580.3900000000012, 1902.2800000000007, 7308391.5540030645, 2667.0700000000006]}],\n",
              "                        {\"template\": {\"data\": {\"bar\": [{\"error_x\": {\"color\": \"#2a3f5f\"}, \"error_y\": {\"color\": \"#2a3f5f\"}, \"marker\": {\"line\": {\"color\": \"#E5ECF6\", \"width\": 0.5}}, \"type\": \"bar\"}], \"barpolar\": [{\"marker\": {\"line\": {\"color\": \"#E5ECF6\", \"width\": 0.5}}, \"type\": \"barpolar\"}], \"carpet\": [{\"aaxis\": {\"endlinecolor\": \"#2a3f5f\", \"gridcolor\": \"white\", \"linecolor\": \"white\", \"minorgridcolor\": \"white\", \"startlinecolor\": \"#2a3f5f\"}, \"baxis\": {\"endlinecolor\": \"#2a3f5f\", \"gridcolor\": \"white\", \"linecolor\": \"white\", \"minorgridcolor\": \"white\", \"startlinecolor\": \"#2a3f5f\"}, \"type\": \"carpet\"}], \"choropleth\": [{\"colorbar\": {\"outlinewidth\": 0, \"ticks\": \"\"}, \"type\": \"choropleth\"}], \"contour\": [{\"colorbar\": {\"outlinewidth\": 0, \"ticks\": \"\"}, \"colorscale\": [[0.0, \"#0d0887\"], [0.1111111111111111, \"#46039f\"], [0.2222222222222222, \"#7201a8\"], [0.3333333333333333, \"#9c179e\"], [0.4444444444444444, \"#bd3786\"], [0.5555555555555556, \"#d8576b\"], [0.6666666666666666, \"#ed7953\"], [0.7777777777777778, \"#fb9f3a\"], [0.8888888888888888, \"#fdca26\"], [1.0, \"#f0f921\"]], \"type\": \"contour\"}], \"contourcarpet\": [{\"colorbar\": {\"outlinewidth\": 0, \"ticks\": \"\"}, \"type\": \"contourcarpet\"}], \"heatmap\": [{\"colorbar\": {\"outlinewidth\": 0, \"ticks\": \"\"}, \"colorscale\": [[0.0, \"#0d0887\"], [0.1111111111111111, \"#46039f\"], [0.2222222222222222, \"#7201a8\"], [0.3333333333333333, \"#9c179e\"], [0.4444444444444444, \"#bd3786\"], [0.5555555555555556, \"#d8576b\"], [0.6666666666666666, \"#ed7953\"], [0.7777777777777778, \"#fb9f3a\"], [0.8888888888888888, \"#fdca26\"], [1.0, \"#f0f921\"]], \"type\": \"heatmap\"}], \"heatmapgl\": [{\"colorbar\": {\"outlinewidth\": 0, \"ticks\": \"\"}, \"colorscale\": [[0.0, \"#0d0887\"], [0.1111111111111111, \"#46039f\"], [0.2222222222222222, \"#7201a8\"], [0.3333333333333333, \"#9c179e\"], [0.4444444444444444, \"#bd3786\"], [0.5555555555555556, \"#d8576b\"], [0.6666666666666666, \"#ed7953\"], [0.7777777777777778, \"#fb9f3a\"], [0.8888888888888888, \"#fdca26\"], [1.0, \"#f0f921\"]], \"type\": \"heatmapgl\"}], \"histogram\": [{\"marker\": {\"colorbar\": {\"outlinewidth\": 0, \"ticks\": \"\"}}, \"type\": \"histogram\"}], \"histogram2d\": [{\"colorbar\": {\"outlinewidth\": 0, \"ticks\": \"\"}, \"colorscale\": [[0.0, \"#0d0887\"], [0.1111111111111111, \"#46039f\"], [0.2222222222222222, \"#7201a8\"], [0.3333333333333333, \"#9c179e\"], [0.4444444444444444, \"#bd3786\"], [0.5555555555555556, \"#d8576b\"], [0.6666666666666666, \"#ed7953\"], [0.7777777777777778, \"#fb9f3a\"], [0.8888888888888888, \"#fdca26\"], [1.0, \"#f0f921\"]], \"type\": \"histogram2d\"}], \"histogram2dcontour\": [{\"colorbar\": {\"outlinewidth\": 0, \"ticks\": \"\"}, \"colorscale\": [[0.0, \"#0d0887\"], [0.1111111111111111, \"#46039f\"], [0.2222222222222222, \"#7201a8\"], [0.3333333333333333, \"#9c179e\"], [0.4444444444444444, \"#bd3786\"], [0.5555555555555556, \"#d8576b\"], [0.6666666666666666, \"#ed7953\"], [0.7777777777777778, \"#fb9f3a\"], [0.8888888888888888, \"#fdca26\"], [1.0, \"#f0f921\"]], \"type\": \"histogram2dcontour\"}], \"mesh3d\": [{\"colorbar\": {\"outlinewidth\": 0, \"ticks\": \"\"}, \"type\": \"mesh3d\"}], \"parcoords\": [{\"line\": {\"colorbar\": {\"outlinewidth\": 0, \"ticks\": \"\"}}, \"type\": \"parcoords\"}], \"pie\": [{\"automargin\": true, \"type\": \"pie\"}], \"scatter\": [{\"marker\": {\"colorbar\": {\"outlinewidth\": 0, \"ticks\": \"\"}}, \"type\": \"scatter\"}], \"scatter3d\": [{\"line\": {\"colorbar\": {\"outlinewidth\": 0, \"ticks\": \"\"}}, \"marker\": {\"colorbar\": {\"outlinewidth\": 0, \"ticks\": \"\"}}, \"type\": \"scatter3d\"}], \"scattercarpet\": [{\"marker\": {\"colorbar\": {\"outlinewidth\": 0, \"ticks\": \"\"}}, \"type\": \"scattercarpet\"}], \"scattergeo\": [{\"marker\": {\"colorbar\": {\"outlinewidth\": 0, \"ticks\": \"\"}}, \"type\": \"scattergeo\"}], \"scattergl\": [{\"marker\": {\"colorbar\": {\"outlinewidth\": 0, \"ticks\": \"\"}}, \"type\": \"scattergl\"}], \"scattermapbox\": [{\"marker\": {\"colorbar\": {\"outlinewidth\": 0, \"ticks\": \"\"}}, \"type\": \"scattermapbox\"}], \"scatterpolar\": [{\"marker\": {\"colorbar\": {\"outlinewidth\": 0, \"ticks\": \"\"}}, \"type\": \"scatterpolar\"}], \"scatterpolargl\": [{\"marker\": {\"colorbar\": {\"outlinewidth\": 0, \"ticks\": \"\"}}, \"type\": \"scatterpolargl\"}], \"scatterternary\": [{\"marker\": {\"colorbar\": {\"outlinewidth\": 0, \"ticks\": \"\"}}, \"type\": \"scatterternary\"}], \"surface\": [{\"colorbar\": {\"outlinewidth\": 0, \"ticks\": \"\"}, \"colorscale\": [[0.0, \"#0d0887\"], [0.1111111111111111, \"#46039f\"], [0.2222222222222222, \"#7201a8\"], [0.3333333333333333, \"#9c179e\"], [0.4444444444444444, \"#bd3786\"], [0.5555555555555556, \"#d8576b\"], [0.6666666666666666, \"#ed7953\"], [0.7777777777777778, \"#fb9f3a\"], [0.8888888888888888, \"#fdca26\"], [1.0, \"#f0f921\"]], \"type\": \"surface\"}], \"table\": [{\"cells\": {\"fill\": {\"color\": \"#EBF0F8\"}, \"line\": {\"color\": \"white\"}}, \"header\": {\"fill\": {\"color\": \"#C8D4E3\"}, \"line\": {\"color\": \"white\"}}, \"type\": \"table\"}]}, \"layout\": {\"annotationdefaults\": {\"arrowcolor\": \"#2a3f5f\", \"arrowhead\": 0, \"arrowwidth\": 1}, \"coloraxis\": {\"colorbar\": {\"outlinewidth\": 0, \"ticks\": \"\"}}, \"colorscale\": {\"diverging\": [[0, \"#8e0152\"], [0.1, \"#c51b7d\"], [0.2, \"#de77ae\"], [0.3, \"#f1b6da\"], [0.4, \"#fde0ef\"], [0.5, \"#f7f7f7\"], [0.6, \"#e6f5d0\"], [0.7, \"#b8e186\"], [0.8, \"#7fbc41\"], [0.9, \"#4d9221\"], [1, \"#276419\"]], \"sequential\": [[0.0, \"#0d0887\"], [0.1111111111111111, \"#46039f\"], [0.2222222222222222, \"#7201a8\"], [0.3333333333333333, \"#9c179e\"], [0.4444444444444444, \"#bd3786\"], [0.5555555555555556, \"#d8576b\"], [0.6666666666666666, \"#ed7953\"], [0.7777777777777778, \"#fb9f3a\"], [0.8888888888888888, \"#fdca26\"], [1.0, \"#f0f921\"]], \"sequentialminus\": [[0.0, \"#0d0887\"], [0.1111111111111111, \"#46039f\"], [0.2222222222222222, \"#7201a8\"], [0.3333333333333333, \"#9c179e\"], [0.4444444444444444, \"#bd3786\"], [0.5555555555555556, \"#d8576b\"], [0.6666666666666666, \"#ed7953\"], [0.7777777777777778, \"#fb9f3a\"], [0.8888888888888888, \"#fdca26\"], [1.0, \"#f0f921\"]]}, \"colorway\": [\"#636efa\", \"#EF553B\", \"#00cc96\", \"#ab63fa\", \"#FFA15A\", \"#19d3f3\", \"#FF6692\", \"#B6E880\", \"#FF97FF\", \"#FECB52\"], \"font\": {\"color\": \"#2a3f5f\"}, \"geo\": {\"bgcolor\": \"white\", \"lakecolor\": \"white\", \"landcolor\": \"#E5ECF6\", \"showlakes\": true, \"showland\": true, \"subunitcolor\": \"white\"}, \"hoverlabel\": {\"align\": \"left\"}, \"hovermode\": \"closest\", \"mapbox\": {\"style\": \"light\"}, \"paper_bgcolor\": \"white\", \"plot_bgcolor\": \"#E5ECF6\", \"polar\": {\"angularaxis\": {\"gridcolor\": \"white\", \"linecolor\": \"white\", \"ticks\": \"\"}, \"bgcolor\": \"#E5ECF6\", \"radialaxis\": {\"gridcolor\": \"white\", \"linecolor\": \"white\", \"ticks\": \"\"}}, \"scene\": {\"xaxis\": {\"backgroundcolor\": \"#E5ECF6\", \"gridcolor\": \"white\", \"gridwidth\": 2, \"linecolor\": \"white\", \"showbackground\": true, \"ticks\": \"\", \"zerolinecolor\": \"white\"}, \"yaxis\": {\"backgroundcolor\": \"#E5ECF6\", \"gridcolor\": \"white\", \"gridwidth\": 2, \"linecolor\": \"white\", \"showbackground\": true, \"ticks\": \"\", \"zerolinecolor\": \"white\"}, \"zaxis\": {\"backgroundcolor\": \"#E5ECF6\", \"gridcolor\": \"white\", \"gridwidth\": 2, \"linecolor\": \"white\", \"showbackground\": true, \"ticks\": \"\", \"zerolinecolor\": \"white\"}}, \"shapedefaults\": {\"line\": {\"color\": \"#2a3f5f\"}}, \"ternary\": {\"aaxis\": {\"gridcolor\": \"white\", \"linecolor\": \"white\", \"ticks\": \"\"}, \"baxis\": {\"gridcolor\": \"white\", \"linecolor\": \"white\", \"ticks\": \"\"}, \"bgcolor\": \"#E5ECF6\", \"caxis\": {\"gridcolor\": \"white\", \"linecolor\": \"white\", \"ticks\": \"\"}}, \"title\": {\"x\": 0.05}, \"xaxis\": {\"automargin\": true, \"gridcolor\": \"white\", \"linecolor\": \"white\", \"ticks\": \"\", \"title\": {\"standoff\": 15}, \"zerolinecolor\": \"white\", \"zerolinewidth\": 2}, \"yaxis\": {\"automargin\": true, \"gridcolor\": \"white\", \"linecolor\": \"white\", \"ticks\": \"\", \"title\": {\"standoff\": 15}, \"zerolinecolor\": \"white\", \"zerolinewidth\": 2}}}, \"title\": {\"text\": \"Country\"}},\n",
              "                        {\"responsive\": true}\n",
              "                    ).then(function(){\n",
              "                            \n",
              "var gd = document.getElementById('5b9def1d-26e3-4d8c-b8b0-6d3786c6594c');\n",
              "var x = new MutationObserver(function (mutations, observer) {{\n",
              "        var display = window.getComputedStyle(gd).display;\n",
              "        if (!display || display === 'none') {{\n",
              "            console.log([gd, 'removed!']);\n",
              "            Plotly.purge(gd);\n",
              "            observer.disconnect();\n",
              "        }}\n",
              "}});\n",
              "\n",
              "// Listen for the removal of the full notebook cells\n",
              "var notebookContainer = gd.closest('#notebook-container');\n",
              "if (notebookContainer) {{\n",
              "    x.observe(notebookContainer, {childList: true});\n",
              "}}\n",
              "\n",
              "// Listen for the clearing of the current output cell\n",
              "var outputEl = gd.closest('.output');\n",
              "if (outputEl) {{\n",
              "    x.observe(outputEl, {childList: true});\n",
              "}}\n",
              "\n",
              "                        })\n",
              "                };\n",
              "                \n",
              "            </script>\n",
              "        </div>\n",
              "</body>\n",
              "</html>"
            ]
          },
          "metadata": {
            "tags": []
          }
        }
      ]
    },
    {
      "cell_type": "markdown",
      "metadata": {
        "id": "C8bOKAKDO_oK"
      },
      "source": [
        "# **Doanh nghiệp nên quảng cáo vào khung giờ nào để tăng doanh thu?**"
      ]
    },
    {
      "cell_type": "code",
      "metadata": {
        "id": "4Mkjri_cVMeH"
      },
      "source": [
        "gr_hour = data.groupby(\"Hour\").count()[\"TotalCost\"]\n",
        "gr_hour.max()\n",
        "hour = [hour for hour, totalcost in gr_hour.items()]\n"
      ],
      "execution_count": 283,
      "outputs": []
    },
    {
      "cell_type": "code",
      "metadata": {
        "colab": {
          "base_uri": "https://localhost:8080/",
          "height": 295
        },
        "id": "ioqq-Vt9PsxM",
        "outputId": "f45a694f-419e-4055-b6b5-70488c574c21"
      },
      "source": [
        "plt.plot(hour, gr_hour)\n",
        "plt.grid()\n",
        "plt.xticks(hour, rotation = 90, size=8)\n",
        "plt.xlabel(\"Time\")\n",
        "plt.ylabel(\"TotalCost\")\n"
      ],
      "execution_count": 284,
      "outputs": [
        {
          "output_type": "execute_result",
          "data": {
            "text/plain": [
              "Text(0, 0.5, 'TotalCost')"
            ]
          },
          "metadata": {
            "tags": []
          },
          "execution_count": 284
        },
        {
          "output_type": "display_data",
          "data": {
            "image/png": "[encoded data removed]",
            "text/plain": [
              "<Figure size 432x288 with 1 Axes>"
            ]
          },
          "metadata": {
            "tags": [],
            "needs_background": "light"
          }
        }
      ]
    },
    {
      "cell_type": "markdown",
      "metadata": {
        "id": "6w462q1iWgRz"
      },
      "source": [
        "# **Sản phẩm nào bán chạy nhất và tại sao?**"
      ]
    },
    {
      "cell_type": "code",
      "metadata": {
        "colab": {
          "base_uri": "https://localhost:8080/",
          "height": 190
        },
        "id": "fkQtl-sCW3iH",
        "outputId": "7ddc6203-f13d-496f-b8ba-c40e79e13529"
      },
      "source": [
        "data.head()"
      ],
      "execution_count": 285,
      "outputs": [
        {
          "output_type": "execute_result",
          "data": {
            "text/html": [
              "<div>\n",
              "<style scoped>\n",
              "    .dataframe tbody tr th:only-of-type {\n",
              "        vertical-align: middle;\n",
              "    }\n",
              "\n",
              "    .dataframe tbody tr th {\n",
              "        vertical-align: top;\n",
              "    }\n",
              "\n",
              "    .dataframe thead th {\n",
              "        text-align: right;\n",
              "    }\n",
              "</style>\n",
              "<table border=\"1\" class=\"dataframe\">\n",
              "  <thead>\n",
              "    <tr style=\"text-align: right;\">\n",
              "      <th></th>\n",
              "      <th>InvoiceNo</th>\n",
              "      <th>StockCode</th>\n",
              "      <th>Description</th>\n",
              "      <th>Quantity</th>\n",
              "      <th>UnitPrice</th>\n",
              "      <th>TotalCost</th>\n",
              "      <th>CustomerID</th>\n",
              "      <th>InvoiceDate</th>\n",
              "      <th>Country</th>\n",
              "      <th>Date</th>\n",
              "      <th>Time</th>\n",
              "      <th>Hour</th>\n",
              "      <th>Month</th>\n",
              "      <th>Year</th>\n",
              "    </tr>\n",
              "  </thead>\n",
              "  <tbody>\n",
              "    <tr>\n",
              "      <th>0</th>\n",
              "      <td>536365</td>\n",
              "      <td>85123A</td>\n",
              "      <td>WHITE HANGING HEART T-LIGHT HOLDER</td>\n",
              "      <td>6</td>\n",
              "      <td>2.55</td>\n",
              "      <td>15.30</td>\n",
              "      <td>17850.0</td>\n",
              "      <td>12/1/2010 8:26</td>\n",
              "      <td>United Kingdom</td>\n",
              "      <td>12/1/2010</td>\n",
              "      <td>8:26</td>\n",
              "      <td>8</td>\n",
              "      <td>12</td>\n",
              "      <td>2010</td>\n",
              "    </tr>\n",
              "    <tr>\n",
              "      <th>1</th>\n",
              "      <td>536365</td>\n",
              "      <td>71053</td>\n",
              "      <td>WHITE METAL LANTERN</td>\n",
              "      <td>6</td>\n",
              "      <td>3.39</td>\n",
              "      <td>20.34</td>\n",
              "      <td>17850.0</td>\n",
              "      <td>12/1/2010 8:26</td>\n",
              "      <td>United Kingdom</td>\n",
              "      <td>12/1/2010</td>\n",
              "      <td>8:26</td>\n",
              "      <td>8</td>\n",
              "      <td>12</td>\n",
              "      <td>2010</td>\n",
              "    </tr>\n",
              "    <tr>\n",
              "      <th>2</th>\n",
              "      <td>536365</td>\n",
              "      <td>84406B</td>\n",
              "      <td>CREAM CUPID HEARTS COAT HANGER</td>\n",
              "      <td>8</td>\n",
              "      <td>2.75</td>\n",
              "      <td>22.00</td>\n",
              "      <td>17850.0</td>\n",
              "      <td>12/1/2010 8:26</td>\n",
              "      <td>United Kingdom</td>\n",
              "      <td>12/1/2010</td>\n",
              "      <td>8:26</td>\n",
              "      <td>8</td>\n",
              "      <td>12</td>\n",
              "      <td>2010</td>\n",
              "    </tr>\n",
              "    <tr>\n",
              "      <th>3</th>\n",
              "      <td>536365</td>\n",
              "      <td>84029G</td>\n",
              "      <td>KNITTED UNION FLAG HOT WATER BOTTLE</td>\n",
              "      <td>6</td>\n",
              "      <td>3.39</td>\n",
              "      <td>20.34</td>\n",
              "      <td>17850.0</td>\n",
              "      <td>12/1/2010 8:26</td>\n",
              "      <td>United Kingdom</td>\n",
              "      <td>12/1/2010</td>\n",
              "      <td>8:26</td>\n",
              "      <td>8</td>\n",
              "      <td>12</td>\n",
              "      <td>2010</td>\n",
              "    </tr>\n",
              "    <tr>\n",
              "      <th>4</th>\n",
              "      <td>536365</td>\n",
              "      <td>84029E</td>\n",
              "      <td>RED WOOLLY HOTTIE WHITE HEART.</td>\n",
              "      <td>6</td>\n",
              "      <td>3.39</td>\n",
              "      <td>20.34</td>\n",
              "      <td>17850.0</td>\n",
              "      <td>12/1/2010 8:26</td>\n",
              "      <td>United Kingdom</td>\n",
              "      <td>12/1/2010</td>\n",
              "      <td>8:26</td>\n",
              "      <td>8</td>\n",
              "      <td>12</td>\n",
              "      <td>2010</td>\n",
              "    </tr>\n",
              "  </tbody>\n",
              "</table>\n",
              "</div>"
            ],
            "text/plain": [
              "   InvoiceNo StockCode                          Description  ...  Hour  Month  Year\n",
              "0     536365    85123A   WHITE HANGING HEART T-LIGHT HOLDER  ...     8     12  2010\n",
              "1     536365     71053                  WHITE METAL LANTERN  ...     8     12  2010\n",
              "2     536365    84406B       CREAM CUPID HEARTS COAT HANGER  ...     8     12  2010\n",
              "3     536365    84029G  KNITTED UNION FLAG HOT WATER BOTTLE  ...     8     12  2010\n",
              "4     536365    84029E       RED WOOLLY HOTTIE WHITE HEART.  ...     8     12  2010\n",
              "\n",
              "[5 rows x 14 columns]"
            ]
          },
          "metadata": {
            "tags": []
          },
          "execution_count": 285
        }
      ]
    },
    {
      "cell_type": "code",
      "metadata": {
        "colab": {
          "base_uri": "https://localhost:8080/"
        },
        "id": "XjAW6slljoXv",
        "outputId": "1348ee26-37ce-466c-e4b3-ee3f35186907"
      },
      "source": [
        "all_products_pri =  data.groupby(\"StockCode\").mean()[\"UnitPrice\"]\n",
        "all_products_pri.shape"
      ],
      "execution_count": 286,
      "outputs": [
        {
          "output_type": "execute_result",
          "data": {
            "text/plain": [
              "(3665,)"
            ]
          },
          "metadata": {
            "tags": []
          },
          "execution_count": 286
        }
      ]
    },
    {
      "cell_type": "code",
      "metadata": {
        "colab": {
          "base_uri": "https://localhost:8080/"
        },
        "id": "7q75XGaoWfXY",
        "outputId": "ef5edc16-4d28-47fd-b4fe-091f853a1648"
      },
      "source": [
        "all_products= data.groupby(\"StockCode\").sum()['Quantity']\n",
        "all_products\n",
        "\n"
      ],
      "execution_count": 287,
      "outputs": [
        {
          "output_type": "execute_result",
          "data": {
            "text/plain": [
              "StockCode\n",
              "10002      823\n",
              "10080      291\n",
              "10120      193\n",
              "10123C       5\n",
              "10124A      16\n",
              "          ... \n",
              "C2         134\n",
              "DOT         16\n",
              "M         7179\n",
              "PADS         4\n",
              "POST      3120\n",
              "Name: Quantity, Length: 3665, dtype: int64"
            ]
          },
          "metadata": {
            "tags": []
          },
          "execution_count": 287
        }
      ]
    },
    {
      "cell_type": "code",
      "metadata": {
        "colab": {
          "base_uri": "https://localhost:8080/"
        },
        "id": "GqeAxETRkn3g",
        "outputId": "0cbad630-2928-4b6e-a77b-e3011e061a67"
      },
      "source": [
        "product_ls = [StockCode for StockCode, Quantity in all_products.items()]\n",
        "quan_ls = [int(Quantity) for StockCode, Quantity in all_products.items()]\n",
        "price_ls = [UnitPrice for StockCode, UnitPrice in all_products_pri.items()]\n",
        "\n",
        "arr_quan_pro=[]\n",
        "arr_quan_pro.append(quan_ls)\n",
        "arr_quan_pro.append(product_ls)\n",
        "arr_quan_pro.append(price_ls)\n",
        "all_products.shape"
      ],
      "execution_count": 288,
      "outputs": [
        {
          "output_type": "execute_result",
          "data": {
            "text/plain": [
              "(3665,)"
            ]
          },
          "metadata": {
            "tags": []
          },
          "execution_count": 288
        }
      ]
    },
    {
      "cell_type": "code",
      "metadata": {
        "colab": {
          "base_uri": "https://localhost:8080/"
        },
        "id": "a9HNif6lXfO5",
        "outputId": "ee06eab6-da23-4140-9b1c-58d753a0b53d"
      },
      "source": [
        "ind = np.argpartition(arr_quan_pro[0], -10)[-10:]\n",
        "print(ind[1])\n",
        "print( \"MÃ sản phẩm\", \" | \", \"Số lượng đã bán\", \" |   Giá\")\n",
        "for i in ind:\n",
        "  print(arr_quan_pro[1][i], \" : \\t\", arr_quan_pro[0][i], \" :      \\t\",arr_quan_pro[2][i])"
      ],
      "execution_count": 289,
      "outputs": [
        {
          "output_type": "stream",
          "text": [
            "1919\n",
            "MÃ sản phẩm  |  Số lượng đã bán  |   Giá\n",
            "22492  : \t 26076  :      \t 0.6565230769230804\n",
            "23084  : \t 27202  :      \t 2.0139429928740933\n",
            "21212  : \t 33693  :      \t 0.5482116104868929\n",
            "84879  : \t 35362  :      \t 1.6807954545454948\n",
            "85123A  : \t 36782  :      \t 2.89310565110558\n",
            "84077  : \t 54415  :      \t 0.29260042283298265\n",
            "23843  : \t 80995  :      \t 2.08\n",
            "85099B  : \t 46181  :      \t 2.015877626699588\n",
            "22197  : \t 49183  :      \t 0.8392883895131239\n",
            "23166  : \t 77916  :      \t 1.22030303030303\n"
          ],
          "name": "stdout"
        }
      ]
    },
    {
      "cell_type": "code",
      "metadata": {
        "colab": {
          "base_uri": "https://localhost:8080/"
        },
        "id": "OSFpFBjPgpuJ",
        "outputId": "20b3b05b-5952-4a82-e75f-c7bef48c2a46"
      },
      "source": [
        "for i in range(len(data[\"StockCode\"])):\n",
        "  if data[\"StockCode\"][i] == '23843' :\n",
        "    print(data[\"Description\"][i])\n",
        "\n"
      ],
      "execution_count": 290,
      "outputs": [
        {
          "output_type": "stream",
          "text": [
            "PAPER CRAFT , LITTLE BIRDIE\n"
          ],
          "name": "stdout"
        }
      ]
    },
    {
      "cell_type": "markdown",
      "metadata": {
        "id": "U5YOGgSCfna-"
      },
      "source": [
        "\n",
        "-----------------------------------------------------------------\n",
        "\n",
        "---\n",
        "\n",
        "\n",
        "\n",
        "---\n",
        "\n",
        "\n",
        "\n",
        "---\n",
        "\n",
        "\n",
        "\n",
        "---\n",
        "\n"
      ]
    },
    {
      "cell_type": "code",
      "metadata": {
        "id": "h5vUZCgffnCe"
      },
      "source": [
        ""
      ],
      "execution_count": null,
      "outputs": []
    },
    {
      "cell_type": "code",
      "metadata": {
        "id": "rf_ftbaD6EMy"
      },
      "source": [
        "plt.rcParams['figure.figsize'] = (15, 5)\n",
        "data.plot(x = 'InvoiceDate', y = 'TotalCost')\n",
        "plt.title(\"Time Series Analysis of Sales\", fontsize = 20)\n",
        "plt.xlabel('Date of Purchase')\n",
        "plt.ylabel('TotalCost')\n",
        "plt.show()"
      ],
      "execution_count": null,
      "outputs": []
    },
    {
      "cell_type": "markdown",
      "metadata": {
        "id": "Iqg7ssOMDXE6"
      },
      "source": [
        "Thời gian mua hàng "
      ]
    },
    {
      "cell_type": "code",
      "metadata": {
        "id": "SZ0Zpcze7nqI"
      },
      "source": [
        "# time-series plot for Australia\n",
        "\n",
        "dataset = data[data['Country'] == 'Australia']\n",
        "dataset.plot(x = 'InvoiceDate', y = 'TotalCost')\n",
        "plt.title('Time-Series for Australia', fontsize = 20)\n",
        "plt.xlabel('Date of Purchase')\n",
        "plt.ylabel('TotalCost Amount')\n",
        "plt.show()"
      ],
      "execution_count": null,
      "outputs": []
    },
    {
      "cell_type": "code",
      "metadata": {
        "id": "rNGDb5IZXxhl"
      },
      "source": [
        "from wordcloud import WordCloud\n",
        "from wordcloud import STOPWORDS\n",
        "\n",
        "stopwords = set(STOPWORDS)\n",
        "wordcloud = WordCloud(background_color = 'white', width = 900, height = 900).generate(str(data['Description']))\n",
        "\n",
        "print(wordcloud)\n",
        "plt.rcParams['figure.figsize'] = (12, 12)\n",
        "plt.axis('off')\n",
        "plt.imshow(wordcloud)\n",
        "plt.title('Most Occuring word in the Description list', fontsize = 20)\n",
        "plt.show()"
      ],
      "execution_count": null,
      "outputs": []
    },
    {
      "cell_type": "code",
      "metadata": {
        "id": "JGUteW4sawFR"
      },
      "source": [
        "data = [go.Bar(x = data['Country'].unique(), y = data['Country'].value_counts(),marker={'color': data['Country'].value_counts(),'colorscale': 'Viridis'})]\n",
        "layout = go.Layout(title = 'Country')\n",
        "fig = go.Figure(data = data, layout = layout)\n",
        "fig.show()"
      ],
      "execution_count": null,
      "outputs": []
    },
    {
      "cell_type": "markdown",
      "metadata": {
        "id": "hyIG0OmUGcls"
      },
      "source": [
        "#Tìm độ chêch lệch trên trục dữ liệu\n",
        "Thống kê trong 1 ngày, tần số (Frequency) và lần mua gần nhất số lượng bao nhiêu (Recency) và số tiền thu nhập (Monetary) theo khách hàng."
      ]
    },
    {
      "cell_type": "code",
      "metadata": {
        "id": "XluL_eeZKHdc"
      },
      "source": [
        "#tính lần mua gần nhất\n",
        "data['InvoiceDate']=pd.to_datetime(data['InvoiceDate'])\n",
        "data['InvoiceDate'].max()"
      ],
      "execution_count": null,
      "outputs": []
    },
    {
      "cell_type": "code",
      "metadata": {
        "id": "EvLsQp3JMA54"
      },
      "source": [
        "#Tính toán các yếu tố trong mô hình RFM\n",
        "data['TotalAmount'] = data['UnitPrice']*data['Quantity']\n",
        "\n",
        "Latest_date = dt.datetime(2011,12,10)\n",
        "RFM_data = data.groupby('CustomerID').agg({'InvoiceDate' : lambda x :(Latest_date - x.max()).days,\n",
        "                                          'InvoiceNo' : 'count','TotalAmount' : 'sum'}).reset_index()\n",
        "\n",
        "RFM_data.rename(columns = {'InvoiceDate' : 'Recency',\n",
        "                          'InvoiceNo' : \"Frequency\",\n",
        "                          'TotalAmount' : \"Monetary\"},inplace = True)\n",
        "RFM_data"
      ],
      "execution_count": null,
      "outputs": []
    },
    {
      "cell_type": "code",
      "metadata": {
        "id": "S6wp6JynNPxU"
      },
      "source": [
        "#Trực quan phân phối Recency, Frequency and Monetary.\n",
        "i = 0\n",
        "fig = plt.figure(constrained_layout = True,figsize = (20,5))\n",
        "gs = GridSpec(1, 3, figure=fig)    \n",
        "\n",
        "col = ['red','blue','green']\n",
        "for var in list(RFM_data.columns[1:4]):\n",
        "    plt.subplot(gs[0,i])\n",
        "    sns.distplot(RFM_data[var],color= col[i])\n",
        "    plt.title('Skewness ' + ': ' + round(RFM_data[var].skew(),2).astype(str))\n",
        "    i= i+1"
      ],
      "execution_count": null,
      "outputs": []
    }
  ]
}