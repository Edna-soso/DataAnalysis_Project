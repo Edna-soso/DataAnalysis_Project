{
  "nbformat": 4,
  "nbformat_minor": 0,
  "metadata": {
    "colab": {
      "name": "Data_Understand.ipynb",
      "provenance": [],
      "include_colab_link": true
    },
    "kernelspec": {
      "name": "python3",
      "display_name": "Python 3"
    },
    "language_info": {
      "name": "python"
    }
  },
  "cells": [
    {
      "cell_type": "markdown",
      "metadata": {
        "id": "view-in-github",
        "colab_type": "text"
      },
      "source": [
        "<a href=\"https://colab.research.google.com/github/Edna-soso/DataAnalysis_Project/blob/main/Data_Understand/Data_Understand.ipynb\" target=\"_parent\"><img src=\"https://colab.research.google.com/assets/colab-badge.svg\" alt=\"Open In Colab\"/></a>"
      ]
    },
    {
      "cell_type": "code",
      "metadata": {
        "colab": {
          "base_uri": "https://localhost:8080/"
        },
        "id": "XOzAs-T5H6Kg",
        "outputId": "0cc6615d-4021-44d7-daf0-603d60f4bd9e"
      },
      "source": [
        "from google.colab import drive\n",
        "drive.mount('/content/drive')"
      ],
      "execution_count": 2,
      "outputs": [
        {
          "output_type": "stream",
          "text": [
            "Mounted at /content/drive\n"
          ],
          "name": "stdout"
        }
      ]
    },
    {
      "cell_type": "code",
      "metadata": {
        "id": "5LpqBCt_JKHp"
      },
      "source": [
        "from google.colab import files"
      ],
      "execution_count": 3,
      "outputs": []
    },
    {
      "cell_type": "code",
      "metadata": {
        "colab": {
          "base_uri": "https://localhost:8080/"
        },
        "id": "_udqgpZvJQoW",
        "outputId": "809436f8-b7a5-4cb0-cb5a-b014c1f20ed3"
      },
      "source": [
        "import pandas as pd\n",
        "data = pd.read_csv('/content/drive/MyDrive/python_OP/OnlineRetail.csv', encoding = 'unicode_escape')\n",
        "\n",
        "print(data.shape)"
      ],
      "execution_count": 4,
      "outputs": [
        {
          "output_type": "stream",
          "text": [
            "(541909, 8)\n"
          ],
          "name": "stdout"
        }
      ]
    },
    {
      "cell_type": "code",
      "metadata": {
        "id": "iuGHAQUsTmLx"
      },
      "source": [
        "class data_understand:\n",
        "  def __init__(self, data):\n",
        "    self.data = data\n",
        "  def basic_info(self):\n",
        "    while(True):\n",
        "      choice= int(input('*'*15+\"Basic_Info\"+ '*'*15+\"\\n1.The first five rows\\n2.List colunms\\n3.Sum of NaN values\\n4.Showing Basics Statistics\\n5.Displaying Data Types\\n6.Exis\\n\"))\n",
        "      if choice == 1:\n",
        "        print(data.head())\n",
        "      elif choice == 2:\n",
        "        print(list(data.columns))\n",
        "      elif choice ==3:\n",
        "        print(data.isna().sum())   \n",
        "      elif choice ==4:\n",
        "        print(data.describe())   \n",
        "      elif choice ==5:\n",
        "        print(data.info()) \n",
        "      else:\n",
        "        break\n",
        "\n",
        "  def count_customer_country(self):\n",
        "    country_data = data[['Country','CustomerID']].drop_duplicates()\n",
        "    return country_data.groupby(['Country']).agg({'CustomerID' : 'count'}).sort_values('CustomerID',ascending = False).reset_index().rename(columns = {'CustomerID':'CustomerID Count'})\n",
        "    \n",
        "  def count_country(self):\n",
        "    return data['Country'].value_counts()\n",
        "  "
      ],
      "execution_count": 63,
      "outputs": []
    },
    {
      "cell_type": "code",
      "metadata": {
        "colab": {
          "base_uri": "https://localhost:8080/"
        },
        "id": "8nsMoZrxVOwV",
        "outputId": "6b46ab12-7907-48b4-8160-6383223c6908"
      },
      "source": [
        "df=data_understand(data)\n",
        "df.basic_info()\n"
      ],
      "execution_count": 64,
      "outputs": [
        {
          "output_type": "stream",
          "text": [
            "***************Basic_Info***************\n",
            "1.The first five rows\n",
            "2.List colunms\n",
            "3.Sum of NaN values\n",
            "4.Showing Basics Statistics\n",
            "5.Displaying Data Types\n",
            "6.Exis\n",
            "8\n"
          ],
          "name": "stdout"
        }
      ]
    },
    {
      "cell_type": "code",
      "metadata": {
        "id": "gL_HJqnBAzZr"
      },
      "source": [
        ""
      ],
      "execution_count": null,
      "outputs": []
    }
  ]
}